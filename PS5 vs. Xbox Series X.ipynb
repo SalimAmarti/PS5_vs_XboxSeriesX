{
 "cells": [
  {
   "cell_type": "markdown",
   "metadata": {},
   "source": [
    "# Imports"
   ]
  },
  {
   "cell_type": "code",
   "execution_count": 18,
   "metadata": {},
   "outputs": [],
   "source": [
    "import pandas as pd\n",
    "import matplotlib.pyplot as plt\n",
    "import numpy as np"
   ]
  },
  {
   "cell_type": "markdown",
   "metadata": {},
   "source": [
    "# YouTube data scraping"
   ]
  },
  {
   "cell_type": "code",
   "execution_count": 19,
   "metadata": {},
   "outputs": [],
   "source": [
    "import time\n",
    "from selenium.webdriver import Chrome\n",
    "from selenium.webdriver.common.by import By\n",
    "from selenium.webdriver.common.keys import Keys\n",
    "from selenium.webdriver.support.ui import WebDriverWait\n",
    "from selenium.webdriver.support import expected_conditions as EC"
   ]
  },
  {
   "cell_type": "code",
   "execution_count": 24,
   "metadata": {},
   "outputs": [],
   "source": [
    "data=[]\n",
    "\n",
    "with Chrome(executable_path=r'/Users/Perso/Downloads/chromedriver') as driver:\n",
    "    wait = WebDriverWait(driver,15)\n",
    "    driver.get(\"https://www.youtube.com/watch?v=urhdL1hq1yM\")\n",
    "\n",
    "    for item in range(20):\n",
    "        try:\n",
    "            wait.until(EC.visibility_of_element_located((By.TAG_NAME, \"body\"))).send_keys(Keys.END)\n",
    "            time.sleep(15)\n",
    "        except:\n",
    "            continue\n",
    "\n",
    "    for comment in wait.until(EC.presence_of_all_elements_located((By.CSS_SELECTOR, \"#content\"))):\n",
    "        try:\n",
    "            data.append(comment.text)\n",
    "        except:\n",
    "            continue"
   ]
  },
  {
   "cell_type": "code",
   "execution_count": 22,
   "metadata": {},
   "outputs": [],
   "source": [
    "df = pd.DataFrame(data, columns=['comment'])"
   ]
  },
  {
   "cell_type": "code",
   "execution_count": 23,
   "metadata": {},
   "outputs": [
    {
     "data": {
      "text/html": [
       "<div>\n",
       "<style scoped>\n",
       "    .dataframe tbody tr th:only-of-type {\n",
       "        vertical-align: middle;\n",
       "    }\n",
       "\n",
       "    .dataframe tbody tr th {\n",
       "        vertical-align: top;\n",
       "    }\n",
       "\n",
       "    .dataframe thead th {\n",
       "        text-align: right;\n",
       "    }\n",
       "</style>\n",
       "<table border=\"1\" class=\"dataframe\">\n",
       "  <thead>\n",
       "    <tr style=\"text-align: right;\">\n",
       "      <th></th>\n",
       "      <th>comment</th>\n",
       "    </tr>\n",
       "  </thead>\n",
       "  <tbody>\n",
       "    <tr>\n",
       "      <td>0</td>\n",
       "      <td>CH\\nIGNORER LES LIENS DE NAVIGATION\\nSE CONNEC...</td>\n",
       "    </tr>\n",
       "    <tr>\n",
       "      <td>1</td>\n",
       "      <td>Une nouvelle arrivante dans une catégorie que ...</td>\n",
       "    </tr>\n",
       "    <tr>\n",
       "      <td>2</td>\n",
       "      <td>Oh bon sang, première fois que je suis aussi c...</td>\n",
       "    </tr>\n",
       "    <tr>\n",
       "      <td>3</td>\n",
       "      <td>C’est quoi cette voix off on dirait un présent...</td>\n",
       "    </tr>\n",
       "    <tr>\n",
       "      <td>4</td>\n",
       "      <td>C'est la première fois que j'adore une moto ja...</td>\n",
       "    </tr>\n",
       "    <tr>\n",
       "      <td>5</td>\n",
       "      <td>oh oui oui oui !!! Enfin elle est là !!!\\nMerc...</td>\n",
       "    </tr>\n",
       "    <tr>\n",
       "      <td>6</td>\n",
       "      <td>Enfin le test !!😍🔥</td>\n",
       "    </tr>\n",
       "    <tr>\n",
       "      <td>7</td>\n",
       "      <td>Medhi a été puni? :)</td>\n",
       "    </tr>\n",
       "    <tr>\n",
       "      <td>8</td>\n",
       "      <td>Enfin une moto, cool merci. \\nJ adore le jaune</td>\n",
       "    </tr>\n",
       "    <tr>\n",
       "      <td>9</td>\n",
       "      <td>Merci Philippe pour réussir à traduire  aussi ...</td>\n",
       "    </tr>\n",
       "    <tr>\n",
       "      <td>10</td>\n",
       "      <td>Le test que j'attendais 😱</td>\n",
       "    </tr>\n",
       "    <tr>\n",
       "      <td>11</td>\n",
       "      <td>Merci Philippe pour cet essai.\\n\\nElle est bie...</td>\n",
       "    </tr>\n",
       "    <tr>\n",
       "      <td>12</td>\n",
       "      <td>Elle est sympa cette bécane. Et enfin une spor...</td>\n",
       "    </tr>\n",
       "    <tr>\n",
       "      <td>13</td>\n",
       "      <td>Vivement le roadster !! 🤤🤤🤤</td>\n",
       "    </tr>\n",
       "    <tr>\n",
       "      <td>14</td>\n",
       "      <td>c'est vraiment une selle derrière ? \\nmerci po...</td>\n",
       "    </tr>\n",
       "    <tr>\n",
       "      <td>15</td>\n",
       "      <td>Super belle moto et belle couleur en jaune j'a...</td>\n",
       "    </tr>\n",
       "    <tr>\n",
       "      <td>16</td>\n",
       "      <td>Nous aussi on aimerais bien vous revoir sur ce...</td>\n",
       "    </tr>\n",
       "    <tr>\n",
       "      <td>17</td>\n",
       "      <td>Aprilia a osé une vraie sportive moderne et pe...</td>\n",
       "    </tr>\n",
       "    <tr>\n",
       "      <td>18</td>\n",
       "      <td>Çaaa ? Je kiiiiifffe !</td>\n",
       "    </tr>\n",
       "    <tr>\n",
       "      <td>19</td>\n",
       "      <td>Le bruit de mon réveil matin.....</td>\n",
       "    </tr>\n",
       "    <tr>\n",
       "      <td>20</td>\n",
       "      <td>Merci Philippe pour ce test !  Moi perso du mo...</td>\n",
       "    </tr>\n",
       "    <tr>\n",
       "      <td>21</td>\n",
       "      <td>Cour mais encore un super test\\nQue ça soit to...</td>\n",
       "    </tr>\n",
       "    <tr>\n",
       "      <td>22</td>\n",
       "      <td>RIP Annie😪</td>\n",
       "    </tr>\n",
       "    <tr>\n",
       "      <td>23</td>\n",
       "      <td>Elle existe en version A2 ?</td>\n",
       "    </tr>\n",
       "    <tr>\n",
       "      <td>24</td>\n",
       "      <td>un anti wheeling utile avec que 100cv??</td>\n",
       "    </tr>\n",
       "    <tr>\n",
       "      <td>25</td>\n",
       "      <td>Rosso corsa 2?</td>\n",
       "    </tr>\n",
       "    <tr>\n",
       "      <td>26</td>\n",
       "      <td>pour 9000 euros t'as une cbr avec 95 cv ( et c...</td>\n",
       "    </tr>\n",
       "    <tr>\n",
       "      <td>27</td>\n",
       "      <td>Je l'attendais ce test. j'en avais croisé en i...</td>\n",
       "    </tr>\n",
       "    <tr>\n",
       "      <td>28</td>\n",
       "      <td>C’est une selle passager le truc derrière ?</td>\n",
       "    </tr>\n",
       "    <tr>\n",
       "      <td>29</td>\n",
       "      <td>Que dire ?\\nBelle machine, très belle machine,...</td>\n",
       "    </tr>\n",
       "    <tr>\n",
       "      <td>30</td>\n",
       "      <td></td>\n",
       "    </tr>\n",
       "    <tr>\n",
       "      <td>31</td>\n",
       "      <td></td>\n",
       "    </tr>\n",
       "  </tbody>\n",
       "</table>\n",
       "</div>"
      ],
      "text/plain": [
       "                                              comment\n",
       "0   CH\\nIGNORER LES LIENS DE NAVIGATION\\nSE CONNEC...\n",
       "1   Une nouvelle arrivante dans une catégorie que ...\n",
       "2   Oh bon sang, première fois que je suis aussi c...\n",
       "3   C’est quoi cette voix off on dirait un présent...\n",
       "4   C'est la première fois que j'adore une moto ja...\n",
       "5   oh oui oui oui !!! Enfin elle est là !!!\\nMerc...\n",
       "6                                  Enfin le test !!😍🔥\n",
       "7                                Medhi a été puni? :)\n",
       "8      Enfin une moto, cool merci. \\nJ adore le jaune\n",
       "9   Merci Philippe pour réussir à traduire  aussi ...\n",
       "10                          Le test que j'attendais 😱\n",
       "11  Merci Philippe pour cet essai.\\n\\nElle est bie...\n",
       "12  Elle est sympa cette bécane. Et enfin une spor...\n",
       "13                        Vivement le roadster !! 🤤🤤🤤\n",
       "14  c'est vraiment une selle derrière ? \\nmerci po...\n",
       "15  Super belle moto et belle couleur en jaune j'a...\n",
       "16  Nous aussi on aimerais bien vous revoir sur ce...\n",
       "17  Aprilia a osé une vraie sportive moderne et pe...\n",
       "18                             Çaaa ? Je kiiiiifffe !\n",
       "19                  Le bruit de mon réveil matin.....\n",
       "20  Merci Philippe pour ce test !  Moi perso du mo...\n",
       "21  Cour mais encore un super test\\nQue ça soit to...\n",
       "22                                         RIP Annie😪\n",
       "23                        Elle existe en version A2 ?\n",
       "24            un anti wheeling utile avec que 100cv??\n",
       "25                                     Rosso corsa 2?\n",
       "26  pour 9000 euros t'as une cbr avec 95 cv ( et c...\n",
       "27  Je l'attendais ce test. j'en avais croisé en i...\n",
       "28        C’est une selle passager le truc derrière ?\n",
       "29  Que dire ?\\nBelle machine, très belle machine,...\n",
       "30                                                   \n",
       "31                                                   "
      ]
     },
     "execution_count": 23,
     "metadata": {},
     "output_type": "execute_result"
    }
   ],
   "source": [
    "df.head(60)"
   ]
  },
  {
   "cell_type": "code",
   "execution_count": null,
   "metadata": {},
   "outputs": [],
   "source": []
  },
  {
   "cell_type": "code",
   "execution_count": null,
   "metadata": {},
   "outputs": [],
   "source": []
  },
  {
   "cell_type": "code",
   "execution_count": null,
   "metadata": {},
   "outputs": [],
   "source": []
  },
  {
   "cell_type": "code",
   "execution_count": null,
   "metadata": {},
   "outputs": [],
   "source": []
  },
  {
   "cell_type": "code",
   "execution_count": null,
   "metadata": {},
   "outputs": [],
   "source": []
  },
  {
   "cell_type": "markdown",
   "metadata": {},
   "source": [
    "# YouTube data extraction"
   ]
  },
  {
   "cell_type": "markdown",
   "metadata": {},
   "source": [
    "At first, I wanted to analyze all PS5 and Xbox tweets in September as many announcements occured that month (price, games, etc.). But it was too difficult for me to get the Twitter data. The API limitations only let me have access to the last 7 days of data. I also had a look at the scrapers (Twint, tweetscraper, GetOldTweets3, etc.) but they were all down for some reasons...\n",
    "Therefore, I decided to change a bit the scope of the project.\n",
    "\n",
    "I will have a look at the YouTube comments of both PS5 and Xbox games showcases.\n",
    "The PS5 showcase occured on the 16th of September while the Xbox Series X showcase occured on the 23rd of July."
   ]
  },
  {
   "cell_type": "markdown",
   "metadata": {},
   "source": [
    "For Xbox data, I first used a website called Coberry to get the data from the Xbox showcase video. Then I realized that I could use my own scraper which could be more interesting for learning purpose. \n",
    "\n",
    "For PS5 data, I will use Selenium to scrape YouTube data from the PS5 showcase video."
   ]
  },
  {
   "cell_type": "markdown",
   "metadata": {},
   "source": [
    "### Xbox"
   ]
  },
  {
   "cell_type": "code",
   "execution_count": 2,
   "metadata": {},
   "outputs": [],
   "source": [
    "Xbox_data = pd.read_fwf('Xbox_comments.txt',header=None)"
   ]
  },
  {
   "cell_type": "code",
   "execution_count": 3,
   "metadata": {},
   "outputs": [],
   "source": [
    "Xbox_data.fillna('',inplace=True)"
   ]
  },
  {
   "cell_type": "code",
   "execution_count": 4,
   "metadata": {},
   "outputs": [],
   "source": [
    "#Consolidating text together in one column\n",
    "Xbox_data['Text'] = Xbox_data[2]\n",
    "Xbox_data.drop(2,axis=1,inplace=True)\n",
    "for i in range(3,21):\n",
    "    Xbox_data['Text']=Xbox_data['Text'] + \" \" + Xbox_data[i]\n",
    "    Xbox_data.drop(i,axis=1,inplace=True)"
   ]
  },
  {
   "cell_type": "code",
   "execution_count": 5,
   "metadata": {},
   "outputs": [],
   "source": [
    "#Removing \":\" from end of column \"1\" (hours)\n",
    "Xbox_data[1]=Xbox_data[1].apply(lambda x: x[:-1])"
   ]
  },
  {
   "cell_type": "code",
   "execution_count": 6,
   "metadata": {},
   "outputs": [],
   "source": [
    "#Renaming columns\n",
    "Xbox_data.rename(columns={0:'Date',1:'Hour'},inplace=True)"
   ]
  },
  {
   "cell_type": "code",
   "execution_count": 7,
   "metadata": {},
   "outputs": [
    {
     "data": {
      "text/html": [
       "<div>\n",
       "<style scoped>\n",
       "    .dataframe tbody tr th:only-of-type {\n",
       "        vertical-align: middle;\n",
       "    }\n",
       "\n",
       "    .dataframe tbody tr th {\n",
       "        vertical-align: top;\n",
       "    }\n",
       "\n",
       "    .dataframe thead th {\n",
       "        text-align: right;\n",
       "    }\n",
       "</style>\n",
       "<table border=\"1\" class=\"dataframe\">\n",
       "  <thead>\n",
       "    <tr style=\"text-align: right;\">\n",
       "      <th></th>\n",
       "      <th>Date</th>\n",
       "      <th>Hour</th>\n",
       "      <th>Text</th>\n",
       "    </tr>\n",
       "  </thead>\n",
       "  <tbody>\n",
       "    <tr>\n",
       "      <td>1148</td>\n",
       "      <td>2020-09-27</td>\n",
       "      <td>19:39:25</td>\n",
       "      <td>Pyschonauts looks mad</td>\n",
       "    </tr>\n",
       "    <tr>\n",
       "      <td>1149</td>\n",
       "      <td>2020-09-27</td>\n",
       "      <td>19:55:25</td>\n",
       "      <td>Cross fire looks incredible</td>\n",
       "    </tr>\n",
       "    <tr>\n",
       "      <td>1150</td>\n",
       "      <td>2020-09-28</td>\n",
       "      <td>10:49:45</td>\n",
       "      <td>What's the song at the end ?</td>\n",
       "    </tr>\n",
       "    <tr>\n",
       "      <td>1151</td>\n",
       "      <td>2020-09-29</td>\n",
       "      <td>06:05:50</td>\n",
       "      <td>why are people disliking this?</td>\n",
       "    </tr>\n",
       "    <tr>\n",
       "      <td>1152</td>\n",
       "      <td>2020-09-30</td>\n",
       "      <td>16:41:25</td>\n",
       "      <td>Imagine Fallout and Elder Scrolls with these g...</td>\n",
       "    </tr>\n",
       "  </tbody>\n",
       "</table>\n",
       "</div>"
      ],
      "text/plain": [
       "            Date      Hour                                               Text\n",
       "1148  2020-09-27  19:39:25            Pyschonauts looks mad                  \n",
       "1149  2020-09-27  19:55:25      Cross fire looks incredible                  \n",
       "1150  2020-09-28  10:49:45     What's the song at the end ?                  \n",
       "1151  2020-09-29  06:05:50   why are people disliking this?                  \n",
       "1152  2020-09-30  16:41:25  Imagine Fallout and Elder Scrolls with these g..."
      ]
     },
     "execution_count": 7,
     "metadata": {},
     "output_type": "execute_result"
    }
   ],
   "source": [
    "Xbox_data.tail()"
   ]
  },
  {
   "cell_type": "markdown",
   "metadata": {},
   "source": [
    "### PS5"
   ]
  },
  {
   "cell_type": "markdown",
   "metadata": {},
   "source": [
    "# Text processing"
   ]
  },
  {
   "cell_type": "markdown",
   "metadata": {},
   "source": [
    "### Xbox"
   ]
  },
  {
   "cell_type": "code",
   "execution_count": 8,
   "metadata": {},
   "outputs": [],
   "source": [
    "import nltk\n",
    "import re"
   ]
  },
  {
   "cell_type": "code",
   "execution_count": 9,
   "metadata": {},
   "outputs": [],
   "source": [
    "#Creating a function to clean the comments\n",
    "def clean_text(text):\n",
    "    text = re.sub(r'https?:\\/\\/\\S+', '', text) #Removing hyperlinks\n",
    "    text = re.sub(r\"\\d{2}:\\d{2}s*\", '', text) #Removing timestamps XX:XX\n",
    "    text = re.sub(r\"\\d{1}:\\d{2}s*\", '', text) #Removing timestamps X:XX\n",
    "    text = re.sub('[^A-Za-z0-9 ]+', '', text) #Removing special characters\n",
    "    return text"
   ]
  },
  {
   "cell_type": "code",
   "execution_count": 10,
   "metadata": {},
   "outputs": [],
   "source": [
    "Xbox_data['Text']=Xbox_data['Text'].apply(clean_text)"
   ]
  },
  {
   "cell_type": "code",
   "execution_count": 11,
   "metadata": {},
   "outputs": [
    {
     "data": {
      "text/html": [
       "<div>\n",
       "<style scoped>\n",
       "    .dataframe tbody tr th:only-of-type {\n",
       "        vertical-align: middle;\n",
       "    }\n",
       "\n",
       "    .dataframe tbody tr th {\n",
       "        vertical-align: top;\n",
       "    }\n",
       "\n",
       "    .dataframe thead th {\n",
       "        text-align: right;\n",
       "    }\n",
       "</style>\n",
       "<table border=\"1\" class=\"dataframe\">\n",
       "  <thead>\n",
       "    <tr style=\"text-align: right;\">\n",
       "      <th></th>\n",
       "      <th>Date</th>\n",
       "      <th>Hour</th>\n",
       "      <th>Text</th>\n",
       "    </tr>\n",
       "  </thead>\n",
       "  <tbody>\n",
       "    <tr>\n",
       "      <td>0</td>\n",
       "      <td>2020-07-23</td>\n",
       "      <td>16:59:51</td>\n",
       "      <td>First</td>\n",
       "    </tr>\n",
       "    <tr>\n",
       "      <td>1</td>\n",
       "      <td>2020-07-23</td>\n",
       "      <td>16:59:55</td>\n",
       "      <td>bad</td>\n",
       "    </tr>\n",
       "    <tr>\n",
       "      <td>2</td>\n",
       "      <td>2020-07-23</td>\n",
       "      <td>16:59:56</td>\n",
       "      <td>First</td>\n",
       "    </tr>\n",
       "    <tr>\n",
       "      <td>3</td>\n",
       "      <td>2020-07-23</td>\n",
       "      <td>16:59:58</td>\n",
       "      <td>First comment</td>\n",
       "    </tr>\n",
       "    <tr>\n",
       "      <td>4</td>\n",
       "      <td>2020-07-23</td>\n",
       "      <td>17:00:02</td>\n",
       "      <td>Hello</td>\n",
       "    </tr>\n",
       "  </tbody>\n",
       "</table>\n",
       "</div>"
      ],
      "text/plain": [
       "         Date      Hour                             Text\n",
       "0  2020-07-23  16:59:51          First                  \n",
       "1  2020-07-23  16:59:55            bad                  \n",
       "2  2020-07-23  16:59:56          First                  \n",
       "3  2020-07-23  16:59:58  First comment                  \n",
       "4  2020-07-23  17:00:02          Hello                  "
      ]
     },
     "execution_count": 11,
     "metadata": {},
     "output_type": "execute_result"
    }
   ],
   "source": [
    "Xbox_data.head()"
   ]
  },
  {
   "cell_type": "markdown",
   "metadata": {},
   "source": [
    "### PS5"
   ]
  },
  {
   "cell_type": "markdown",
   "metadata": {},
   "source": [
    "# Tokenizer / Part-of-Speech tagging / Lemmatizer / Stop words removal"
   ]
  },
  {
   "cell_type": "markdown",
   "metadata": {},
   "source": [
    "Below, a lot of steps are performed in one-go that I will explain in more details.\n",
    "This website helped me a lot to understand this process:\n",
    "https://www.machinelearningplus.com/nlp/lemmatization-examples-python/\n",
    "\n",
    "My goal is to clean the comments so that words are standardized for the word clouds and sentiment analysis.\n",
    "\n",
    "- First I tokenize the comments, this means that each word in a sentence is isolated \n",
    "          Example: \"I ate these fruits.\" => [I, ate, these, fruits]\n",
    "- Then, I perform part-of-speech (POS) tagging which goal is to classify isolated words by their type (nouns, verbs...) and add some context to the sentence\n",
    "          Example: [I, ate, these, fruits] => [('I', 'PRP'), ('ate', 'VBP'), ('these', 'DT'), ('fruits', 'NNS')]\n",
    "- Then, I lemmatize these words. That means that all words are brought back to their root form. The previous step helps the lemmatizer to perform better.\n",
    "          Example: [('I', 'PRP'), ('ate', 'VBP'), ('these', 'DT'), ('fruits', 'NNS')] => [I, eat, these, fruit]\n",
    "- Eventually, I remove all the stop words in order to keep only essential words in the sentence.\n",
    "          Example: [I, eat, these, fruit] => [eat, fruit]\n",
    "\n",
    "I also tried to implement a TextBlob spelling correction but it messed up with all game names... 'Tetris' became 'Debris', 'Fable' became 'Table'..."
   ]
  },
  {
   "cell_type": "markdown",
   "metadata": {},
   "source": [
    "### Xbox"
   ]
  },
  {
   "cell_type": "code",
   "execution_count": 12,
   "metadata": {},
   "outputs": [],
   "source": [
    "from nltk.corpus import wordnet\n",
    "from nltk import pos_tag\n",
    "\n",
    "def get_wordnet_pos(word):\n",
    "    #Map POS tag to first character lemmatize() accepts\n",
    "    tag = nltk.pos_tag([word])[0][1][0].upper()\n",
    "    tag_dict = {\"J\": wordnet.ADJ,\n",
    "                \"N\": wordnet.NOUN,\n",
    "                \"V\": wordnet.VERB,\n",
    "                \"R\": wordnet.ADV}\n",
    "\n",
    "    return tag_dict.get(tag, wordnet.NOUN)"
   ]
  },
  {
   "cell_type": "code",
   "execution_count": 13,
   "metadata": {},
   "outputs": [],
   "source": [
    "#We need to install the \"stopwords\" corpus in order to remove the stopwords\n",
    "#nltk.download()"
   ]
  },
  {
   "cell_type": "code",
   "execution_count": 14,
   "metadata": {},
   "outputs": [],
   "source": [
    "from nltk.corpus import stopwords\n",
    "from nltk.stem import WordNetLemmatizer \n",
    "\n",
    "lm = WordNetLemmatizer()\n",
    "\n",
    "Xbox_data['Text clean'] = \"\"\n",
    "for i in range(0,len(Xbox_data)):\n",
    "    Xbox_data['Text clean'].loc[i] = [lm.lemmatize(w, get_wordnet_pos(w)) for w in nltk.word_tokenize(Xbox_data['Text'].loc[i])]\n",
    "    Xbox_data['Text clean'].loc[i] = [word for word in Xbox_data['Text clean'].loc[i] if word.lower() not in stopwords.words('english')]\n",
    "    Xbox_data['Text clean'].loc[i] = \" \".join(Xbox_data['Text clean'].loc[i])"
   ]
  },
  {
   "cell_type": "code",
   "execution_count": 15,
   "metadata": {},
   "outputs": [
    {
     "data": {
      "text/html": [
       "<div>\n",
       "<style scoped>\n",
       "    .dataframe tbody tr th:only-of-type {\n",
       "        vertical-align: middle;\n",
       "    }\n",
       "\n",
       "    .dataframe tbody tr th {\n",
       "        vertical-align: top;\n",
       "    }\n",
       "\n",
       "    .dataframe thead th {\n",
       "        text-align: right;\n",
       "    }\n",
       "</style>\n",
       "<table border=\"1\" class=\"dataframe\">\n",
       "  <thead>\n",
       "    <tr style=\"text-align: right;\">\n",
       "      <th></th>\n",
       "      <th>Date</th>\n",
       "      <th>Hour</th>\n",
       "      <th>Text</th>\n",
       "      <th>Text clean</th>\n",
       "    </tr>\n",
       "  </thead>\n",
       "  <tbody>\n",
       "    <tr>\n",
       "      <td>0</td>\n",
       "      <td>2020-07-23</td>\n",
       "      <td>16:59:51</td>\n",
       "      <td>First</td>\n",
       "      <td>First</td>\n",
       "    </tr>\n",
       "    <tr>\n",
       "      <td>1</td>\n",
       "      <td>2020-07-23</td>\n",
       "      <td>16:59:55</td>\n",
       "      <td>bad</td>\n",
       "      <td>bad</td>\n",
       "    </tr>\n",
       "    <tr>\n",
       "      <td>2</td>\n",
       "      <td>2020-07-23</td>\n",
       "      <td>16:59:56</td>\n",
       "      <td>First</td>\n",
       "      <td>First</td>\n",
       "    </tr>\n",
       "    <tr>\n",
       "      <td>3</td>\n",
       "      <td>2020-07-23</td>\n",
       "      <td>16:59:58</td>\n",
       "      <td>First comment</td>\n",
       "      <td>First comment</td>\n",
       "    </tr>\n",
       "    <tr>\n",
       "      <td>4</td>\n",
       "      <td>2020-07-23</td>\n",
       "      <td>17:00:02</td>\n",
       "      <td>Hello</td>\n",
       "      <td>Hello</td>\n",
       "    </tr>\n",
       "  </tbody>\n",
       "</table>\n",
       "</div>"
      ],
      "text/plain": [
       "         Date      Hour                             Text     Text clean\n",
       "0  2020-07-23  16:59:51          First                            First\n",
       "1  2020-07-23  16:59:55            bad                              bad\n",
       "2  2020-07-23  16:59:56          First                            First\n",
       "3  2020-07-23  16:59:58  First comment                    First comment\n",
       "4  2020-07-23  17:00:02          Hello                            Hello"
      ]
     },
     "execution_count": 15,
     "metadata": {},
     "output_type": "execute_result"
    }
   ],
   "source": [
    "Xbox_data.head()"
   ]
  },
  {
   "cell_type": "markdown",
   "metadata": {},
   "source": [
    "### PS5"
   ]
  },
  {
   "cell_type": "markdown",
   "metadata": {},
   "source": [
    "# Word cloud"
   ]
  },
  {
   "cell_type": "markdown",
   "metadata": {},
   "source": [
    "### Xbox"
   ]
  },
  {
   "cell_type": "code",
   "execution_count": 17,
   "metadata": {},
   "outputs": [
    {
     "ename": "NameError",
     "evalue": "name 'Xbox_data' is not defined",
     "output_type": "error",
     "traceback": [
      "\u001b[0;31m---------------------------------------------------------------------------\u001b[0m",
      "\u001b[0;31mNameError\u001b[0m                                 Traceback (most recent call last)",
      "\u001b[0;32m<ipython-input-17-e2edadecf768>\u001b[0m in \u001b[0;36m<module>\u001b[0;34m\u001b[0m\n\u001b[1;32m      2\u001b[0m \u001b[0;32mfrom\u001b[0m \u001b[0mwordcloud\u001b[0m \u001b[0;32mimport\u001b[0m \u001b[0mWordCloud\u001b[0m\u001b[0;34m\u001b[0m\u001b[0;34m\u001b[0m\u001b[0m\n\u001b[1;32m      3\u001b[0m \u001b[0;34m\u001b[0m\u001b[0m\n\u001b[0;32m----> 4\u001b[0;31m \u001b[0mfull_text\u001b[0m \u001b[0;34m=\u001b[0m \u001b[0;34m' '\u001b[0m\u001b[0;34m.\u001b[0m\u001b[0mjoin\u001b[0m\u001b[0;34m(\u001b[0m\u001b[0;34m[\u001b[0m\u001b[0mtxt\u001b[0m \u001b[0;32mfor\u001b[0m \u001b[0mtxt\u001b[0m \u001b[0;32min\u001b[0m \u001b[0mXbox_data\u001b[0m\u001b[0;34m[\u001b[0m\u001b[0;34m'Text clean'\u001b[0m\u001b[0;34m]\u001b[0m\u001b[0;34m]\u001b[0m\u001b[0;34m)\u001b[0m\u001b[0;34m\u001b[0m\u001b[0;34m\u001b[0m\u001b[0m\n\u001b[0m\u001b[1;32m      5\u001b[0m \u001b[0mwordcloud\u001b[0m \u001b[0;34m=\u001b[0m \u001b[0mWordCloud\u001b[0m\u001b[0;34m(\u001b[0m\u001b[0mwidth\u001b[0m\u001b[0;34m=\u001b[0m\u001b[0;36m500\u001b[0m\u001b[0;34m,\u001b[0m \u001b[0mheight\u001b[0m\u001b[0;34m=\u001b[0m\u001b[0;36m300\u001b[0m\u001b[0;34m,\u001b[0m \u001b[0mmax_font_size\u001b[0m\u001b[0;34m=\u001b[0m\u001b[0;36m119\u001b[0m\u001b[0;34m)\u001b[0m\u001b[0;34m.\u001b[0m\u001b[0mgenerate\u001b[0m\u001b[0;34m(\u001b[0m\u001b[0mfull_text\u001b[0m\u001b[0;34m)\u001b[0m\u001b[0;34m\u001b[0m\u001b[0;34m\u001b[0m\u001b[0m\n\u001b[1;32m      6\u001b[0m \u001b[0;34m\u001b[0m\u001b[0m\n",
      "\u001b[0;31mNameError\u001b[0m: name 'Xbox_data' is not defined"
     ]
    }
   ],
   "source": [
    "#Creating a word cloud\n",
    "from wordcloud import WordCloud\n",
    "\n",
    "full_text = ' '.join([txt for txt in Xbox_data['Text clean']])\n",
    "wordcloud = WordCloud(width=500, height=300, max_font_size=119).generate(full_text)\n",
    "\n",
    "plt.imshow(wordcloud, interpolation='bilinear')\n",
    "plt.axis('off')\n",
    "plt.show()"
   ]
  },
  {
   "cell_type": "markdown",
   "metadata": {},
   "source": [
    "### PS5"
   ]
  },
  {
   "cell_type": "markdown",
   "metadata": {},
   "source": [
    "# Sentiment Analysis"
   ]
  },
  {
   "cell_type": "markdown",
   "metadata": {},
   "source": [
    "In this part, I will perform sentiment analysis to determine whether a comment is positive, neutral or negative.\n",
    "I will use two different libraries: TextBlob and VADER.\n",
    "\n",
    "I will perform the analysis on both \"Text\" and \"Text clean\" to see if the libraries perform better on the raw text or on the text with extra cleaning steps (POS, lemmatization, stop words removal etc.).\n",
    "I will also try to determine the best library on this dataset.\n",
    "\n",
    "These two articles helped me in this process:\n",
    "\n",
    "https://towardsdatascience.com/sentiment-analysis-vader-or-textblob-ff25514ac540\n",
    "\n",
    "https://medium.com/analytics-vidhya/textblob-the-nlp-preprocessing-godsend-1b404c35732e"
   ]
  },
  {
   "cell_type": "markdown",
   "metadata": {},
   "source": [
    "### Xbox"
   ]
  },
  {
   "cell_type": "markdown",
   "metadata": {},
   "source": [
    "#### *First approach: TextBlob*"
   ]
  },
  {
   "cell_type": "code",
   "execution_count": 17,
   "metadata": {},
   "outputs": [],
   "source": [
    "from textblob import TextBlob"
   ]
  },
  {
   "cell_type": "code",
   "execution_count": 18,
   "metadata": {},
   "outputs": [
    {
     "data": {
      "text/html": [
       "<div>\n",
       "<style scoped>\n",
       "    .dataframe tbody tr th:only-of-type {\n",
       "        vertical-align: middle;\n",
       "    }\n",
       "\n",
       "    .dataframe tbody tr th {\n",
       "        vertical-align: top;\n",
       "    }\n",
       "\n",
       "    .dataframe thead th {\n",
       "        text-align: right;\n",
       "    }\n",
       "</style>\n",
       "<table border=\"1\" class=\"dataframe\">\n",
       "  <thead>\n",
       "    <tr style=\"text-align: right;\">\n",
       "      <th></th>\n",
       "      <th>Date</th>\n",
       "      <th>Hour</th>\n",
       "      <th>Text</th>\n",
       "      <th>Text clean</th>\n",
       "    </tr>\n",
       "  </thead>\n",
       "  <tbody>\n",
       "    <tr>\n",
       "      <td>0</td>\n",
       "      <td>2020-07-23</td>\n",
       "      <td>16:59:51</td>\n",
       "      <td>First</td>\n",
       "      <td>First</td>\n",
       "    </tr>\n",
       "    <tr>\n",
       "      <td>1</td>\n",
       "      <td>2020-07-23</td>\n",
       "      <td>16:59:55</td>\n",
       "      <td>bad</td>\n",
       "      <td>bad</td>\n",
       "    </tr>\n",
       "    <tr>\n",
       "      <td>2</td>\n",
       "      <td>2020-07-23</td>\n",
       "      <td>16:59:56</td>\n",
       "      <td>First</td>\n",
       "      <td>First</td>\n",
       "    </tr>\n",
       "    <tr>\n",
       "      <td>3</td>\n",
       "      <td>2020-07-23</td>\n",
       "      <td>16:59:58</td>\n",
       "      <td>First comment</td>\n",
       "      <td>First comment</td>\n",
       "    </tr>\n",
       "    <tr>\n",
       "      <td>4</td>\n",
       "      <td>2020-07-23</td>\n",
       "      <td>17:00:02</td>\n",
       "      <td>Hello</td>\n",
       "      <td>Hello</td>\n",
       "    </tr>\n",
       "  </tbody>\n",
       "</table>\n",
       "</div>"
      ],
      "text/plain": [
       "         Date      Hour                             Text     Text clean\n",
       "0  2020-07-23  16:59:51          First                            First\n",
       "1  2020-07-23  16:59:55            bad                              bad\n",
       "2  2020-07-23  16:59:56          First                            First\n",
       "3  2020-07-23  16:59:58  First comment                    First comment\n",
       "4  2020-07-23  17:00:02          Hello                            Hello"
      ]
     },
     "execution_count": 18,
     "metadata": {},
     "output_type": "execute_result"
    }
   ],
   "source": [
    "Xbox_data.head()"
   ]
  },
  {
   "cell_type": "code",
   "execution_count": 19,
   "metadata": {},
   "outputs": [],
   "source": [
    "def get_polarity(text):\n",
    "    return TextBlob(text).sentiment.polarity\n",
    "\n",
    "def get_subjectivity(text):\n",
    "    return TextBlob(text).sentiment.subjectivity"
   ]
  },
  {
   "cell_type": "code",
   "execution_count": 20,
   "metadata": {},
   "outputs": [],
   "source": [
    "Xbox_data['Polarity - TTB'] = Xbox_data['Text'].apply(get_polarity)\n",
    "Xbox_data['Subjectivity - TTB'] = Xbox_data['Text'].apply(get_subjectivity)\n",
    "\n",
    "Xbox_data['Polarity - TCTB'] = Xbox_data['Text clean'].apply(get_polarity)\n",
    "Xbox_data['Subjectivity - TCTB'] = Xbox_data['Text clean'].apply(get_subjectivity)"
   ]
  },
  {
   "cell_type": "code",
   "execution_count": 21,
   "metadata": {},
   "outputs": [
    {
     "data": {
      "text/html": [
       "<div>\n",
       "<style scoped>\n",
       "    .dataframe tbody tr th:only-of-type {\n",
       "        vertical-align: middle;\n",
       "    }\n",
       "\n",
       "    .dataframe tbody tr th {\n",
       "        vertical-align: top;\n",
       "    }\n",
       "\n",
       "    .dataframe thead th {\n",
       "        text-align: right;\n",
       "    }\n",
       "</style>\n",
       "<table border=\"1\" class=\"dataframe\">\n",
       "  <thead>\n",
       "    <tr style=\"text-align: right;\">\n",
       "      <th></th>\n",
       "      <th>Date</th>\n",
       "      <th>Hour</th>\n",
       "      <th>Text</th>\n",
       "      <th>Text clean</th>\n",
       "      <th>Polarity - TTB</th>\n",
       "      <th>Subjectivity - TTB</th>\n",
       "      <th>Polarity - TCTB</th>\n",
       "      <th>Subjectivity - TCTB</th>\n",
       "    </tr>\n",
       "  </thead>\n",
       "  <tbody>\n",
       "    <tr>\n",
       "      <td>0</td>\n",
       "      <td>2020-07-23</td>\n",
       "      <td>16:59:51</td>\n",
       "      <td>First</td>\n",
       "      <td>First</td>\n",
       "      <td>0.25</td>\n",
       "      <td>0.333333</td>\n",
       "      <td>0.25</td>\n",
       "      <td>0.333333</td>\n",
       "    </tr>\n",
       "    <tr>\n",
       "      <td>1</td>\n",
       "      <td>2020-07-23</td>\n",
       "      <td>16:59:55</td>\n",
       "      <td>bad</td>\n",
       "      <td>bad</td>\n",
       "      <td>-0.70</td>\n",
       "      <td>0.666667</td>\n",
       "      <td>-0.70</td>\n",
       "      <td>0.666667</td>\n",
       "    </tr>\n",
       "    <tr>\n",
       "      <td>2</td>\n",
       "      <td>2020-07-23</td>\n",
       "      <td>16:59:56</td>\n",
       "      <td>First</td>\n",
       "      <td>First</td>\n",
       "      <td>0.25</td>\n",
       "      <td>0.333333</td>\n",
       "      <td>0.25</td>\n",
       "      <td>0.333333</td>\n",
       "    </tr>\n",
       "    <tr>\n",
       "      <td>3</td>\n",
       "      <td>2020-07-23</td>\n",
       "      <td>16:59:58</td>\n",
       "      <td>First comment</td>\n",
       "      <td>First comment</td>\n",
       "      <td>0.25</td>\n",
       "      <td>0.333333</td>\n",
       "      <td>0.25</td>\n",
       "      <td>0.333333</td>\n",
       "    </tr>\n",
       "    <tr>\n",
       "      <td>4</td>\n",
       "      <td>2020-07-23</td>\n",
       "      <td>17:00:02</td>\n",
       "      <td>Hello</td>\n",
       "      <td>Hello</td>\n",
       "      <td>0.00</td>\n",
       "      <td>0.000000</td>\n",
       "      <td>0.00</td>\n",
       "      <td>0.000000</td>\n",
       "    </tr>\n",
       "  </tbody>\n",
       "</table>\n",
       "</div>"
      ],
      "text/plain": [
       "         Date      Hour                             Text     Text clean  \\\n",
       "0  2020-07-23  16:59:51          First                            First   \n",
       "1  2020-07-23  16:59:55            bad                              bad   \n",
       "2  2020-07-23  16:59:56          First                            First   \n",
       "3  2020-07-23  16:59:58  First comment                    First comment   \n",
       "4  2020-07-23  17:00:02          Hello                            Hello   \n",
       "\n",
       "   Polarity - TTB  Subjectivity - TTB  Polarity - TCTB  Subjectivity - TCTB  \n",
       "0            0.25            0.333333             0.25             0.333333  \n",
       "1           -0.70            0.666667            -0.70             0.666667  \n",
       "2            0.25            0.333333             0.25             0.333333  \n",
       "3            0.25            0.333333             0.25             0.333333  \n",
       "4            0.00            0.000000             0.00             0.000000  "
      ]
     },
     "execution_count": 21,
     "metadata": {},
     "output_type": "execute_result"
    }
   ],
   "source": [
    "Xbox_data.head()"
   ]
  },
  {
   "cell_type": "code",
   "execution_count": 22,
   "metadata": {},
   "outputs": [],
   "source": [
    "def sentiment_class(value):\n",
    "    if value > 0:\n",
    "        return \"Positive\"\n",
    "    elif value == 0:\n",
    "        return \"Neutral\"\n",
    "    else:\n",
    "        return \"Negative\""
   ]
  },
  {
   "cell_type": "code",
   "execution_count": 23,
   "metadata": {},
   "outputs": [],
   "source": [
    "Xbox_data['Sentiment - TTB'] = Xbox_data['Polarity - TTB'].apply(sentiment_class)\n",
    "Xbox_data['Sentiment - TCTB'] = Xbox_data['Polarity - TCTB'].apply(sentiment_class)"
   ]
  },
  {
   "cell_type": "code",
   "execution_count": 24,
   "metadata": {},
   "outputs": [
    {
     "data": {
      "text/plain": [
       "Neutral     548\n",
       "Positive    444\n",
       "Negative    161\n",
       "Name: Sentiment - TTB, dtype: int64"
      ]
     },
     "execution_count": 24,
     "metadata": {},
     "output_type": "execute_result"
    }
   ],
   "source": [
    "Xbox_data['Sentiment - TTB'].value_counts()"
   ]
  },
  {
   "cell_type": "code",
   "execution_count": 25,
   "metadata": {},
   "outputs": [
    {
     "data": {
      "text/plain": [
       "Neutral     575\n",
       "Positive    365\n",
       "Negative    213\n",
       "Name: Sentiment - TCTB, dtype: int64"
      ]
     },
     "execution_count": 25,
     "metadata": {},
     "output_type": "execute_result"
    }
   ],
   "source": [
    "Xbox_data['Sentiment - TCTB'].value_counts()"
   ]
  },
  {
   "cell_type": "code",
   "execution_count": 26,
   "metadata": {},
   "outputs": [
    {
     "name": "stdout",
     "output_type": "stream",
     "text": [
      "39% of positive comments with \"Text\".\n",
      "48% of neutral comments with \"Text\".\n",
      "14% of negative comments with \"Text\".\n",
      "32% of positive comments with \"Text clean\".\n",
      "50% of neutral comments with \"Text clean\".\n",
      "18% of negative comments with \"Text clean\".\n"
     ]
    }
   ],
   "source": [
    "print(\"{0:.0%}\".format(len(Xbox_data[Xbox_data['Sentiment - TTB']=='Positive'])/len(Xbox_data)),'of positive comments with \"Text\".')\n",
    "print(\"{0:.0%}\".format(len(Xbox_data[Xbox_data['Sentiment - TTB']=='Neutral'])/len(Xbox_data)),'of neutral comments with \"Text\".')\n",
    "print(\"{0:.0%}\".format(len(Xbox_data[Xbox_data['Sentiment - TTB']=='Negative'])/len(Xbox_data)),'of negative comments with \"Text\".')\n",
    "\n",
    "print(\"{0:.0%}\".format(len(Xbox_data[Xbox_data['Sentiment - TCTB']=='Positive'])/len(Xbox_data)),'of positive comments with \"Text clean\".')\n",
    "print(\"{0:.0%}\".format(len(Xbox_data[Xbox_data['Sentiment - TCTB']=='Neutral'])/len(Xbox_data)),'of neutral comments with \"Text clean\".')\n",
    "print(\"{0:.0%}\".format(len(Xbox_data[Xbox_data['Sentiment - TCTB']=='Negative'])/len(Xbox_data)),'of negative comments with \"Text clean\".')"
   ]
  },
  {
   "cell_type": "markdown",
   "metadata": {},
   "source": [
    "#### *Second approach: VADER*"
   ]
  },
  {
   "cell_type": "code",
   "execution_count": 27,
   "metadata": {},
   "outputs": [],
   "source": [
    "from nltk.sentiment.vader import SentimentIntensityAnalyzer"
   ]
  },
  {
   "cell_type": "code",
   "execution_count": 28,
   "metadata": {},
   "outputs": [],
   "source": [
    "sia = SentimentIntensityAnalyzer()"
   ]
  },
  {
   "cell_type": "code",
   "execution_count": 29,
   "metadata": {},
   "outputs": [
    {
     "data": {
      "text/html": [
       "<div>\n",
       "<style scoped>\n",
       "    .dataframe tbody tr th:only-of-type {\n",
       "        vertical-align: middle;\n",
       "    }\n",
       "\n",
       "    .dataframe tbody tr th {\n",
       "        vertical-align: top;\n",
       "    }\n",
       "\n",
       "    .dataframe thead th {\n",
       "        text-align: right;\n",
       "    }\n",
       "</style>\n",
       "<table border=\"1\" class=\"dataframe\">\n",
       "  <thead>\n",
       "    <tr style=\"text-align: right;\">\n",
       "      <th></th>\n",
       "      <th>Date</th>\n",
       "      <th>Hour</th>\n",
       "      <th>Text</th>\n",
       "      <th>Text clean</th>\n",
       "      <th>Polarity - TTB</th>\n",
       "      <th>Subjectivity - TTB</th>\n",
       "      <th>Polarity - TCTB</th>\n",
       "      <th>Subjectivity - TCTB</th>\n",
       "      <th>Sentiment - TTB</th>\n",
       "      <th>Sentiment - TCTB</th>\n",
       "    </tr>\n",
       "  </thead>\n",
       "  <tbody>\n",
       "    <tr>\n",
       "      <td>0</td>\n",
       "      <td>2020-07-23</td>\n",
       "      <td>16:59:51</td>\n",
       "      <td>First</td>\n",
       "      <td>First</td>\n",
       "      <td>0.25</td>\n",
       "      <td>0.333333</td>\n",
       "      <td>0.25</td>\n",
       "      <td>0.333333</td>\n",
       "      <td>Positive</td>\n",
       "      <td>Positive</td>\n",
       "    </tr>\n",
       "    <tr>\n",
       "      <td>1</td>\n",
       "      <td>2020-07-23</td>\n",
       "      <td>16:59:55</td>\n",
       "      <td>bad</td>\n",
       "      <td>bad</td>\n",
       "      <td>-0.70</td>\n",
       "      <td>0.666667</td>\n",
       "      <td>-0.70</td>\n",
       "      <td>0.666667</td>\n",
       "      <td>Negative</td>\n",
       "      <td>Negative</td>\n",
       "    </tr>\n",
       "    <tr>\n",
       "      <td>2</td>\n",
       "      <td>2020-07-23</td>\n",
       "      <td>16:59:56</td>\n",
       "      <td>First</td>\n",
       "      <td>First</td>\n",
       "      <td>0.25</td>\n",
       "      <td>0.333333</td>\n",
       "      <td>0.25</td>\n",
       "      <td>0.333333</td>\n",
       "      <td>Positive</td>\n",
       "      <td>Positive</td>\n",
       "    </tr>\n",
       "    <tr>\n",
       "      <td>3</td>\n",
       "      <td>2020-07-23</td>\n",
       "      <td>16:59:58</td>\n",
       "      <td>First comment</td>\n",
       "      <td>First comment</td>\n",
       "      <td>0.25</td>\n",
       "      <td>0.333333</td>\n",
       "      <td>0.25</td>\n",
       "      <td>0.333333</td>\n",
       "      <td>Positive</td>\n",
       "      <td>Positive</td>\n",
       "    </tr>\n",
       "    <tr>\n",
       "      <td>4</td>\n",
       "      <td>2020-07-23</td>\n",
       "      <td>17:00:02</td>\n",
       "      <td>Hello</td>\n",
       "      <td>Hello</td>\n",
       "      <td>0.00</td>\n",
       "      <td>0.000000</td>\n",
       "      <td>0.00</td>\n",
       "      <td>0.000000</td>\n",
       "      <td>Neutral</td>\n",
       "      <td>Neutral</td>\n",
       "    </tr>\n",
       "  </tbody>\n",
       "</table>\n",
       "</div>"
      ],
      "text/plain": [
       "         Date      Hour                             Text     Text clean  \\\n",
       "0  2020-07-23  16:59:51          First                            First   \n",
       "1  2020-07-23  16:59:55            bad                              bad   \n",
       "2  2020-07-23  16:59:56          First                            First   \n",
       "3  2020-07-23  16:59:58  First comment                    First comment   \n",
       "4  2020-07-23  17:00:02          Hello                            Hello   \n",
       "\n",
       "   Polarity - TTB  Subjectivity - TTB  Polarity - TCTB  Subjectivity - TCTB  \\\n",
       "0            0.25            0.333333             0.25             0.333333   \n",
       "1           -0.70            0.666667            -0.70             0.666667   \n",
       "2            0.25            0.333333             0.25             0.333333   \n",
       "3            0.25            0.333333             0.25             0.333333   \n",
       "4            0.00            0.000000             0.00             0.000000   \n",
       "\n",
       "  Sentiment - TTB Sentiment - TCTB  \n",
       "0        Positive         Positive  \n",
       "1        Negative         Negative  \n",
       "2        Positive         Positive  \n",
       "3        Positive         Positive  \n",
       "4         Neutral          Neutral  "
      ]
     },
     "execution_count": 29,
     "metadata": {},
     "output_type": "execute_result"
    }
   ],
   "source": [
    "Xbox_data.head()"
   ]
  },
  {
   "cell_type": "code",
   "execution_count": 30,
   "metadata": {},
   "outputs": [],
   "source": [
    "def get_sentiment(text):\n",
    "    return sia.polarity_scores(text)"
   ]
  },
  {
   "cell_type": "code",
   "execution_count": 31,
   "metadata": {},
   "outputs": [],
   "source": [
    "Xbox_data['Sentiment scores - TVD'] = Xbox_data['Text'].apply(get_sentiment)\n",
    "Xbox_data['Sentiment scores - TCVD'] = Xbox_data['Text clean'].apply(get_sentiment)"
   ]
  },
  {
   "cell_type": "code",
   "execution_count": 32,
   "metadata": {},
   "outputs": [
    {
     "data": {
      "text/html": [
       "<div>\n",
       "<style scoped>\n",
       "    .dataframe tbody tr th:only-of-type {\n",
       "        vertical-align: middle;\n",
       "    }\n",
       "\n",
       "    .dataframe tbody tr th {\n",
       "        vertical-align: top;\n",
       "    }\n",
       "\n",
       "    .dataframe thead th {\n",
       "        text-align: right;\n",
       "    }\n",
       "</style>\n",
       "<table border=\"1\" class=\"dataframe\">\n",
       "  <thead>\n",
       "    <tr style=\"text-align: right;\">\n",
       "      <th></th>\n",
       "      <th>Date</th>\n",
       "      <th>Hour</th>\n",
       "      <th>Text</th>\n",
       "      <th>Text clean</th>\n",
       "      <th>Polarity - TTB</th>\n",
       "      <th>Subjectivity - TTB</th>\n",
       "      <th>Polarity - TCTB</th>\n",
       "      <th>Subjectivity - TCTB</th>\n",
       "      <th>Sentiment - TTB</th>\n",
       "      <th>Sentiment - TCTB</th>\n",
       "      <th>Sentiment scores - TVD</th>\n",
       "      <th>Sentiment scores - TCVD</th>\n",
       "    </tr>\n",
       "  </thead>\n",
       "  <tbody>\n",
       "    <tr>\n",
       "      <td>0</td>\n",
       "      <td>2020-07-23</td>\n",
       "      <td>16:59:51</td>\n",
       "      <td>First</td>\n",
       "      <td>First</td>\n",
       "      <td>0.25</td>\n",
       "      <td>0.333333</td>\n",
       "      <td>0.25</td>\n",
       "      <td>0.333333</td>\n",
       "      <td>Positive</td>\n",
       "      <td>Positive</td>\n",
       "      <td>{'neg': 0.0, 'neu': 1.0, 'pos': 0.0, 'compound...</td>\n",
       "      <td>{'neg': 0.0, 'neu': 1.0, 'pos': 0.0, 'compound...</td>\n",
       "    </tr>\n",
       "    <tr>\n",
       "      <td>1</td>\n",
       "      <td>2020-07-23</td>\n",
       "      <td>16:59:55</td>\n",
       "      <td>bad</td>\n",
       "      <td>bad</td>\n",
       "      <td>-0.70</td>\n",
       "      <td>0.666667</td>\n",
       "      <td>-0.70</td>\n",
       "      <td>0.666667</td>\n",
       "      <td>Negative</td>\n",
       "      <td>Negative</td>\n",
       "      <td>{'neg': 1.0, 'neu': 0.0, 'pos': 0.0, 'compound...</td>\n",
       "      <td>{'neg': 1.0, 'neu': 0.0, 'pos': 0.0, 'compound...</td>\n",
       "    </tr>\n",
       "    <tr>\n",
       "      <td>2</td>\n",
       "      <td>2020-07-23</td>\n",
       "      <td>16:59:56</td>\n",
       "      <td>First</td>\n",
       "      <td>First</td>\n",
       "      <td>0.25</td>\n",
       "      <td>0.333333</td>\n",
       "      <td>0.25</td>\n",
       "      <td>0.333333</td>\n",
       "      <td>Positive</td>\n",
       "      <td>Positive</td>\n",
       "      <td>{'neg': 0.0, 'neu': 1.0, 'pos': 0.0, 'compound...</td>\n",
       "      <td>{'neg': 0.0, 'neu': 1.0, 'pos': 0.0, 'compound...</td>\n",
       "    </tr>\n",
       "    <tr>\n",
       "      <td>3</td>\n",
       "      <td>2020-07-23</td>\n",
       "      <td>16:59:58</td>\n",
       "      <td>First comment</td>\n",
       "      <td>First comment</td>\n",
       "      <td>0.25</td>\n",
       "      <td>0.333333</td>\n",
       "      <td>0.25</td>\n",
       "      <td>0.333333</td>\n",
       "      <td>Positive</td>\n",
       "      <td>Positive</td>\n",
       "      <td>{'neg': 0.0, 'neu': 1.0, 'pos': 0.0, 'compound...</td>\n",
       "      <td>{'neg': 0.0, 'neu': 1.0, 'pos': 0.0, 'compound...</td>\n",
       "    </tr>\n",
       "    <tr>\n",
       "      <td>4</td>\n",
       "      <td>2020-07-23</td>\n",
       "      <td>17:00:02</td>\n",
       "      <td>Hello</td>\n",
       "      <td>Hello</td>\n",
       "      <td>0.00</td>\n",
       "      <td>0.000000</td>\n",
       "      <td>0.00</td>\n",
       "      <td>0.000000</td>\n",
       "      <td>Neutral</td>\n",
       "      <td>Neutral</td>\n",
       "      <td>{'neg': 0.0, 'neu': 1.0, 'pos': 0.0, 'compound...</td>\n",
       "      <td>{'neg': 0.0, 'neu': 1.0, 'pos': 0.0, 'compound...</td>\n",
       "    </tr>\n",
       "  </tbody>\n",
       "</table>\n",
       "</div>"
      ],
      "text/plain": [
       "         Date      Hour                             Text     Text clean  \\\n",
       "0  2020-07-23  16:59:51          First                            First   \n",
       "1  2020-07-23  16:59:55            bad                              bad   \n",
       "2  2020-07-23  16:59:56          First                            First   \n",
       "3  2020-07-23  16:59:58  First comment                    First comment   \n",
       "4  2020-07-23  17:00:02          Hello                            Hello   \n",
       "\n",
       "   Polarity - TTB  Subjectivity - TTB  Polarity - TCTB  Subjectivity - TCTB  \\\n",
       "0            0.25            0.333333             0.25             0.333333   \n",
       "1           -0.70            0.666667            -0.70             0.666667   \n",
       "2            0.25            0.333333             0.25             0.333333   \n",
       "3            0.25            0.333333             0.25             0.333333   \n",
       "4            0.00            0.000000             0.00             0.000000   \n",
       "\n",
       "  Sentiment - TTB Sentiment - TCTB  \\\n",
       "0        Positive         Positive   \n",
       "1        Negative         Negative   \n",
       "2        Positive         Positive   \n",
       "3        Positive         Positive   \n",
       "4         Neutral          Neutral   \n",
       "\n",
       "                              Sentiment scores - TVD  \\\n",
       "0  {'neg': 0.0, 'neu': 1.0, 'pos': 0.0, 'compound...   \n",
       "1  {'neg': 1.0, 'neu': 0.0, 'pos': 0.0, 'compound...   \n",
       "2  {'neg': 0.0, 'neu': 1.0, 'pos': 0.0, 'compound...   \n",
       "3  {'neg': 0.0, 'neu': 1.0, 'pos': 0.0, 'compound...   \n",
       "4  {'neg': 0.0, 'neu': 1.0, 'pos': 0.0, 'compound...   \n",
       "\n",
       "                             Sentiment scores - TCVD  \n",
       "0  {'neg': 0.0, 'neu': 1.0, 'pos': 0.0, 'compound...  \n",
       "1  {'neg': 1.0, 'neu': 0.0, 'pos': 0.0, 'compound...  \n",
       "2  {'neg': 0.0, 'neu': 1.0, 'pos': 0.0, 'compound...  \n",
       "3  {'neg': 0.0, 'neu': 1.0, 'pos': 0.0, 'compound...  \n",
       "4  {'neg': 0.0, 'neu': 1.0, 'pos': 0.0, 'compound...  "
      ]
     },
     "execution_count": 32,
     "metadata": {},
     "output_type": "execute_result"
    }
   ],
   "source": [
    "Xbox_data.head()"
   ]
  },
  {
   "cell_type": "code",
   "execution_count": 33,
   "metadata": {},
   "outputs": [],
   "source": [
    "Xbox_data['Compound - TVD'] = Xbox_data['Sentiment scores - TVD'].apply(lambda score_dict: score_dict['compound'])\n",
    "Xbox_data['Compound - TCVD'] = Xbox_data['Sentiment scores - TCVD'].apply(lambda score_dict: score_dict['compound'])"
   ]
  },
  {
   "cell_type": "code",
   "execution_count": 34,
   "metadata": {},
   "outputs": [],
   "source": [
    "Xbox_data['Sentiment - TVD'] = Xbox_data['Compound - TVD'].apply(sentiment_class)\n",
    "Xbox_data['Sentiment - TCVD'] = Xbox_data['Compound - TCVD'].apply(sentiment_class)"
   ]
  },
  {
   "cell_type": "code",
   "execution_count": 35,
   "metadata": {},
   "outputs": [
    {
     "data": {
      "text/html": [
       "<div>\n",
       "<style scoped>\n",
       "    .dataframe tbody tr th:only-of-type {\n",
       "        vertical-align: middle;\n",
       "    }\n",
       "\n",
       "    .dataframe tbody tr th {\n",
       "        vertical-align: top;\n",
       "    }\n",
       "\n",
       "    .dataframe thead th {\n",
       "        text-align: right;\n",
       "    }\n",
       "</style>\n",
       "<table border=\"1\" class=\"dataframe\">\n",
       "  <thead>\n",
       "    <tr style=\"text-align: right;\">\n",
       "      <th></th>\n",
       "      <th>Date</th>\n",
       "      <th>Hour</th>\n",
       "      <th>Text</th>\n",
       "      <th>Text clean</th>\n",
       "      <th>Polarity - TTB</th>\n",
       "      <th>Subjectivity - TTB</th>\n",
       "      <th>Polarity - TCTB</th>\n",
       "      <th>Subjectivity - TCTB</th>\n",
       "      <th>Sentiment - TTB</th>\n",
       "      <th>Sentiment - TCTB</th>\n",
       "      <th>Sentiment scores - TVD</th>\n",
       "      <th>Sentiment scores - TCVD</th>\n",
       "      <th>Compound - TVD</th>\n",
       "      <th>Compound - TCVD</th>\n",
       "      <th>Sentiment - TVD</th>\n",
       "      <th>Sentiment - TCVD</th>\n",
       "    </tr>\n",
       "  </thead>\n",
       "  <tbody>\n",
       "    <tr>\n",
       "      <td>0</td>\n",
       "      <td>2020-07-23</td>\n",
       "      <td>16:59:51</td>\n",
       "      <td>First</td>\n",
       "      <td>First</td>\n",
       "      <td>0.25</td>\n",
       "      <td>0.333333</td>\n",
       "      <td>0.25</td>\n",
       "      <td>0.333333</td>\n",
       "      <td>Positive</td>\n",
       "      <td>Positive</td>\n",
       "      <td>{'neg': 0.0, 'neu': 1.0, 'pos': 0.0, 'compound...</td>\n",
       "      <td>{'neg': 0.0, 'neu': 1.0, 'pos': 0.0, 'compound...</td>\n",
       "      <td>0.0000</td>\n",
       "      <td>0.0000</td>\n",
       "      <td>Neutral</td>\n",
       "      <td>Neutral</td>\n",
       "    </tr>\n",
       "    <tr>\n",
       "      <td>1</td>\n",
       "      <td>2020-07-23</td>\n",
       "      <td>16:59:55</td>\n",
       "      <td>bad</td>\n",
       "      <td>bad</td>\n",
       "      <td>-0.70</td>\n",
       "      <td>0.666667</td>\n",
       "      <td>-0.70</td>\n",
       "      <td>0.666667</td>\n",
       "      <td>Negative</td>\n",
       "      <td>Negative</td>\n",
       "      <td>{'neg': 1.0, 'neu': 0.0, 'pos': 0.0, 'compound...</td>\n",
       "      <td>{'neg': 1.0, 'neu': 0.0, 'pos': 0.0, 'compound...</td>\n",
       "      <td>-0.5423</td>\n",
       "      <td>-0.5423</td>\n",
       "      <td>Negative</td>\n",
       "      <td>Negative</td>\n",
       "    </tr>\n",
       "    <tr>\n",
       "      <td>2</td>\n",
       "      <td>2020-07-23</td>\n",
       "      <td>16:59:56</td>\n",
       "      <td>First</td>\n",
       "      <td>First</td>\n",
       "      <td>0.25</td>\n",
       "      <td>0.333333</td>\n",
       "      <td>0.25</td>\n",
       "      <td>0.333333</td>\n",
       "      <td>Positive</td>\n",
       "      <td>Positive</td>\n",
       "      <td>{'neg': 0.0, 'neu': 1.0, 'pos': 0.0, 'compound...</td>\n",
       "      <td>{'neg': 0.0, 'neu': 1.0, 'pos': 0.0, 'compound...</td>\n",
       "      <td>0.0000</td>\n",
       "      <td>0.0000</td>\n",
       "      <td>Neutral</td>\n",
       "      <td>Neutral</td>\n",
       "    </tr>\n",
       "    <tr>\n",
       "      <td>3</td>\n",
       "      <td>2020-07-23</td>\n",
       "      <td>16:59:58</td>\n",
       "      <td>First comment</td>\n",
       "      <td>First comment</td>\n",
       "      <td>0.25</td>\n",
       "      <td>0.333333</td>\n",
       "      <td>0.25</td>\n",
       "      <td>0.333333</td>\n",
       "      <td>Positive</td>\n",
       "      <td>Positive</td>\n",
       "      <td>{'neg': 0.0, 'neu': 1.0, 'pos': 0.0, 'compound...</td>\n",
       "      <td>{'neg': 0.0, 'neu': 1.0, 'pos': 0.0, 'compound...</td>\n",
       "      <td>0.0000</td>\n",
       "      <td>0.0000</td>\n",
       "      <td>Neutral</td>\n",
       "      <td>Neutral</td>\n",
       "    </tr>\n",
       "    <tr>\n",
       "      <td>4</td>\n",
       "      <td>2020-07-23</td>\n",
       "      <td>17:00:02</td>\n",
       "      <td>Hello</td>\n",
       "      <td>Hello</td>\n",
       "      <td>0.00</td>\n",
       "      <td>0.000000</td>\n",
       "      <td>0.00</td>\n",
       "      <td>0.000000</td>\n",
       "      <td>Neutral</td>\n",
       "      <td>Neutral</td>\n",
       "      <td>{'neg': 0.0, 'neu': 1.0, 'pos': 0.0, 'compound...</td>\n",
       "      <td>{'neg': 0.0, 'neu': 1.0, 'pos': 0.0, 'compound...</td>\n",
       "      <td>0.0000</td>\n",
       "      <td>0.0000</td>\n",
       "      <td>Neutral</td>\n",
       "      <td>Neutral</td>\n",
       "    </tr>\n",
       "  </tbody>\n",
       "</table>\n",
       "</div>"
      ],
      "text/plain": [
       "         Date      Hour                             Text     Text clean  \\\n",
       "0  2020-07-23  16:59:51          First                            First   \n",
       "1  2020-07-23  16:59:55            bad                              bad   \n",
       "2  2020-07-23  16:59:56          First                            First   \n",
       "3  2020-07-23  16:59:58  First comment                    First comment   \n",
       "4  2020-07-23  17:00:02          Hello                            Hello   \n",
       "\n",
       "   Polarity - TTB  Subjectivity - TTB  Polarity - TCTB  Subjectivity - TCTB  \\\n",
       "0            0.25            0.333333             0.25             0.333333   \n",
       "1           -0.70            0.666667            -0.70             0.666667   \n",
       "2            0.25            0.333333             0.25             0.333333   \n",
       "3            0.25            0.333333             0.25             0.333333   \n",
       "4            0.00            0.000000             0.00             0.000000   \n",
       "\n",
       "  Sentiment - TTB Sentiment - TCTB  \\\n",
       "0        Positive         Positive   \n",
       "1        Negative         Negative   \n",
       "2        Positive         Positive   \n",
       "3        Positive         Positive   \n",
       "4         Neutral          Neutral   \n",
       "\n",
       "                              Sentiment scores - TVD  \\\n",
       "0  {'neg': 0.0, 'neu': 1.0, 'pos': 0.0, 'compound...   \n",
       "1  {'neg': 1.0, 'neu': 0.0, 'pos': 0.0, 'compound...   \n",
       "2  {'neg': 0.0, 'neu': 1.0, 'pos': 0.0, 'compound...   \n",
       "3  {'neg': 0.0, 'neu': 1.0, 'pos': 0.0, 'compound...   \n",
       "4  {'neg': 0.0, 'neu': 1.0, 'pos': 0.0, 'compound...   \n",
       "\n",
       "                             Sentiment scores - TCVD  Compound - TVD  \\\n",
       "0  {'neg': 0.0, 'neu': 1.0, 'pos': 0.0, 'compound...          0.0000   \n",
       "1  {'neg': 1.0, 'neu': 0.0, 'pos': 0.0, 'compound...         -0.5423   \n",
       "2  {'neg': 0.0, 'neu': 1.0, 'pos': 0.0, 'compound...          0.0000   \n",
       "3  {'neg': 0.0, 'neu': 1.0, 'pos': 0.0, 'compound...          0.0000   \n",
       "4  {'neg': 0.0, 'neu': 1.0, 'pos': 0.0, 'compound...          0.0000   \n",
       "\n",
       "   Compound - TCVD Sentiment - TVD Sentiment - TCVD  \n",
       "0           0.0000         Neutral          Neutral  \n",
       "1          -0.5423        Negative         Negative  \n",
       "2           0.0000         Neutral          Neutral  \n",
       "3           0.0000         Neutral          Neutral  \n",
       "4           0.0000         Neutral          Neutral  "
      ]
     },
     "execution_count": 35,
     "metadata": {},
     "output_type": "execute_result"
    }
   ],
   "source": [
    "Xbox_data.head()"
   ]
  },
  {
   "cell_type": "markdown",
   "metadata": {},
   "source": [
    "#### *Comparison*"
   ]
  },
  {
   "cell_type": "code",
   "execution_count": 36,
   "metadata": {},
   "outputs": [
    {
     "name": "stderr",
     "output_type": "stream",
     "text": [
      "/Users/salim/opt/anaconda3/lib/python3.7/site-packages/pandas/core/indexing.py:205: SettingWithCopyWarning: \n",
      "A value is trying to be set on a copy of a slice from a DataFrame\n",
      "\n",
      "See the caveats in the documentation: http://pandas.pydata.org/pandas-docs/stable/user_guide/indexing.html#returning-a-view-versus-a-copy\n",
      "  self._setitem_with_indexer(indexer, value)\n"
     ]
    }
   ],
   "source": [
    "Xbox_data['Comparison T'] = \"\"\n",
    "\n",
    "for i in range(0, len(Xbox_data)):\n",
    "    if Xbox_data['Sentiment - TTB'].loc[i] == Xbox_data['Sentiment - TVD'].loc[i]:\n",
    "        Xbox_data['Comparison T'].loc[i] = 1\n",
    "    else:\n",
    "        Xbox_data['Comparison T'].loc[i] = 0\n",
    "        \n",
    "        \n",
    "Xbox_data['Comparison TC'] = \"\"\n",
    "\n",
    "for i in range(0, len(Xbox_data)):\n",
    "    if Xbox_data['Sentiment - TCTB'].loc[i] == Xbox_data['Sentiment - TCVD'].loc[i]:\n",
    "        Xbox_data['Comparison TC'].loc[i] = 1\n",
    "    else:\n",
    "        Xbox_data['Comparison TC'].loc[i] = 0"
   ]
  },
  {
   "cell_type": "code",
   "execution_count": 37,
   "metadata": {},
   "outputs": [
    {
     "data": {
      "text/plain": [
       "1    828\n",
       "0    325\n",
       "Name: Comparison T, dtype: int64"
      ]
     },
     "execution_count": 37,
     "metadata": {},
     "output_type": "execute_result"
    }
   ],
   "source": [
    "Xbox_data['Comparison T'].value_counts()"
   ]
  },
  {
   "cell_type": "code",
   "execution_count": 38,
   "metadata": {},
   "outputs": [
    {
     "data": {
      "text/plain": [
       "1    772\n",
       "0    381\n",
       "Name: Comparison TC, dtype: int64"
      ]
     },
     "execution_count": 38,
     "metadata": {},
     "output_type": "execute_result"
    }
   ],
   "source": [
    "Xbox_data['Comparison TC'].value_counts()"
   ]
  },
  {
   "cell_type": "code",
   "execution_count": 39,
   "metadata": {},
   "outputs": [
    {
     "name": "stdout",
     "output_type": "stream",
     "text": [
      "72% of sentiment predictions are similar between TextBlob and VADER for \"Text\".\n",
      "28% of sentiment predictions are different between TextBlob and VADER for \"Text\".\n",
      "67% of sentiment predictions are similar between TextBlob and VADER for \"Text clean\".\n",
      "33% of sentiment predictions are different between TextBlob and VADER for \"Text clean\".\n"
     ]
    }
   ],
   "source": [
    "print(\"{0:.0%}\".format(len(Xbox_data[Xbox_data['Comparison T']==1])/len(Xbox_data)),'of sentiment predictions are similar between TextBlob and VADER for \"Text\".')\n",
    "print(\"{0:.0%}\".format(len(Xbox_data[Xbox_data['Comparison T']==0])/len(Xbox_data)),'of sentiment predictions are different between TextBlob and VADER for \"Text\".')\n",
    "\n",
    "print(\"{0:.0%}\".format(len(Xbox_data[Xbox_data['Comparison TC']==1])/len(Xbox_data)),'of sentiment predictions are similar between TextBlob and VADER for \"Text clean\".')\n",
    "print(\"{0:.0%}\".format(len(Xbox_data[Xbox_data['Comparison TC']==0])/len(Xbox_data)),'of sentiment predictions are different between TextBlob and VADER for \"Text clean\".')"
   ]
  },
  {
   "cell_type": "markdown",
   "metadata": {},
   "source": [
    "I see that 28% of sentiment predictions are different between the two libraries for 'Text'. My goal is to select the best predictor between the two. I will randomly choose 100 comments and assess manually which library has the right sentiment. The one which performed best will be the library I'll choose for my analysis. I will also assess whether to keep 'Text' or 'Text clean' for sentiment analysis.\n",
    "\n",
    "For that, I will export the predictions and manually input the correct sentiment. Then calculate the accuracy for each case."
   ]
  },
  {
   "cell_type": "code",
   "execution_count": 40,
   "metadata": {},
   "outputs": [],
   "source": [
    "comparison = Xbox_data[Xbox_data['Comparison T']==0][['Text','Sentiment - TTB','Sentiment - TCTB','Sentiment - TVD','Sentiment - TCVD']].sample(100 ,random_state=42)\n",
    "#comparison.to_csv('comparison_to_check.csv')"
   ]
  },
  {
   "cell_type": "code",
   "execution_count": 41,
   "metadata": {},
   "outputs": [],
   "source": [
    "comparison_checked = pd.read_csv('comparison_checked.csv',sep=';')"
   ]
  },
  {
   "cell_type": "code",
   "execution_count": 42,
   "metadata": {},
   "outputs": [
    {
     "data": {
      "text/html": [
       "<div>\n",
       "<style scoped>\n",
       "    .dataframe tbody tr th:only-of-type {\n",
       "        vertical-align: middle;\n",
       "    }\n",
       "\n",
       "    .dataframe tbody tr th {\n",
       "        vertical-align: top;\n",
       "    }\n",
       "\n",
       "    .dataframe thead th {\n",
       "        text-align: right;\n",
       "    }\n",
       "</style>\n",
       "<table border=\"1\" class=\"dataframe\">\n",
       "  <thead>\n",
       "    <tr style=\"text-align: right;\">\n",
       "      <th></th>\n",
       "      <th>Unnamed: 0</th>\n",
       "      <th>Text</th>\n",
       "      <th>Sentiment - TTB</th>\n",
       "      <th>Sentiment - TCTB</th>\n",
       "      <th>Sentiment - TVD</th>\n",
       "      <th>Sentiment - TCVD</th>\n",
       "      <th>True sentiment</th>\n",
       "    </tr>\n",
       "  </thead>\n",
       "  <tbody>\n",
       "    <tr>\n",
       "      <td>0</td>\n",
       "      <td>834</td>\n",
       "      <td>the people who are complaining about halo grap...</td>\n",
       "      <td>Neutral</td>\n",
       "      <td>Neutral</td>\n",
       "      <td>Negative</td>\n",
       "      <td>Negative</td>\n",
       "      <td>Neutral</td>\n",
       "    </tr>\n",
       "    <tr>\n",
       "      <td>1</td>\n",
       "      <td>437</td>\n",
       "      <td>It was ok but Ill save my judgement until thes...</td>\n",
       "      <td>Neutral</td>\n",
       "      <td>Negative</td>\n",
       "      <td>Positive</td>\n",
       "      <td>Positive</td>\n",
       "      <td>Positive</td>\n",
       "    </tr>\n",
       "    <tr>\n",
       "      <td>2</td>\n",
       "      <td>881</td>\n",
       "      <td>Tell me why My thoughts exactly</td>\n",
       "      <td>Positive</td>\n",
       "      <td>Positive</td>\n",
       "      <td>Neutral</td>\n",
       "      <td>Neutral</td>\n",
       "      <td>Neutral</td>\n",
       "    </tr>\n",
       "    <tr>\n",
       "      <td>3</td>\n",
       "      <td>44</td>\n",
       "      <td>Nothing really interested me enough to switch ...</td>\n",
       "      <td>Positive</td>\n",
       "      <td>Positive</td>\n",
       "      <td>Negative</td>\n",
       "      <td>Negative</td>\n",
       "      <td>Negative</td>\n",
       "    </tr>\n",
       "    <tr>\n",
       "      <td>4</td>\n",
       "      <td>381</td>\n",
       "      <td>Well Im Soaked</td>\n",
       "      <td>Neutral</td>\n",
       "      <td>Neutral</td>\n",
       "      <td>Positive</td>\n",
       "      <td>Positive</td>\n",
       "      <td>Neutral</td>\n",
       "    </tr>\n",
       "    <tr>\n",
       "      <td>...</td>\n",
       "      <td>...</td>\n",
       "      <td>...</td>\n",
       "      <td>...</td>\n",
       "      <td>...</td>\n",
       "      <td>...</td>\n",
       "      <td>...</td>\n",
       "      <td>...</td>\n",
       "    </tr>\n",
       "    <tr>\n",
       "      <td>95</td>\n",
       "      <td>910</td>\n",
       "      <td>meh</td>\n",
       "      <td>Neutral</td>\n",
       "      <td>Neutral</td>\n",
       "      <td>Negative</td>\n",
       "      <td>Negative</td>\n",
       "      <td>Negative</td>\n",
       "    </tr>\n",
       "    <tr>\n",
       "      <td>96</td>\n",
       "      <td>227</td>\n",
       "      <td>Feel so sorry for Xbox players  Maybe 5 years ...</td>\n",
       "      <td>Positive</td>\n",
       "      <td>Positive</td>\n",
       "      <td>Negative</td>\n",
       "      <td>Positive</td>\n",
       "      <td>Negative</td>\n",
       "    </tr>\n",
       "    <tr>\n",
       "      <td>97</td>\n",
       "      <td>1082</td>\n",
       "      <td>Original thought provoking moving and sometime...</td>\n",
       "      <td>Negative</td>\n",
       "      <td>Negative</td>\n",
       "      <td>Positive</td>\n",
       "      <td>Positive</td>\n",
       "      <td>Negative</td>\n",
       "    </tr>\n",
       "    <tr>\n",
       "      <td>98</td>\n",
       "      <td>513</td>\n",
       "      <td>bruh I knew they were lying about fable       ...</td>\n",
       "      <td>Neutral</td>\n",
       "      <td>Neutral</td>\n",
       "      <td>Negative</td>\n",
       "      <td>Neutral</td>\n",
       "      <td>Negative</td>\n",
       "    </tr>\n",
       "    <tr>\n",
       "      <td>99</td>\n",
       "      <td>754</td>\n",
       "      <td>OBSIDIAN CAME TO PLAY</td>\n",
       "      <td>Neutral</td>\n",
       "      <td>Neutral</td>\n",
       "      <td>Positive</td>\n",
       "      <td>Positive</td>\n",
       "      <td>Positive</td>\n",
       "    </tr>\n",
       "  </tbody>\n",
       "</table>\n",
       "<p>100 rows × 7 columns</p>\n",
       "</div>"
      ],
      "text/plain": [
       "    Unnamed: 0                                               Text  \\\n",
       "0          834  the people who are complaining about halo grap...   \n",
       "1          437  It was ok but Ill save my judgement until thes...   \n",
       "2          881  Tell me why My thoughts exactly                     \n",
       "3           44  Nothing really interested me enough to switch ...   \n",
       "4          381                   Well Im Soaked                     \n",
       "..         ...                                                ...   \n",
       "95         910                              meh                     \n",
       "96         227  Feel so sorry for Xbox players  Maybe 5 years ...   \n",
       "97        1082  Original thought provoking moving and sometime...   \n",
       "98         513  bruh I knew they were lying about fable       ...   \n",
       "99         754            OBSIDIAN CAME TO PLAY                     \n",
       "\n",
       "   Sentiment - TTB Sentiment - TCTB Sentiment - TVD Sentiment - TCVD  \\\n",
       "0          Neutral          Neutral        Negative         Negative   \n",
       "1          Neutral         Negative        Positive         Positive   \n",
       "2         Positive         Positive         Neutral          Neutral   \n",
       "3         Positive         Positive        Negative         Negative   \n",
       "4          Neutral          Neutral        Positive         Positive   \n",
       "..             ...              ...             ...              ...   \n",
       "95         Neutral          Neutral        Negative         Negative   \n",
       "96        Positive         Positive        Negative         Positive   \n",
       "97        Negative         Negative        Positive         Positive   \n",
       "98         Neutral          Neutral        Negative          Neutral   \n",
       "99         Neutral          Neutral        Positive         Positive   \n",
       "\n",
       "   True sentiment  \n",
       "0         Neutral  \n",
       "1        Positive  \n",
       "2         Neutral  \n",
       "3        Negative  \n",
       "4         Neutral  \n",
       "..            ...  \n",
       "95       Negative  \n",
       "96       Negative  \n",
       "97       Negative  \n",
       "98       Negative  \n",
       "99       Positive  \n",
       "\n",
       "[100 rows x 7 columns]"
      ]
     },
     "execution_count": 42,
     "metadata": {},
     "output_type": "execute_result"
    }
   ],
   "source": [
    "comparison_checked"
   ]
  },
  {
   "cell_type": "code",
   "execution_count": 43,
   "metadata": {},
   "outputs": [],
   "source": [
    "for j in ['Sentiment - TTB', 'Sentiment - TCTB', 'Sentiment - TVD', 'Sentiment - TCVD']:\n",
    "    for i in range(0, len(comparison_checked)):\n",
    "        if comparison_checked[j].loc[i] == comparison_checked['True sentiment'].loc[i]:\n",
    "            comparison_checked[j].loc[i] = 1\n",
    "        else:\n",
    "            comparison_checked[j].loc[i] = 0"
   ]
  },
  {
   "cell_type": "code",
   "execution_count": 44,
   "metadata": {},
   "outputs": [
    {
     "data": {
      "text/html": [
       "<div>\n",
       "<style scoped>\n",
       "    .dataframe tbody tr th:only-of-type {\n",
       "        vertical-align: middle;\n",
       "    }\n",
       "\n",
       "    .dataframe tbody tr th {\n",
       "        vertical-align: top;\n",
       "    }\n",
       "\n",
       "    .dataframe thead th {\n",
       "        text-align: right;\n",
       "    }\n",
       "</style>\n",
       "<table border=\"1\" class=\"dataframe\">\n",
       "  <thead>\n",
       "    <tr style=\"text-align: right;\">\n",
       "      <th></th>\n",
       "      <th>Unnamed: 0</th>\n",
       "      <th>Text</th>\n",
       "      <th>Sentiment - TTB</th>\n",
       "      <th>Sentiment - TCTB</th>\n",
       "      <th>Sentiment - TVD</th>\n",
       "      <th>Sentiment - TCVD</th>\n",
       "      <th>True sentiment</th>\n",
       "    </tr>\n",
       "  </thead>\n",
       "  <tbody>\n",
       "    <tr>\n",
       "      <td>0</td>\n",
       "      <td>834</td>\n",
       "      <td>the people who are complaining about halo grap...</td>\n",
       "      <td>1</td>\n",
       "      <td>1</td>\n",
       "      <td>0</td>\n",
       "      <td>0</td>\n",
       "      <td>Neutral</td>\n",
       "    </tr>\n",
       "    <tr>\n",
       "      <td>1</td>\n",
       "      <td>437</td>\n",
       "      <td>It was ok but Ill save my judgement until thes...</td>\n",
       "      <td>0</td>\n",
       "      <td>0</td>\n",
       "      <td>1</td>\n",
       "      <td>1</td>\n",
       "      <td>Positive</td>\n",
       "    </tr>\n",
       "    <tr>\n",
       "      <td>2</td>\n",
       "      <td>881</td>\n",
       "      <td>Tell me why My thoughts exactly</td>\n",
       "      <td>0</td>\n",
       "      <td>0</td>\n",
       "      <td>1</td>\n",
       "      <td>1</td>\n",
       "      <td>Neutral</td>\n",
       "    </tr>\n",
       "    <tr>\n",
       "      <td>3</td>\n",
       "      <td>44</td>\n",
       "      <td>Nothing really interested me enough to switch ...</td>\n",
       "      <td>0</td>\n",
       "      <td>0</td>\n",
       "      <td>1</td>\n",
       "      <td>1</td>\n",
       "      <td>Negative</td>\n",
       "    </tr>\n",
       "    <tr>\n",
       "      <td>4</td>\n",
       "      <td>381</td>\n",
       "      <td>Well Im Soaked</td>\n",
       "      <td>1</td>\n",
       "      <td>1</td>\n",
       "      <td>0</td>\n",
       "      <td>0</td>\n",
       "      <td>Neutral</td>\n",
       "    </tr>\n",
       "    <tr>\n",
       "      <td>...</td>\n",
       "      <td>...</td>\n",
       "      <td>...</td>\n",
       "      <td>...</td>\n",
       "      <td>...</td>\n",
       "      <td>...</td>\n",
       "      <td>...</td>\n",
       "      <td>...</td>\n",
       "    </tr>\n",
       "    <tr>\n",
       "      <td>95</td>\n",
       "      <td>910</td>\n",
       "      <td>meh</td>\n",
       "      <td>0</td>\n",
       "      <td>0</td>\n",
       "      <td>1</td>\n",
       "      <td>1</td>\n",
       "      <td>Negative</td>\n",
       "    </tr>\n",
       "    <tr>\n",
       "      <td>96</td>\n",
       "      <td>227</td>\n",
       "      <td>Feel so sorry for Xbox players  Maybe 5 years ...</td>\n",
       "      <td>0</td>\n",
       "      <td>0</td>\n",
       "      <td>1</td>\n",
       "      <td>0</td>\n",
       "      <td>Negative</td>\n",
       "    </tr>\n",
       "    <tr>\n",
       "      <td>97</td>\n",
       "      <td>1082</td>\n",
       "      <td>Original thought provoking moving and sometime...</td>\n",
       "      <td>1</td>\n",
       "      <td>1</td>\n",
       "      <td>0</td>\n",
       "      <td>0</td>\n",
       "      <td>Negative</td>\n",
       "    </tr>\n",
       "    <tr>\n",
       "      <td>98</td>\n",
       "      <td>513</td>\n",
       "      <td>bruh I knew they were lying about fable       ...</td>\n",
       "      <td>0</td>\n",
       "      <td>0</td>\n",
       "      <td>1</td>\n",
       "      <td>0</td>\n",
       "      <td>Negative</td>\n",
       "    </tr>\n",
       "    <tr>\n",
       "      <td>99</td>\n",
       "      <td>754</td>\n",
       "      <td>OBSIDIAN CAME TO PLAY</td>\n",
       "      <td>0</td>\n",
       "      <td>0</td>\n",
       "      <td>1</td>\n",
       "      <td>1</td>\n",
       "      <td>Positive</td>\n",
       "    </tr>\n",
       "  </tbody>\n",
       "</table>\n",
       "<p>100 rows × 7 columns</p>\n",
       "</div>"
      ],
      "text/plain": [
       "    Unnamed: 0                                               Text  \\\n",
       "0          834  the people who are complaining about halo grap...   \n",
       "1          437  It was ok but Ill save my judgement until thes...   \n",
       "2          881  Tell me why My thoughts exactly                     \n",
       "3           44  Nothing really interested me enough to switch ...   \n",
       "4          381                   Well Im Soaked                     \n",
       "..         ...                                                ...   \n",
       "95         910                              meh                     \n",
       "96         227  Feel so sorry for Xbox players  Maybe 5 years ...   \n",
       "97        1082  Original thought provoking moving and sometime...   \n",
       "98         513  bruh I knew they were lying about fable       ...   \n",
       "99         754            OBSIDIAN CAME TO PLAY                     \n",
       "\n",
       "    Sentiment - TTB  Sentiment - TCTB  Sentiment - TVD  Sentiment - TCVD  \\\n",
       "0                 1                 1                0                 0   \n",
       "1                 0                 0                1                 1   \n",
       "2                 0                 0                1                 1   \n",
       "3                 0                 0                1                 1   \n",
       "4                 1                 1                0                 0   \n",
       "..              ...               ...              ...               ...   \n",
       "95                0                 0                1                 1   \n",
       "96                0                 0                1                 0   \n",
       "97                1                 1                0                 0   \n",
       "98                0                 0                1                 0   \n",
       "99                0                 0                1                 1   \n",
       "\n",
       "   True sentiment  \n",
       "0         Neutral  \n",
       "1        Positive  \n",
       "2         Neutral  \n",
       "3        Negative  \n",
       "4         Neutral  \n",
       "..            ...  \n",
       "95       Negative  \n",
       "96       Negative  \n",
       "97       Negative  \n",
       "98       Negative  \n",
       "99       Positive  \n",
       "\n",
       "[100 rows x 7 columns]"
      ]
     },
     "execution_count": 44,
     "metadata": {},
     "output_type": "execute_result"
    }
   ],
   "source": [
    "comparison_checked"
   ]
  },
  {
   "cell_type": "code",
   "execution_count": 45,
   "metadata": {},
   "outputs": [
    {
     "name": "stdout",
     "output_type": "stream",
     "text": [
      "30% of sentiment predictions were correct for \"Text\" and TextBlob.\n",
      "33% of sentiment predictions were correct for \"Text clean\" and TextBlob.\n",
      "55% of sentiment predictions were correct for \"Text\" and VADER.\n",
      "50% of sentiment predictions were correct for \"Text clean\" and VADER.\n"
     ]
    }
   ],
   "source": [
    "print(\"{0:.0%}\".format(sum(comparison_checked['Sentiment - TTB'])/len(comparison_checked)),'of sentiment predictions were correct for \"Text\" and TextBlob.')\n",
    "print(\"{0:.0%}\".format(sum(comparison_checked['Sentiment - TCTB'])/len(comparison_checked)),'of sentiment predictions were correct for \"Text clean\" and TextBlob.')\n",
    "print(\"{0:.0%}\".format(sum(comparison_checked['Sentiment - TVD'])/len(comparison_checked)),'of sentiment predictions were correct for \"Text\" and VADER.')\n",
    "print(\"{0:.0%}\".format(sum(comparison_checked['Sentiment - TCVD'])/len(comparison_checked)),'of sentiment predictions were correct for \"Text clean\" and VADER.')"
   ]
  },
  {
   "cell_type": "markdown",
   "metadata": {},
   "source": [
    "Ok so we have interesting insights. It looks like VADER is way more efficient than TextBlob on this dataset.\n",
    "Besides, this library performed better with the raw comments (i.e. without extra cleaning steps).\n",
    "\n",
    "One could say 55% is a low accuracy but I am quite happy with that score knowing that these two libraries are not based on Machine Learning. They are mapping keywords with a fixed sentiment score. Moreover, YouTube comments are not the cleanest texts, people usually speak in a familiar way.\n",
    "\n",
    "**Let's use VADER with the raw comments for our sentiment analysis.**"
   ]
  },
  {
   "cell_type": "markdown",
   "metadata": {},
   "source": [
    "#### *Final sentiment analysis*"
   ]
  },
  {
   "cell_type": "code",
   "execution_count": 49,
   "metadata": {},
   "outputs": [],
   "source": [
    "Xbox_data_sentiment = Xbox_data[['Date','Hour','Text','Sentiment - TVD']]"
   ]
  },
  {
   "cell_type": "code",
   "execution_count": 52,
   "metadata": {},
   "outputs": [
    {
     "data": {
      "text/plain": [
       "Positive    469\n",
       "Neutral     444\n",
       "Negative    240\n",
       "Name: Sentiment - TVD, dtype: int64"
      ]
     },
     "execution_count": 52,
     "metadata": {},
     "output_type": "execute_result"
    }
   ],
   "source": [
    "Xbox_data_sentiment['Sentiment - TVD'].value_counts()"
   ]
  },
  {
   "cell_type": "code",
   "execution_count": 56,
   "metadata": {},
   "outputs": [
    {
     "name": "stdout",
     "output_type": "stream",
     "text": [
      "41% of Xbox YouTube comments are positive.\n",
      "39% of Xbox YouTube comments are neutral.\n",
      "21% of Xbox YouTube comments are negative.\n"
     ]
    }
   ],
   "source": [
    "print(\"{0:.0%}\".format(len(Xbox_data_sentiment[Xbox_data_sentiment['Sentiment - TVD']=='Positive'])/len(Xbox_data_sentiment)),'of Xbox YouTube comments are positive.')\n",
    "print(\"{0:.0%}\".format(len(Xbox_data_sentiment[Xbox_data_sentiment['Sentiment - TVD']=='Neutral'])/len(Xbox_data_sentiment)),'of Xbox YouTube comments are neutral.')\n",
    "print(\"{0:.0%}\".format(len(Xbox_data_sentiment[Xbox_data_sentiment['Sentiment - TVD']=='Negative'])/len(Xbox_data_sentiment)),'of Xbox YouTube comments are negative.')"
   ]
  },
  {
   "cell_type": "markdown",
   "metadata": {},
   "source": [
    "### PS5"
   ]
  },
  {
   "cell_type": "markdown",
   "metadata": {},
   "source": [
    "# Most discussed games"
   ]
  },
  {
   "cell_type": "markdown",
   "metadata": {},
   "source": [
    "I need to create a list of the games featured at each showcase. Then isolate these games in the YouTube comments to determine which games were the most discussed by brand."
   ]
  },
  {
   "cell_type": "code",
   "execution_count": null,
   "metadata": {},
   "outputs": [],
   "source": []
  }
 ],
 "metadata": {
  "kernelspec": {
   "display_name": "Python 3",
   "language": "python",
   "name": "python3"
  },
  "language_info": {
   "codemirror_mode": {
    "name": "ipython",
    "version": 3
   },
   "file_extension": ".py",
   "mimetype": "text/x-python",
   "name": "python",
   "nbconvert_exporter": "python",
   "pygments_lexer": "ipython3",
   "version": "3.7.4"
  }
 },
 "nbformat": 4,
 "nbformat_minor": 2
}
