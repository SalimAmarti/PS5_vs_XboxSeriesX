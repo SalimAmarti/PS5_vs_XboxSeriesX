{
 "cells": [
  {
   "cell_type": "markdown",
   "metadata": {},
   "source": [
    "# Imports"
   ]
  },
  {
   "cell_type": "code",
   "execution_count": 1,
   "metadata": {},
   "outputs": [],
   "source": [
    "import pandas as pd\n",
    "import matplotlib.pyplot as plt\n",
    "import numpy as np"
   ]
  },
  {
   "cell_type": "code",
   "execution_count": null,
   "metadata": {},
   "outputs": [],
   "source": [
    "#import twint"
   ]
  },
  {
   "cell_type": "markdown",
   "metadata": {},
   "source": [
    "I decided to use Twint to scrape data from Twitter. I hesitated with Tweepy but this library is limited with the API limitations... As I want to collect all Twitter mentions from September, that library might not be well-suited."
   ]
  },
  {
   "cell_type": "markdown",
   "metadata": {},
   "source": [
    "# Twitter data collection"
   ]
  },
  {
   "cell_type": "code",
   "execution_count": null,
   "metadata": {},
   "outputs": [],
   "source": [
    "#configuration\n",
    "#config = twint.Config()\n",
    "#config.Search = \"PS5\"\n",
    "#config.Lang = \"en\"\n",
    "#config.Limit = 5\n",
    "#config.Since = '2020–09–01 00:01:00'\n",
    "#config.Until = \"2020–9–28 00:00:00\"\n",
    "#config.Store_csv = True\n",
    "#config.Output = \"test.csv\"\n",
    "#running search\n",
    "#twint.run.Search(config)"
   ]
  },
  {
   "cell_type": "code",
   "execution_count": null,
   "metadata": {},
   "outputs": [],
   "source": [
    "#import twitter_scraper"
   ]
  },
  {
   "cell_type": "code",
   "execution_count": null,
   "metadata": {},
   "outputs": [],
   "source": [
    "#from twitter_scraper import get_tweets"
   ]
  },
  {
   "cell_type": "code",
   "execution_count": null,
   "metadata": {},
   "outputs": [],
   "source": [
    "#tweets = get_tweets(\"PS5\",pages=5)"
   ]
  },
  {
   "cell_type": "code",
   "execution_count": null,
   "metadata": {},
   "outputs": [],
   "source": [
    "#tweets"
   ]
  },
  {
   "cell_type": "code",
   "execution_count": null,
   "metadata": {},
   "outputs": [],
   "source": [
    "#tweets_df = pd.DataFrame()"
   ]
  },
  {
   "cell_type": "code",
   "execution_count": null,
   "metadata": {},
   "outputs": [],
   "source": [
    "#for tweet in tweets:\n",
    "    #print('Keys:', list(tweet.keys()), '\\n')\n",
    "    #break"
   ]
  },
  {
   "cell_type": "code",
   "execution_count": null,
   "metadata": {},
   "outputs": [],
   "source": [
    "#for tweet in tweets:\n",
    "    #_ = pd.DataFrame({'text' : [tweet['text']],\n",
    "                    #'isRetweet' : tweet['isRetweet'],\n",
    "                    #'replies' : tweet['replies'],\n",
    "                    #'retweets' : tweet['retweets'],\n",
    "                    #'likes' : tweet['likes']\n",
    "                    #})\n",
    "    #tweets_df = tweets_df.append(_, ignore_index = True)\n",
    "#tweets_df.head()"
   ]
  },
  {
   "cell_type": "code",
   "execution_count": null,
   "metadata": {},
   "outputs": [],
   "source": [
    "#for i in tweets:\n",
    "    #tweets_df.append(i)"
   ]
  },
  {
   "cell_type": "code",
   "execution_count": null,
   "metadata": {},
   "outputs": [],
   "source": [
    "#tweets_df"
   ]
  },
  {
   "cell_type": "code",
   "execution_count": null,
   "metadata": {},
   "outputs": [],
   "source": []
  },
  {
   "cell_type": "code",
   "execution_count": null,
   "metadata": {},
   "outputs": [],
   "source": [
    "#import twitterscraper\n",
    "#import datetime as dt"
   ]
  },
  {
   "cell_type": "code",
   "execution_count": null,
   "metadata": {},
   "outputs": [],
   "source": [
    "#from twitterscraper import query_tweets"
   ]
  },
  {
   "cell_type": "code",
   "execution_count": null,
   "metadata": {},
   "outputs": [],
   "source": [
    "#tweets = query_tweets('bitcoin', limit=10, begindate=dt.date.today(), enddate=dt.date.today(), lang='en')"
   ]
  },
  {
   "cell_type": "code",
   "execution_count": null,
   "metadata": {},
   "outputs": [],
   "source": [
    "#for i in tweets:\n",
    "    #print(i)"
   ]
  },
  {
   "cell_type": "code",
   "execution_count": null,
   "metadata": {},
   "outputs": [],
   "source": [
    "#df = pd.DataFrame(t.__dict__ for t in tweets)"
   ]
  },
  {
   "cell_type": "code",
   "execution_count": null,
   "metadata": {},
   "outputs": [],
   "source": [
    "#df"
   ]
  },
  {
   "cell_type": "code",
   "execution_count": null,
   "metadata": {},
   "outputs": [],
   "source": [
    "#import GetOldTweets3 as got"
   ]
  },
  {
   "cell_type": "code",
   "execution_count": null,
   "metadata": {},
   "outputs": [],
   "source": [
    "#tweetCriteria = got.manager.TweetCriteria().setQuerySearch('PS5')\\\n",
    "                                           #.setSince(\"2020-09-01\")\\\n",
    "                                           #.setUntil(\"2020-09-30\")\\\n",
    "                                           #.setMaxTweets(10)\n",
    "#tweet = got.manager.TweetManager.getTweets(tweetCriteria)[0]\n",
    "#print(tweet.text)"
   ]
  },
  {
   "cell_type": "code",
   "execution_count": null,
   "metadata": {},
   "outputs": [],
   "source": [
    "#import twint\n",
    "#c = twint.Config()\n",
    "#c.Search = \"ps5\"\n",
    "#c.Store_object = True\n",
    "#c.Limit = 100\n",
    "#twint.run.Search(c)\n",
    "#tlist = c.search_tweet_list"
   ]
  },
  {
   "cell_type": "code",
   "execution_count": null,
   "metadata": {},
   "outputs": [],
   "source": [
    "#c=twint.Config()\n",
    "#c.Hide_output=False #but it ignores this\n",
    "#c.Store_object=True\n",
    "#c.Store_csv=True\n",
    "#c.Since=\"2020-09-01\"\n",
    "#c.User_full=True\n",
    "#c.Limit=100 #I have tested up to 1000 ok\n",
    "#c.Output=\"testing.csv\" #but it ignores this\n",
    "\n",
    "#srchname=\"(from:RealDonaldTrump)\"\n",
    "#srch=srchname+\" max_id:\"+str(1307047063197224961)\n",
    "\n",
    "#twint.run.Search(c)\n",
    "#tlist = c.search_tweet_list\n",
    "#print(tlist)"
   ]
  },
  {
   "cell_type": "markdown",
   "metadata": {},
   "source": [
    "# YouTube data extraction"
   ]
  },
  {
   "cell_type": "markdown",
   "metadata": {},
   "source": [
    "At first, I wanted to analyze all PS5 and Xbox tweets in September as many announcements occured that month (price, games, etc.). But it was too difficult for me to get the Twitter data. The API limitations only let me have access to the last 7 days of data. I also had a look at the scrapers (Twint, tweetscraper, GetOldTweets3, etc.) but they are all down for some reasons...\n",
    "Therefore, I decided to change a bit the scope of the project.\n",
    "\n",
    "I will have a look at the YouTube comments of both PS5 and Xbox games showcases.\n",
    "The PS5 showcase occured on the 16th of September while the Xbox Series X showcase occured on the 23rd of July."
   ]
  },
  {
   "cell_type": "code",
   "execution_count": 136,
   "metadata": {},
   "outputs": [],
   "source": [
    "Xbox_data = pd.read_fwf('Xbox_comments.txt',header=None)"
   ]
  },
  {
   "cell_type": "code",
   "execution_count": 137,
   "metadata": {},
   "outputs": [],
   "source": [
    "Xbox_data.fillna('',inplace=True)"
   ]
  },
  {
   "cell_type": "code",
   "execution_count": 138,
   "metadata": {},
   "outputs": [],
   "source": [
    "#Consolidating text together in one column\n",
    "Xbox_data['Text'] = Xbox_data[2]\n",
    "Xbox_data.drop(2,axis=1,inplace=True)\n",
    "for i in range(3,21):\n",
    "    Xbox_data['Text']=Xbox_data['Text'] + \" \" + Xbox_data[i]\n",
    "    Xbox_data.drop(i,axis=1,inplace=True)"
   ]
  },
  {
   "cell_type": "code",
   "execution_count": 139,
   "metadata": {},
   "outputs": [],
   "source": [
    "#Removing \":\" from end of column \"1\" (hours)\n",
    "Xbox_data[1]=Xbox_data[1].apply(lambda x: x[:-1])"
   ]
  },
  {
   "cell_type": "code",
   "execution_count": 140,
   "metadata": {},
   "outputs": [],
   "source": [
    "#Renaming columns\n",
    "Xbox_data.rename(columns={0:'Date',1:'Hour'},inplace=True)"
   ]
  },
  {
   "cell_type": "code",
   "execution_count": 141,
   "metadata": {},
   "outputs": [
    {
     "data": {
      "text/html": [
       "<div>\n",
       "<style scoped>\n",
       "    .dataframe tbody tr th:only-of-type {\n",
       "        vertical-align: middle;\n",
       "    }\n",
       "\n",
       "    .dataframe tbody tr th {\n",
       "        vertical-align: top;\n",
       "    }\n",
       "\n",
       "    .dataframe thead th {\n",
       "        text-align: right;\n",
       "    }\n",
       "</style>\n",
       "<table border=\"1\" class=\"dataframe\">\n",
       "  <thead>\n",
       "    <tr style=\"text-align: right;\">\n",
       "      <th></th>\n",
       "      <th>Date</th>\n",
       "      <th>Hour</th>\n",
       "      <th>Text</th>\n",
       "    </tr>\n",
       "  </thead>\n",
       "  <tbody>\n",
       "    <tr>\n",
       "      <td>0</td>\n",
       "      <td>2020-07-23</td>\n",
       "      <td>16:59:51</td>\n",
       "      <td>First</td>\n",
       "    </tr>\n",
       "    <tr>\n",
       "      <td>1</td>\n",
       "      <td>2020-07-23</td>\n",
       "      <td>16:59:55</td>\n",
       "      <td>bad</td>\n",
       "    </tr>\n",
       "    <tr>\n",
       "      <td>2</td>\n",
       "      <td>2020-07-23</td>\n",
       "      <td>16:59:56</td>\n",
       "      <td>First</td>\n",
       "    </tr>\n",
       "    <tr>\n",
       "      <td>3</td>\n",
       "      <td>2020-07-23</td>\n",
       "      <td>16:59:58</td>\n",
       "      <td>First comment</td>\n",
       "    </tr>\n",
       "    <tr>\n",
       "      <td>4</td>\n",
       "      <td>2020-07-23</td>\n",
       "      <td>17:00:02</td>\n",
       "      <td>Hello</td>\n",
       "    </tr>\n",
       "    <tr>\n",
       "      <td>...</td>\n",
       "      <td>...</td>\n",
       "      <td>...</td>\n",
       "      <td>...</td>\n",
       "    </tr>\n",
       "    <tr>\n",
       "      <td>1186</td>\n",
       "      <td>2020-09-27</td>\n",
       "      <td>19:39:25</td>\n",
       "      <td>Pyschonauts looks mad</td>\n",
       "    </tr>\n",
       "    <tr>\n",
       "      <td>1187</td>\n",
       "      <td>2020-09-27</td>\n",
       "      <td>19:55:25</td>\n",
       "      <td>Cross fire looks incredible</td>\n",
       "    </tr>\n",
       "    <tr>\n",
       "      <td>1188</td>\n",
       "      <td>2020-09-28</td>\n",
       "      <td>10:49:45</td>\n",
       "      <td>What's the song at the end ?</td>\n",
       "    </tr>\n",
       "    <tr>\n",
       "      <td>1189</td>\n",
       "      <td>2020-09-29</td>\n",
       "      <td>06:05:50</td>\n",
       "      <td>why are people disliking this?</td>\n",
       "    </tr>\n",
       "    <tr>\n",
       "      <td>1190</td>\n",
       "      <td>2020-09-30</td>\n",
       "      <td>16:41:25</td>\n",
       "      <td>Imagine Fallout and Elder Scrolls with these g...</td>\n",
       "    </tr>\n",
       "  </tbody>\n",
       "</table>\n",
       "<p>1191 rows × 3 columns</p>\n",
       "</div>"
      ],
      "text/plain": [
       "            Date      Hour                                               Text\n",
       "0     2020-07-23  16:59:51                            First                  \n",
       "1     2020-07-23  16:59:55                              bad                  \n",
       "2     2020-07-23  16:59:56                            First                  \n",
       "3     2020-07-23  16:59:58                    First comment                  \n",
       "4     2020-07-23  17:00:02                            Hello                  \n",
       "...          ...       ...                                                ...\n",
       "1186  2020-09-27  19:39:25            Pyschonauts looks mad                  \n",
       "1187  2020-09-27  19:55:25      Cross fire looks incredible                  \n",
       "1188  2020-09-28  10:49:45     What's the song at the end ?                  \n",
       "1189  2020-09-29  06:05:50   why are people disliking this?                  \n",
       "1190  2020-09-30  16:41:25  Imagine Fallout and Elder Scrolls with these g...\n",
       "\n",
       "[1191 rows x 3 columns]"
      ]
     },
     "execution_count": 141,
     "metadata": {},
     "output_type": "execute_result"
    }
   ],
   "source": [
    "Xbox_data"
   ]
  },
  {
   "cell_type": "markdown",
   "metadata": {},
   "source": [
    "# Text processing"
   ]
  },
  {
   "cell_type": "code",
   "execution_count": null,
   "metadata": {},
   "outputs": [],
   "source": []
  }
 ],
 "metadata": {
  "kernelspec": {
   "display_name": "Python 3",
   "language": "python",
   "name": "python3"
  },
  "language_info": {
   "codemirror_mode": {
    "name": "ipython",
    "version": 3
   },
   "file_extension": ".py",
   "mimetype": "text/x-python",
   "name": "python",
   "nbconvert_exporter": "python",
   "pygments_lexer": "ipython3",
   "version": "3.7.4"
  }
 },
 "nbformat": 4,
 "nbformat_minor": 2
}
