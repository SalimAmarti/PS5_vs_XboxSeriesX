{
 "cells": [
  {
   "cell_type": "markdown",
   "metadata": {},
   "source": [
    "# Imports"
   ]
  },
  {
   "cell_type": "code",
   "execution_count": 1,
   "metadata": {},
   "outputs": [],
   "source": [
    "import pandas as pd\n",
    "import matplotlib.pyplot as plt\n",
    "import numpy as np"
   ]
  },
  {
   "cell_type": "markdown",
   "metadata": {},
   "source": [
    "# YouTube data extraction"
   ]
  },
  {
   "cell_type": "markdown",
   "metadata": {},
   "source": [
    "At first, I wanted to analyze all PS5 and Xbox tweets in September as many announcements occured that month (price, games, etc.). But it was too difficult for me to get the Twitter data. The API limitations only let me have access to the last 7 days of data. I also had a look at the scrapers (Twint, tweetscraper, GetOldTweets3, etc.) but they were all down for some reasons...\n",
    "Therefore, I decided to change a bit the scope of the project.\n",
    "\n",
    "I will have a look at the YouTube comments of both PS5 and Xbox games showcases.\n",
    "The PS5 showcase occured on the 16th of September while the Xbox Series X showcase occured on the 23rd of July."
   ]
  },
  {
   "cell_type": "markdown",
   "metadata": {},
   "source": [
    "For Xbox and PS5 data, I  used a website called Coberry to get the data from YouTube comments.\n",
    "I wanted to use Selenium to scrape the data myself but I did not manage to collect the entire set of comments. The scraper was stopping at 450-500 comments... I will investigate in more details web scrapers in one of my next projects."
   ]
  },
  {
   "cell_type": "markdown",
   "metadata": {},
   "source": [
    "### Xbox"
   ]
  },
  {
   "cell_type": "code",
   "execution_count": 7,
   "metadata": {},
   "outputs": [
    {
     "name": "stderr",
     "output_type": "stream",
     "text": [
      "/Users/salim/opt/anaconda3/lib/python3.7/site-packages/ipykernel_launcher.py:1: ParserWarning: Falling back to the 'python' engine because the 'c' engine does not support regex separators (separators > 1 char and different from '\\s+' are interpreted as regex); you can avoid this warning by specifying engine='python'.\n",
      "  \"\"\"Entry point for launching an IPython kernel.\n"
     ]
    }
   ],
   "source": [
    "Xbox_data = pd.read_csv('Xbox_all_comments.txt',sep='delimiter',header=None)"
   ]
  },
  {
   "cell_type": "code",
   "execution_count": 8,
   "metadata": {},
   "outputs": [
    {
     "data": {
      "text/html": [
       "<div>\n",
       "<style scoped>\n",
       "    .dataframe tbody tr th:only-of-type {\n",
       "        vertical-align: middle;\n",
       "    }\n",
       "\n",
       "    .dataframe tbody tr th {\n",
       "        vertical-align: top;\n",
       "    }\n",
       "\n",
       "    .dataframe thead th {\n",
       "        text-align: right;\n",
       "    }\n",
       "</style>\n",
       "<table border=\"1\" class=\"dataframe\">\n",
       "  <thead>\n",
       "    <tr style=\"text-align: right;\">\n",
       "      <th></th>\n",
       "      <th>0</th>\n",
       "    </tr>\n",
       "  </thead>\n",
       "  <tbody>\n",
       "    <tr>\n",
       "      <td>0</td>\n",
       "      <td>2020-07-23 16:59:51: First</td>\n",
       "    </tr>\n",
       "    <tr>\n",
       "      <td>1</td>\n",
       "      <td>2020-07-23 16:59:55: bad</td>\n",
       "    </tr>\n",
       "    <tr>\n",
       "      <td>2</td>\n",
       "      <td>2020-07-23 16:59:56: First</td>\n",
       "    </tr>\n",
       "    <tr>\n",
       "      <td>3</td>\n",
       "      <td>2020-07-23 16:59:58: First comment</td>\n",
       "    </tr>\n",
       "    <tr>\n",
       "      <td>4</td>\n",
       "      <td>2020-07-23 17:00:02: Hello</td>\n",
       "    </tr>\n",
       "    <tr>\n",
       "      <td>...</td>\n",
       "      <td>...</td>\n",
       "    </tr>\n",
       "    <tr>\n",
       "      <td>2477</td>\n",
       "      <td>2020-10-16 13:13:02: i really loved the though...</td>\n",
       "    </tr>\n",
       "    <tr>\n",
       "      <td>2478</td>\n",
       "      <td>2020-10-18 16:50:35: 3:10</td>\n",
       "    </tr>\n",
       "    <tr>\n",
       "      <td>2479</td>\n",
       "      <td>2020-10-20 05:06:57: Master chief sounds like ...</td>\n",
       "    </tr>\n",
       "    <tr>\n",
       "      <td>2480</td>\n",
       "      <td>2020-10-20 15:22:31: Rip Xbox</td>\n",
       "    </tr>\n",
       "    <tr>\n",
       "      <td>2481</td>\n",
       "      <td>2020-10-22 11:23:47: &gt; Jack Black saved the show.</td>\n",
       "    </tr>\n",
       "  </tbody>\n",
       "</table>\n",
       "<p>2482 rows × 1 columns</p>\n",
       "</div>"
      ],
      "text/plain": [
       "                                                      0\n",
       "0                            2020-07-23 16:59:51: First\n",
       "1                              2020-07-23 16:59:55: bad\n",
       "2                            2020-07-23 16:59:56: First\n",
       "3                    2020-07-23 16:59:58: First comment\n",
       "4                            2020-07-23 17:00:02: Hello\n",
       "...                                                 ...\n",
       "2477  2020-10-16 13:13:02: i really loved the though...\n",
       "2478                          2020-10-18 16:50:35: 3:10\n",
       "2479  2020-10-20 05:06:57: Master chief sounds like ...\n",
       "2480                      2020-10-20 15:22:31: Rip Xbox\n",
       "2481  2020-10-22 11:23:47: > Jack Black saved the show.\n",
       "\n",
       "[2482 rows x 1 columns]"
      ]
     },
     "execution_count": 8,
     "metadata": {},
     "output_type": "execute_result"
    }
   ],
   "source": [
    "Xbox_data"
   ]
  },
  {
   "cell_type": "code",
   "execution_count": 9,
   "metadata": {},
   "outputs": [],
   "source": [
    "#Isolate comments\n",
    "Xbox_data['Date']=Xbox_data[0].apply(lambda x: x[:11])\n",
    "Xbox_data['Hour']=Xbox_data[0].apply(lambda x: x[11:19])\n",
    "Xbox_data['Text']=Xbox_data[0].apply(lambda x: x[21:])\n",
    "Xbox_data.drop(0,axis=1,inplace=True)"
   ]
  },
  {
   "cell_type": "code",
   "execution_count": 10,
   "metadata": {},
   "outputs": [
    {
     "data": {
      "text/html": [
       "<div>\n",
       "<style scoped>\n",
       "    .dataframe tbody tr th:only-of-type {\n",
       "        vertical-align: middle;\n",
       "    }\n",
       "\n",
       "    .dataframe tbody tr th {\n",
       "        vertical-align: top;\n",
       "    }\n",
       "\n",
       "    .dataframe thead th {\n",
       "        text-align: right;\n",
       "    }\n",
       "</style>\n",
       "<table border=\"1\" class=\"dataframe\">\n",
       "  <thead>\n",
       "    <tr style=\"text-align: right;\">\n",
       "      <th></th>\n",
       "      <th>Date</th>\n",
       "      <th>Hour</th>\n",
       "      <th>Text</th>\n",
       "    </tr>\n",
       "  </thead>\n",
       "  <tbody>\n",
       "    <tr>\n",
       "      <td>0</td>\n",
       "      <td>2020-07-23</td>\n",
       "      <td>16:59:51</td>\n",
       "      <td>First</td>\n",
       "    </tr>\n",
       "    <tr>\n",
       "      <td>1</td>\n",
       "      <td>2020-07-23</td>\n",
       "      <td>16:59:55</td>\n",
       "      <td>bad</td>\n",
       "    </tr>\n",
       "    <tr>\n",
       "      <td>2</td>\n",
       "      <td>2020-07-23</td>\n",
       "      <td>16:59:56</td>\n",
       "      <td>First</td>\n",
       "    </tr>\n",
       "    <tr>\n",
       "      <td>3</td>\n",
       "      <td>2020-07-23</td>\n",
       "      <td>16:59:58</td>\n",
       "      <td>First comment</td>\n",
       "    </tr>\n",
       "    <tr>\n",
       "      <td>4</td>\n",
       "      <td>2020-07-23</td>\n",
       "      <td>17:00:02</td>\n",
       "      <td>Hello</td>\n",
       "    </tr>\n",
       "    <tr>\n",
       "      <td>...</td>\n",
       "      <td>...</td>\n",
       "      <td>...</td>\n",
       "      <td>...</td>\n",
       "    </tr>\n",
       "    <tr>\n",
       "      <td>2477</td>\n",
       "      <td>2020-10-16</td>\n",
       "      <td>13:13:02</td>\n",
       "      <td>i really loved the thoughtful content  Aced th...</td>\n",
       "    </tr>\n",
       "    <tr>\n",
       "      <td>2478</td>\n",
       "      <td>2020-10-18</td>\n",
       "      <td>16:50:35</td>\n",
       "      <td>3:10</td>\n",
       "    </tr>\n",
       "    <tr>\n",
       "      <td>2479</td>\n",
       "      <td>2020-10-20</td>\n",
       "      <td>05:06:57</td>\n",
       "      <td>Master chief sounds like Batman ??</td>\n",
       "    </tr>\n",
       "    <tr>\n",
       "      <td>2480</td>\n",
       "      <td>2020-10-20</td>\n",
       "      <td>15:22:31</td>\n",
       "      <td>Rip Xbox</td>\n",
       "    </tr>\n",
       "    <tr>\n",
       "      <td>2481</td>\n",
       "      <td>2020-10-22</td>\n",
       "      <td>11:23:47</td>\n",
       "      <td>&gt; Jack Black saved the show.</td>\n",
       "    </tr>\n",
       "  </tbody>\n",
       "</table>\n",
       "<p>2482 rows × 3 columns</p>\n",
       "</div>"
      ],
      "text/plain": [
       "             Date      Hour                                               Text\n",
       "0     2020-07-23   16:59:51                                              First\n",
       "1     2020-07-23   16:59:55                                                bad\n",
       "2     2020-07-23   16:59:56                                              First\n",
       "3     2020-07-23   16:59:58                                      First comment\n",
       "4     2020-07-23   17:00:02                                              Hello\n",
       "...           ...       ...                                                ...\n",
       "2477  2020-10-16   13:13:02  i really loved the thoughtful content  Aced th...\n",
       "2478  2020-10-18   16:50:35                                               3:10\n",
       "2479  2020-10-20   05:06:57                 Master chief sounds like Batman ??\n",
       "2480  2020-10-20   15:22:31                                           Rip Xbox\n",
       "2481  2020-10-22   11:23:47                       > Jack Black saved the show.\n",
       "\n",
       "[2482 rows x 3 columns]"
      ]
     },
     "execution_count": 10,
     "metadata": {},
     "output_type": "execute_result"
    }
   ],
   "source": [
    "Xbox_data"
   ]
  },
  {
   "cell_type": "markdown",
   "metadata": {},
   "source": [
    "### PS5"
   ]
  },
  {
   "cell_type": "code",
   "execution_count": 15,
   "metadata": {},
   "outputs": [
    {
     "name": "stderr",
     "output_type": "stream",
     "text": [
      "/Users/salim/opt/anaconda3/lib/python3.7/site-packages/ipykernel_launcher.py:1: ParserWarning: Falling back to the 'python' engine because the 'c' engine does not support regex separators (separators > 1 char and different from '\\s+' are interpreted as regex); you can avoid this warning by specifying engine='python'.\n",
      "  \"\"\"Entry point for launching an IPython kernel.\n"
     ]
    }
   ],
   "source": [
    "PS5_data = pd.read_csv('PS5_all_comments.txt',sep='delimiter',header=None)"
   ]
  },
  {
   "cell_type": "code",
   "execution_count": 16,
   "metadata": {},
   "outputs": [
    {
     "data": {
      "text/html": [
       "<div>\n",
       "<style scoped>\n",
       "    .dataframe tbody tr th:only-of-type {\n",
       "        vertical-align: middle;\n",
       "    }\n",
       "\n",
       "    .dataframe tbody tr th {\n",
       "        vertical-align: top;\n",
       "    }\n",
       "\n",
       "    .dataframe thead th {\n",
       "        text-align: right;\n",
       "    }\n",
       "</style>\n",
       "<table border=\"1\" class=\"dataframe\">\n",
       "  <thead>\n",
       "    <tr style=\"text-align: right;\">\n",
       "      <th></th>\n",
       "      <th>0</th>\n",
       "    </tr>\n",
       "  </thead>\n",
       "  <tbody>\n",
       "    <tr>\n",
       "      <td>0</td>\n",
       "      <td>2020-09-16 20:53:34: Hello</td>\n",
       "    </tr>\n",
       "    <tr>\n",
       "      <td>1</td>\n",
       "      <td>2020-09-16 20:53:38: HYPED</td>\n",
       "    </tr>\n",
       "    <tr>\n",
       "      <td>2</td>\n",
       "      <td>2020-09-16 20:53:40: Hi</td>\n",
       "    </tr>\n",
       "    <tr>\n",
       "      <td>3</td>\n",
       "      <td>2020-09-16 20:53:41:</td>\n",
       "    </tr>\n",
       "    <tr>\n",
       "      <td>4</td>\n",
       "      <td>2020-09-16 20:53:42: LETS GOOO</td>\n",
       "    </tr>\n",
       "    <tr>\n",
       "      <td>...</td>\n",
       "      <td>...</td>\n",
       "    </tr>\n",
       "    <tr>\n",
       "      <td>7687</td>\n",
       "      <td>2020-10-26 13:31:23: &gt; @Shikikan -sama wow wai...</td>\n",
       "    </tr>\n",
       "    <tr>\n",
       "      <td>7688</td>\n",
       "      <td>2020-10-26 18:08:59: El final me animo mas a s...</td>\n",
       "    </tr>\n",
       "    <tr>\n",
       "      <td>7689</td>\n",
       "      <td>2020-10-27 13:50:52: I cried due to 18+ live</td>\n",
       "    </tr>\n",
       "    <tr>\n",
       "      <td>7690</td>\n",
       "      <td>2020-10-27 16:01:35: I hope it doesnt shove it...</td>\n",
       "    </tr>\n",
       "    <tr>\n",
       "      <td>7691</td>\n",
       "      <td>2020-10-27 17:35:45: ps5 only dream for turkis...</td>\n",
       "    </tr>\n",
       "  </tbody>\n",
       "</table>\n",
       "<p>7692 rows × 1 columns</p>\n",
       "</div>"
      ],
      "text/plain": [
       "                                                      0\n",
       "0                            2020-09-16 20:53:34: Hello\n",
       "1                            2020-09-16 20:53:38: HYPED\n",
       "2                               2020-09-16 20:53:40: Hi\n",
       "3                                  2020-09-16 20:53:41:\n",
       "4                        2020-09-16 20:53:42: LETS GOOO\n",
       "...                                                 ...\n",
       "7687  2020-10-26 13:31:23: > @Shikikan -sama wow wai...\n",
       "7688  2020-10-26 18:08:59: El final me animo mas a s...\n",
       "7689       2020-10-27 13:50:52: I cried due to 18+ live\n",
       "7690  2020-10-27 16:01:35: I hope it doesnt shove it...\n",
       "7691  2020-10-27 17:35:45: ps5 only dream for turkis...\n",
       "\n",
       "[7692 rows x 1 columns]"
      ]
     },
     "execution_count": 16,
     "metadata": {},
     "output_type": "execute_result"
    }
   ],
   "source": [
    "PS5_data"
   ]
  },
  {
   "cell_type": "code",
   "execution_count": 17,
   "metadata": {},
   "outputs": [],
   "source": [
    "#Isolate comments\n",
    "PS5_data['Date']=PS5_data[0].apply(lambda x: x[:11])\n",
    "PS5_data['Hour']=PS5_data[0].apply(lambda x: x[11:19])\n",
    "PS5_data['Text']=PS5_data[0].apply(lambda x: x[21:])\n",
    "PS5_data.drop(0,axis=1,inplace=True)"
   ]
  },
  {
   "cell_type": "code",
   "execution_count": 18,
   "metadata": {},
   "outputs": [
    {
     "data": {
      "text/html": [
       "<div>\n",
       "<style scoped>\n",
       "    .dataframe tbody tr th:only-of-type {\n",
       "        vertical-align: middle;\n",
       "    }\n",
       "\n",
       "    .dataframe tbody tr th {\n",
       "        vertical-align: top;\n",
       "    }\n",
       "\n",
       "    .dataframe thead th {\n",
       "        text-align: right;\n",
       "    }\n",
       "</style>\n",
       "<table border=\"1\" class=\"dataframe\">\n",
       "  <thead>\n",
       "    <tr style=\"text-align: right;\">\n",
       "      <th></th>\n",
       "      <th>Date</th>\n",
       "      <th>Hour</th>\n",
       "      <th>Text</th>\n",
       "    </tr>\n",
       "  </thead>\n",
       "  <tbody>\n",
       "    <tr>\n",
       "      <td>0</td>\n",
       "      <td>2020-09-16</td>\n",
       "      <td>20:53:34</td>\n",
       "      <td>Hello</td>\n",
       "    </tr>\n",
       "    <tr>\n",
       "      <td>1</td>\n",
       "      <td>2020-09-16</td>\n",
       "      <td>20:53:38</td>\n",
       "      <td>HYPED</td>\n",
       "    </tr>\n",
       "    <tr>\n",
       "      <td>2</td>\n",
       "      <td>2020-09-16</td>\n",
       "      <td>20:53:40</td>\n",
       "      <td>Hi</td>\n",
       "    </tr>\n",
       "    <tr>\n",
       "      <td>3</td>\n",
       "      <td>2020-09-16</td>\n",
       "      <td>20:53:41</td>\n",
       "      <td></td>\n",
       "    </tr>\n",
       "    <tr>\n",
       "      <td>4</td>\n",
       "      <td>2020-09-16</td>\n",
       "      <td>20:53:42</td>\n",
       "      <td>LETS GOOO</td>\n",
       "    </tr>\n",
       "    <tr>\n",
       "      <td>...</td>\n",
       "      <td>...</td>\n",
       "      <td>...</td>\n",
       "      <td>...</td>\n",
       "    </tr>\n",
       "    <tr>\n",
       "      <td>7687</td>\n",
       "      <td>2020-10-26</td>\n",
       "      <td>13:31:23</td>\n",
       "      <td>&gt; @Shikikan -sama wow wait8ng for christmas gift</td>\n",
       "    </tr>\n",
       "    <tr>\n",
       "      <td>7688</td>\n",
       "      <td>2020-10-26</td>\n",
       "      <td>18:08:59</td>\n",
       "      <td>El final me animo mas a sobrevivir al 2020</td>\n",
       "    </tr>\n",
       "    <tr>\n",
       "      <td>7689</td>\n",
       "      <td>2020-10-27</td>\n",
       "      <td>13:50:52</td>\n",
       "      <td>I cried due to 18+ live</td>\n",
       "    </tr>\n",
       "    <tr>\n",
       "      <td>7690</td>\n",
       "      <td>2020-10-27</td>\n",
       "      <td>16:01:35</td>\n",
       "      <td>I hope it doesnt shove it your face that you n...</td>\n",
       "    </tr>\n",
       "    <tr>\n",
       "      <td>7691</td>\n",
       "      <td>2020-10-27</td>\n",
       "      <td>17:35:45</td>\n",
       "      <td>ps5 only dream for turkish peoples (1 dollar =...</td>\n",
       "    </tr>\n",
       "  </tbody>\n",
       "</table>\n",
       "<p>7692 rows × 3 columns</p>\n",
       "</div>"
      ],
      "text/plain": [
       "             Date      Hour                                               Text\n",
       "0     2020-09-16   20:53:34                                              Hello\n",
       "1     2020-09-16   20:53:38                                              HYPED\n",
       "2     2020-09-16   20:53:40                                                 Hi\n",
       "3     2020-09-16   20:53:41                                                   \n",
       "4     2020-09-16   20:53:42                                          LETS GOOO\n",
       "...           ...       ...                                                ...\n",
       "7687  2020-10-26   13:31:23   > @Shikikan -sama wow wait8ng for christmas gift\n",
       "7688  2020-10-26   18:08:59         El final me animo mas a sobrevivir al 2020\n",
       "7689  2020-10-27   13:50:52                            I cried due to 18+ live\n",
       "7690  2020-10-27   16:01:35  I hope it doesnt shove it your face that you n...\n",
       "7691  2020-10-27   17:35:45  ps5 only dream for turkish peoples (1 dollar =...\n",
       "\n",
       "[7692 rows x 3 columns]"
      ]
     },
     "execution_count": 18,
     "metadata": {},
     "output_type": "execute_result"
    }
   ],
   "source": [
    "PS5_data"
   ]
  },
  {
   "cell_type": "markdown",
   "metadata": {},
   "source": [
    "# Text processing"
   ]
  },
  {
   "cell_type": "markdown",
   "metadata": {},
   "source": [
    "### Xbox"
   ]
  },
  {
   "cell_type": "code",
   "execution_count": 19,
   "metadata": {},
   "outputs": [],
   "source": [
    "import nltk\n",
    "import re"
   ]
  },
  {
   "cell_type": "code",
   "execution_count": 20,
   "metadata": {},
   "outputs": [],
   "source": [
    "#Creating a function to clean the comments\n",
    "def clean_text(text):\n",
    "    text = re.sub(r'https?:\\/\\/\\S+', '', text) #Removing hyperlinks\n",
    "    text = re.sub(r\"\\d{2}:\\d{2}s*\", '', text) #Removing timestamps XX:XX\n",
    "    text = re.sub(r\"\\d{1}:\\d{2}s*\", '', text) #Removing timestamps X:XX\n",
    "    text = re.sub('[^A-Za-z0-9 ]+', '', text) #Removing special characters\n",
    "    return text"
   ]
  },
  {
   "cell_type": "code",
   "execution_count": 21,
   "metadata": {},
   "outputs": [],
   "source": [
    "Xbox_data['Text']=Xbox_data['Text'].apply(clean_text)"
   ]
  },
  {
   "cell_type": "code",
   "execution_count": 22,
   "metadata": {},
   "outputs": [
    {
     "data": {
      "text/html": [
       "<div>\n",
       "<style scoped>\n",
       "    .dataframe tbody tr th:only-of-type {\n",
       "        vertical-align: middle;\n",
       "    }\n",
       "\n",
       "    .dataframe tbody tr th {\n",
       "        vertical-align: top;\n",
       "    }\n",
       "\n",
       "    .dataframe thead th {\n",
       "        text-align: right;\n",
       "    }\n",
       "</style>\n",
       "<table border=\"1\" class=\"dataframe\">\n",
       "  <thead>\n",
       "    <tr style=\"text-align: right;\">\n",
       "      <th></th>\n",
       "      <th>Date</th>\n",
       "      <th>Hour</th>\n",
       "      <th>Text</th>\n",
       "    </tr>\n",
       "  </thead>\n",
       "  <tbody>\n",
       "    <tr>\n",
       "      <td>0</td>\n",
       "      <td>2020-07-23</td>\n",
       "      <td>16:59:51</td>\n",
       "      <td>First</td>\n",
       "    </tr>\n",
       "    <tr>\n",
       "      <td>1</td>\n",
       "      <td>2020-07-23</td>\n",
       "      <td>16:59:55</td>\n",
       "      <td>bad</td>\n",
       "    </tr>\n",
       "    <tr>\n",
       "      <td>2</td>\n",
       "      <td>2020-07-23</td>\n",
       "      <td>16:59:56</td>\n",
       "      <td>First</td>\n",
       "    </tr>\n",
       "    <tr>\n",
       "      <td>3</td>\n",
       "      <td>2020-07-23</td>\n",
       "      <td>16:59:58</td>\n",
       "      <td>First comment</td>\n",
       "    </tr>\n",
       "    <tr>\n",
       "      <td>4</td>\n",
       "      <td>2020-07-23</td>\n",
       "      <td>17:00:02</td>\n",
       "      <td>Hello</td>\n",
       "    </tr>\n",
       "  </tbody>\n",
       "</table>\n",
       "</div>"
      ],
      "text/plain": [
       "          Date      Hour           Text\n",
       "0  2020-07-23   16:59:51          First\n",
       "1  2020-07-23   16:59:55            bad\n",
       "2  2020-07-23   16:59:56          First\n",
       "3  2020-07-23   16:59:58  First comment\n",
       "4  2020-07-23   17:00:02          Hello"
      ]
     },
     "execution_count": 22,
     "metadata": {},
     "output_type": "execute_result"
    }
   ],
   "source": [
    "Xbox_data.head()"
   ]
  },
  {
   "cell_type": "markdown",
   "metadata": {},
   "source": [
    "I decide to remove all game names from our analysis. I noticed later that some games have a negative impact on sentiment detection (ex. State of Decay 3, \"decay\" is a negative word). I will also add some games that are not specific to the showcase but that are still widely mentioned and that could impact our sentiment detection."
   ]
  },
  {
   "cell_type": "code",
   "execution_count": 23,
   "metadata": {},
   "outputs": [],
   "source": [
    "Xbox_games_dict = {'Halo':'Halo Infinite, Halo',\n",
    "                  'State of Decay 3':'State of Decay 3, State of Decay, SOD, SOD3',\n",
    "                  'Forza Motorsport':'Forza Motorsport, Forza, Motorsport',\n",
    "                  'Everwild':'Everwild, Ever wild',\n",
    "                  'Tell Me Why':'Tell Me Why, TMW',\n",
    "                  'Outer Worlds: Peril on Gorgon':'Outer Worlds Peril on Gorgon, Outer Worlds, Peril on Gorgon, OWPG',\n",
    "                  'Grounded':'Grounded',\n",
    "                  'Avowed':'Avowed',\n",
    "                  'As Dusk Falls':'As Dusk Falls, Dusk Falls, Dusk',\n",
    "                  'Hellblade 2':'Hellblade 2, Hellblade, Hell blade',\n",
    "                  'Psychonauts 2':'Psychonauts 2, Psychonauts, Pyschonauts',\n",
    "                  'S.T.A.L.K.E.R. 2':'S.T.A.L.K.E.R. 2, Stalker 2, Stalker',\n",
    "                  'Warhammer 40,000: Darktide':'Warhammer 40000 Darktide, Warhammer, War hammer',\n",
    "                  'The Gunk':'The Gunk, Gunk',\n",
    "                  'The Medium':'The Medium',\n",
    "                  'Phantasy Star Online 2 New Genesis':'Phantasy Star Online 2 New Genesis, Phantasy Star, New Genesis, PSONG, PSO2, PSO2NG',\n",
    "                  'Crossfire X':'Crossfire X, Crossfire, Cross fire',\n",
    "                  'Fable 4':'Fable 4, Fable IV, Fable',\n",
    "                  'Gears of War':'Gears of War 5, Gears of War, Gears 5, Gears, GoW5, GoW'}"
   ]
  },
  {
   "cell_type": "code",
   "execution_count": 24,
   "metadata": {},
   "outputs": [],
   "source": [
    "Xbox_games_remove = []\n",
    "for i in list(Xbox_games_dict):\n",
    "    Xbox_games_remove.append(Xbox_games_dict[i].split(', '))"
   ]
  },
  {
   "cell_type": "code",
   "execution_count": 25,
   "metadata": {},
   "outputs": [],
   "source": [
    "Xbox_games_remove_final = []"
   ]
  },
  {
   "cell_type": "code",
   "execution_count": 26,
   "metadata": {},
   "outputs": [],
   "source": [
    "def remove_nestings(l): \n",
    "    for i in l: \n",
    "        if type(i) == list: \n",
    "            remove_nestings(i) \n",
    "        else: \n",
    "            Xbox_games_remove_final.append(i.lower()) "
   ]
  },
  {
   "cell_type": "code",
   "execution_count": 27,
   "metadata": {},
   "outputs": [],
   "source": [
    "remove_nestings(Xbox_games_remove)"
   ]
  },
  {
   "cell_type": "code",
   "execution_count": 28,
   "metadata": {},
   "outputs": [
    {
     "data": {
      "text/plain": [
       "['halo infinite',\n",
       " 'halo',\n",
       " 'state of decay 3',\n",
       " 'state of decay',\n",
       " 'sod',\n",
       " 'sod3',\n",
       " 'forza motorsport',\n",
       " 'forza',\n",
       " 'motorsport',\n",
       " 'everwild',\n",
       " 'ever wild',\n",
       " 'tell me why',\n",
       " 'tmw',\n",
       " 'outer worlds peril on gorgon',\n",
       " 'outer worlds',\n",
       " 'peril on gorgon',\n",
       " 'owpg',\n",
       " 'grounded',\n",
       " 'avowed',\n",
       " 'as dusk falls',\n",
       " 'dusk falls',\n",
       " 'dusk',\n",
       " 'hellblade 2',\n",
       " 'hellblade',\n",
       " 'hell blade',\n",
       " 'psychonauts 2',\n",
       " 'psychonauts',\n",
       " 'pyschonauts',\n",
       " 's.t.a.l.k.e.r. 2',\n",
       " 'stalker 2',\n",
       " 'stalker',\n",
       " 'warhammer 40000 darktide',\n",
       " 'warhammer',\n",
       " 'war hammer',\n",
       " 'the gunk',\n",
       " 'gunk',\n",
       " 'the medium',\n",
       " 'phantasy star online 2 new genesis',\n",
       " 'phantasy star',\n",
       " 'new genesis',\n",
       " 'psong',\n",
       " 'pso2',\n",
       " 'pso2ng',\n",
       " 'crossfire x',\n",
       " 'crossfire',\n",
       " 'cross fire',\n",
       " 'fable 4',\n",
       " 'fable iv',\n",
       " 'fable',\n",
       " 'gears of war 5',\n",
       " 'gears of war',\n",
       " 'gears 5',\n",
       " 'gears',\n",
       " 'gow5',\n",
       " 'gow']"
      ]
     },
     "execution_count": 28,
     "metadata": {},
     "output_type": "execute_result"
    }
   ],
   "source": [
    "Xbox_games_remove_final"
   ]
  },
  {
   "cell_type": "code",
   "execution_count": 29,
   "metadata": {},
   "outputs": [],
   "source": [
    "Xbox_data['Text with games'] = Xbox_data['Text']"
   ]
  },
  {
   "cell_type": "code",
   "execution_count": 30,
   "metadata": {},
   "outputs": [],
   "source": [
    "for i in range(0,len(Xbox_data)):\n",
    "    exclusions = '|'.join(Xbox_games_remove_final)\n",
    "    Xbox_data['Text'].loc[i] = re.sub(exclusions, '', Xbox_data['Text'].loc[i].lower())"
   ]
  },
  {
   "cell_type": "code",
   "execution_count": 116,
   "metadata": {},
   "outputs": [
    {
     "data": {
      "text/html": [
       "<div>\n",
       "<style scoped>\n",
       "    .dataframe tbody tr th:only-of-type {\n",
       "        vertical-align: middle;\n",
       "    }\n",
       "\n",
       "    .dataframe tbody tr th {\n",
       "        vertical-align: top;\n",
       "    }\n",
       "\n",
       "    .dataframe thead th {\n",
       "        text-align: right;\n",
       "    }\n",
       "</style>\n",
       "<table border=\"1\" class=\"dataframe\">\n",
       "  <thead>\n",
       "    <tr style=\"text-align: right;\">\n",
       "      <th></th>\n",
       "      <th>Date</th>\n",
       "      <th>Hour</th>\n",
       "      <th>Text</th>\n",
       "      <th>Text with games</th>\n",
       "      <th>Text clean</th>\n",
       "      <th>Polarity - TTB</th>\n",
       "      <th>Subjectivity - TTB</th>\n",
       "      <th>Polarity - TCTB</th>\n",
       "      <th>Subjectivity - TCTB</th>\n",
       "      <th>Sentiment - TTB</th>\n",
       "      <th>Sentiment - TCTB</th>\n",
       "      <th>Sentiment scores - TVD</th>\n",
       "      <th>Sentiment scores - TCVD</th>\n",
       "      <th>Compound - TVD</th>\n",
       "      <th>Compound - TCVD</th>\n",
       "      <th>Sentiment - TVD</th>\n",
       "      <th>Sentiment - TCVD</th>\n",
       "      <th>Comparison T</th>\n",
       "      <th>Comparison TC</th>\n",
       "    </tr>\n",
       "  </thead>\n",
       "  <tbody>\n",
       "    <tr>\n",
       "      <td>0</td>\n",
       "      <td>2020-07-23</td>\n",
       "      <td>16:59:51</td>\n",
       "      <td>first</td>\n",
       "      <td>First</td>\n",
       "      <td>first</td>\n",
       "      <td>0.25</td>\n",
       "      <td>0.333333</td>\n",
       "      <td>0.25</td>\n",
       "      <td>0.333333</td>\n",
       "      <td>Positive</td>\n",
       "      <td>Positive</td>\n",
       "      <td>{'neg': 0.0, 'neu': 1.0, 'pos': 0.0, 'compound...</td>\n",
       "      <td>{'neg': 0.0, 'neu': 1.0, 'pos': 0.0, 'compound...</td>\n",
       "      <td>0.0000</td>\n",
       "      <td>0.0000</td>\n",
       "      <td>Neutral</td>\n",
       "      <td>Neutral</td>\n",
       "      <td>0</td>\n",
       "      <td>0</td>\n",
       "    </tr>\n",
       "    <tr>\n",
       "      <td>1</td>\n",
       "      <td>2020-07-23</td>\n",
       "      <td>16:59:55</td>\n",
       "      <td>bad</td>\n",
       "      <td>bad</td>\n",
       "      <td>bad</td>\n",
       "      <td>-0.70</td>\n",
       "      <td>0.666667</td>\n",
       "      <td>-0.70</td>\n",
       "      <td>0.666667</td>\n",
       "      <td>Negative</td>\n",
       "      <td>Negative</td>\n",
       "      <td>{'neg': 1.0, 'neu': 0.0, 'pos': 0.0, 'compound...</td>\n",
       "      <td>{'neg': 1.0, 'neu': 0.0, 'pos': 0.0, 'compound...</td>\n",
       "      <td>-0.5423</td>\n",
       "      <td>-0.5423</td>\n",
       "      <td>Negative</td>\n",
       "      <td>Negative</td>\n",
       "      <td>1</td>\n",
       "      <td>1</td>\n",
       "    </tr>\n",
       "    <tr>\n",
       "      <td>2</td>\n",
       "      <td>2020-07-23</td>\n",
       "      <td>16:59:56</td>\n",
       "      <td>first</td>\n",
       "      <td>First</td>\n",
       "      <td>first</td>\n",
       "      <td>0.25</td>\n",
       "      <td>0.333333</td>\n",
       "      <td>0.25</td>\n",
       "      <td>0.333333</td>\n",
       "      <td>Positive</td>\n",
       "      <td>Positive</td>\n",
       "      <td>{'neg': 0.0, 'neu': 1.0, 'pos': 0.0, 'compound...</td>\n",
       "      <td>{'neg': 0.0, 'neu': 1.0, 'pos': 0.0, 'compound...</td>\n",
       "      <td>0.0000</td>\n",
       "      <td>0.0000</td>\n",
       "      <td>Neutral</td>\n",
       "      <td>Neutral</td>\n",
       "      <td>0</td>\n",
       "      <td>0</td>\n",
       "    </tr>\n",
       "    <tr>\n",
       "      <td>3</td>\n",
       "      <td>2020-07-23</td>\n",
       "      <td>16:59:58</td>\n",
       "      <td>first comment</td>\n",
       "      <td>First comment</td>\n",
       "      <td>first comment</td>\n",
       "      <td>0.25</td>\n",
       "      <td>0.333333</td>\n",
       "      <td>0.25</td>\n",
       "      <td>0.333333</td>\n",
       "      <td>Positive</td>\n",
       "      <td>Positive</td>\n",
       "      <td>{'neg': 0.0, 'neu': 1.0, 'pos': 0.0, 'compound...</td>\n",
       "      <td>{'neg': 0.0, 'neu': 1.0, 'pos': 0.0, 'compound...</td>\n",
       "      <td>0.0000</td>\n",
       "      <td>0.0000</td>\n",
       "      <td>Neutral</td>\n",
       "      <td>Neutral</td>\n",
       "      <td>0</td>\n",
       "      <td>0</td>\n",
       "    </tr>\n",
       "    <tr>\n",
       "      <td>4</td>\n",
       "      <td>2020-07-23</td>\n",
       "      <td>17:00:02</td>\n",
       "      <td>hello</td>\n",
       "      <td>Hello</td>\n",
       "      <td>hello</td>\n",
       "      <td>0.00</td>\n",
       "      <td>0.000000</td>\n",
       "      <td>0.00</td>\n",
       "      <td>0.000000</td>\n",
       "      <td>Neutral</td>\n",
       "      <td>Neutral</td>\n",
       "      <td>{'neg': 0.0, 'neu': 1.0, 'pos': 0.0, 'compound...</td>\n",
       "      <td>{'neg': 0.0, 'neu': 1.0, 'pos': 0.0, 'compound...</td>\n",
       "      <td>0.0000</td>\n",
       "      <td>0.0000</td>\n",
       "      <td>Neutral</td>\n",
       "      <td>Neutral</td>\n",
       "      <td>1</td>\n",
       "      <td>1</td>\n",
       "    </tr>\n",
       "  </tbody>\n",
       "</table>\n",
       "</div>"
      ],
      "text/plain": [
       "          Date      Hour           Text Text with games     Text clean  \\\n",
       "0  2020-07-23   16:59:51          first           First          first   \n",
       "1  2020-07-23   16:59:55            bad             bad            bad   \n",
       "2  2020-07-23   16:59:56          first           First          first   \n",
       "3  2020-07-23   16:59:58  first comment   First comment  first comment   \n",
       "4  2020-07-23   17:00:02          hello           Hello          hello   \n",
       "\n",
       "   Polarity - TTB  Subjectivity - TTB  Polarity - TCTB  Subjectivity - TCTB  \\\n",
       "0            0.25            0.333333             0.25             0.333333   \n",
       "1           -0.70            0.666667            -0.70             0.666667   \n",
       "2            0.25            0.333333             0.25             0.333333   \n",
       "3            0.25            0.333333             0.25             0.333333   \n",
       "4            0.00            0.000000             0.00             0.000000   \n",
       "\n",
       "  Sentiment - TTB Sentiment - TCTB  \\\n",
       "0        Positive         Positive   \n",
       "1        Negative         Negative   \n",
       "2        Positive         Positive   \n",
       "3        Positive         Positive   \n",
       "4         Neutral          Neutral   \n",
       "\n",
       "                              Sentiment scores - TVD  \\\n",
       "0  {'neg': 0.0, 'neu': 1.0, 'pos': 0.0, 'compound...   \n",
       "1  {'neg': 1.0, 'neu': 0.0, 'pos': 0.0, 'compound...   \n",
       "2  {'neg': 0.0, 'neu': 1.0, 'pos': 0.0, 'compound...   \n",
       "3  {'neg': 0.0, 'neu': 1.0, 'pos': 0.0, 'compound...   \n",
       "4  {'neg': 0.0, 'neu': 1.0, 'pos': 0.0, 'compound...   \n",
       "\n",
       "                             Sentiment scores - TCVD  Compound - TVD  \\\n",
       "0  {'neg': 0.0, 'neu': 1.0, 'pos': 0.0, 'compound...          0.0000   \n",
       "1  {'neg': 1.0, 'neu': 0.0, 'pos': 0.0, 'compound...         -0.5423   \n",
       "2  {'neg': 0.0, 'neu': 1.0, 'pos': 0.0, 'compound...          0.0000   \n",
       "3  {'neg': 0.0, 'neu': 1.0, 'pos': 0.0, 'compound...          0.0000   \n",
       "4  {'neg': 0.0, 'neu': 1.0, 'pos': 0.0, 'compound...          0.0000   \n",
       "\n",
       "   Compound - TCVD Sentiment - TVD Sentiment - TCVD  Comparison T  \\\n",
       "0           0.0000         Neutral          Neutral             0   \n",
       "1          -0.5423        Negative         Negative             1   \n",
       "2           0.0000         Neutral          Neutral             0   \n",
       "3           0.0000         Neutral          Neutral             0   \n",
       "4           0.0000         Neutral          Neutral             1   \n",
       "\n",
       "   Comparison TC  \n",
       "0              0  \n",
       "1              1  \n",
       "2              0  \n",
       "3              0  \n",
       "4              1  "
      ]
     },
     "execution_count": 116,
     "metadata": {},
     "output_type": "execute_result"
    }
   ],
   "source": [
    "Xbox_data.head()"
   ]
  },
  {
   "cell_type": "markdown",
   "metadata": {},
   "source": [
    "### PS5"
   ]
  },
  {
   "cell_type": "code",
   "execution_count": 32,
   "metadata": {},
   "outputs": [],
   "source": [
    "PS5_data['Text']=PS5_data['Text'].apply(clean_text)"
   ]
  },
  {
   "cell_type": "code",
   "execution_count": 33,
   "metadata": {},
   "outputs": [
    {
     "data": {
      "text/html": [
       "<div>\n",
       "<style scoped>\n",
       "    .dataframe tbody tr th:only-of-type {\n",
       "        vertical-align: middle;\n",
       "    }\n",
       "\n",
       "    .dataframe tbody tr th {\n",
       "        vertical-align: top;\n",
       "    }\n",
       "\n",
       "    .dataframe thead th {\n",
       "        text-align: right;\n",
       "    }\n",
       "</style>\n",
       "<table border=\"1\" class=\"dataframe\">\n",
       "  <thead>\n",
       "    <tr style=\"text-align: right;\">\n",
       "      <th></th>\n",
       "      <th>Date</th>\n",
       "      <th>Hour</th>\n",
       "      <th>Text</th>\n",
       "    </tr>\n",
       "  </thead>\n",
       "  <tbody>\n",
       "    <tr>\n",
       "      <td>0</td>\n",
       "      <td>2020-09-16</td>\n",
       "      <td>20:53:34</td>\n",
       "      <td>Hello</td>\n",
       "    </tr>\n",
       "    <tr>\n",
       "      <td>1</td>\n",
       "      <td>2020-09-16</td>\n",
       "      <td>20:53:38</td>\n",
       "      <td>HYPED</td>\n",
       "    </tr>\n",
       "    <tr>\n",
       "      <td>2</td>\n",
       "      <td>2020-09-16</td>\n",
       "      <td>20:53:40</td>\n",
       "      <td>Hi</td>\n",
       "    </tr>\n",
       "    <tr>\n",
       "      <td>3</td>\n",
       "      <td>2020-09-16</td>\n",
       "      <td>20:53:41</td>\n",
       "      <td></td>\n",
       "    </tr>\n",
       "    <tr>\n",
       "      <td>4</td>\n",
       "      <td>2020-09-16</td>\n",
       "      <td>20:53:42</td>\n",
       "      <td>LETS GOOO</td>\n",
       "    </tr>\n",
       "    <tr>\n",
       "      <td>...</td>\n",
       "      <td>...</td>\n",
       "      <td>...</td>\n",
       "      <td>...</td>\n",
       "    </tr>\n",
       "    <tr>\n",
       "      <td>7687</td>\n",
       "      <td>2020-10-26</td>\n",
       "      <td>13:31:23</td>\n",
       "      <td>Shikikan sama wow wait8ng for christmas gift</td>\n",
       "    </tr>\n",
       "    <tr>\n",
       "      <td>7688</td>\n",
       "      <td>2020-10-26</td>\n",
       "      <td>18:08:59</td>\n",
       "      <td>El final me animo mas a sobrevivir al 2020</td>\n",
       "    </tr>\n",
       "    <tr>\n",
       "      <td>7689</td>\n",
       "      <td>2020-10-27</td>\n",
       "      <td>13:50:52</td>\n",
       "      <td>I cried due to 18 live</td>\n",
       "    </tr>\n",
       "    <tr>\n",
       "      <td>7690</td>\n",
       "      <td>2020-10-27</td>\n",
       "      <td>16:01:35</td>\n",
       "      <td>I hope it doesnt shove it your face that you n...</td>\n",
       "    </tr>\n",
       "    <tr>\n",
       "      <td>7691</td>\n",
       "      <td>2020-10-27</td>\n",
       "      <td>17:35:45</td>\n",
       "      <td>ps5 only dream for turkish peoples 1 dollar  8...</td>\n",
       "    </tr>\n",
       "  </tbody>\n",
       "</table>\n",
       "<p>7692 rows × 3 columns</p>\n",
       "</div>"
      ],
      "text/plain": [
       "             Date      Hour                                               Text\n",
       "0     2020-09-16   20:53:34                                              Hello\n",
       "1     2020-09-16   20:53:38                                              HYPED\n",
       "2     2020-09-16   20:53:40                                                 Hi\n",
       "3     2020-09-16   20:53:41                                                   \n",
       "4     2020-09-16   20:53:42                                          LETS GOOO\n",
       "...           ...       ...                                                ...\n",
       "7687  2020-10-26   13:31:23       Shikikan sama wow wait8ng for christmas gift\n",
       "7688  2020-10-26   18:08:59         El final me animo mas a sobrevivir al 2020\n",
       "7689  2020-10-27   13:50:52                             I cried due to 18 live\n",
       "7690  2020-10-27   16:01:35  I hope it doesnt shove it your face that you n...\n",
       "7691  2020-10-27   17:35:45  ps5 only dream for turkish peoples 1 dollar  8...\n",
       "\n",
       "[7692 rows x 3 columns]"
      ]
     },
     "execution_count": 33,
     "metadata": {},
     "output_type": "execute_result"
    }
   ],
   "source": [
    "PS5_data"
   ]
  },
  {
   "cell_type": "code",
   "execution_count": 34,
   "metadata": {},
   "outputs": [],
   "source": [
    "PS5_games_dict = {'Final Fantasy XVI':'Final Fantasy XVI, Final Fantasy 16, Final Fantasy, FF16, FF 16, FFXVI, FF XVI',\n",
    "                 'Spider-Man Miles Morales':'Spider-Man Miles Morales, Spiderman Miles Morales, Spider man Miles Morales, Spiderman, Spider man, Miles Morales, Spiderman MM',\n",
    "                 'Hogwarts Legacy':'Hogwarts Legacy, HP Hogwarts Legacy, HP Hogwarts, Harry Potter, HPHL, HP HL, Hogwarts, Harrypotter, Potter',\n",
    "                 'Call of Duty Black Ops Cold War':'Call of Duty Black Ops Cold War, Call of Duty, Black Ops Cold War, Black Ops, Cold War, COD BO CW, COD BO, COD',\n",
    "                 'Resident Evil Village':'Resident Evil Village, Resident Evil, RE Village, Village',\n",
    "                 'Death Loop':'Death Loop, Deathloop',\n",
    "                 'Devil May Cry 5':'Devil May Cry 5 Special Edition, Devil May Cry 5, Devil May Cry, Devilmaycry, DMC5, DMC5 SE',\n",
    "                 'Oddworld Soulstorm':'Oddworld Soulstorm, Oddworld Soul Storm, Oddworld Soul System, Odd World Soul System, Soulstorm, Soul Storm, Oddworld, Odd world',\n",
    "                 'Five Nights at Freddys Security Breach':'Five Nights at Freddys Security Breach, Five Nights at Freddys, Freddys Security Breach, Freddy, FNFSB',\n",
    "                 'Demons Souls':'Demons Souls, Demon Souls, Demon Soul, Demons Soul',\n",
    "                 'Fortnite':'Fortnite',\n",
    "                 'Ragnarok':'God Of War Ragnarok, GoW Ragnarok, Ragnarok, God of War, GoW, GoWR',\n",
    "                 'Horizon':'Horizon Zero Dawn, Horizon Forbidden West, Horizon Forbidden, Horizon'}"
   ]
  },
  {
   "cell_type": "code",
   "execution_count": 35,
   "metadata": {},
   "outputs": [],
   "source": [
    "PS5_games_remove = []\n",
    "for i in list(PS5_games_dict):\n",
    "    PS5_games_remove.append(PS5_games_dict[i].split(', '))"
   ]
  },
  {
   "cell_type": "code",
   "execution_count": 36,
   "metadata": {},
   "outputs": [],
   "source": [
    "PS5_games_remove_final = []"
   ]
  },
  {
   "cell_type": "code",
   "execution_count": 37,
   "metadata": {},
   "outputs": [],
   "source": [
    "def remove_nestings(l): \n",
    "    for i in l: \n",
    "        if type(i) == list: \n",
    "            remove_nestings(i) \n",
    "        else: \n",
    "            PS5_games_remove_final.append(i.lower()) "
   ]
  },
  {
   "cell_type": "code",
   "execution_count": 38,
   "metadata": {},
   "outputs": [],
   "source": [
    "remove_nestings(PS5_games_remove)"
   ]
  },
  {
   "cell_type": "code",
   "execution_count": 39,
   "metadata": {},
   "outputs": [
    {
     "data": {
      "text/plain": [
       "['final fantasy xvi',\n",
       " 'final fantasy 16',\n",
       " 'final fantasy',\n",
       " 'ff16',\n",
       " 'ff 16',\n",
       " 'ffxvi',\n",
       " 'ff xvi',\n",
       " 'spider-man miles morales',\n",
       " 'spiderman miles morales',\n",
       " 'spider man miles morales',\n",
       " 'spiderman',\n",
       " 'spider man',\n",
       " 'miles morales',\n",
       " 'spiderman mm',\n",
       " 'hogwarts legacy',\n",
       " 'hp hogwarts legacy',\n",
       " 'hp hogwarts',\n",
       " 'harry potter',\n",
       " 'hphl',\n",
       " 'hp hl',\n",
       " 'hogwarts',\n",
       " 'harrypotter',\n",
       " 'potter',\n",
       " 'call of duty black ops cold war',\n",
       " 'call of duty',\n",
       " 'black ops cold war',\n",
       " 'black ops',\n",
       " 'cold war',\n",
       " 'cod bo cw',\n",
       " 'cod bo',\n",
       " 'cod',\n",
       " 'resident evil village',\n",
       " 'resident evil',\n",
       " 're village',\n",
       " 'village',\n",
       " 'death loop',\n",
       " 'deathloop',\n",
       " 'devil may cry 5 special edition',\n",
       " 'devil may cry 5',\n",
       " 'devil may cry',\n",
       " 'devilmaycry',\n",
       " 'dmc5',\n",
       " 'dmc5 se',\n",
       " 'oddworld soulstorm',\n",
       " 'oddworld soul storm',\n",
       " 'oddworld soul system',\n",
       " 'odd world soul system',\n",
       " 'soulstorm',\n",
       " 'soul storm',\n",
       " 'oddworld',\n",
       " 'odd world',\n",
       " 'five nights at freddys security breach',\n",
       " 'five nights at freddys',\n",
       " 'freddys security breach',\n",
       " 'freddy',\n",
       " 'fnfsb',\n",
       " 'demons souls',\n",
       " 'demon souls',\n",
       " 'demon soul',\n",
       " 'demons soul',\n",
       " 'fortnite',\n",
       " 'god of war ragnarok',\n",
       " 'gow ragnarok',\n",
       " 'ragnarok',\n",
       " 'god of war',\n",
       " 'gow',\n",
       " 'gowr',\n",
       " 'horizon zero dawn',\n",
       " 'horizon forbidden west',\n",
       " 'horizon forbidden',\n",
       " 'horizon']"
      ]
     },
     "execution_count": 39,
     "metadata": {},
     "output_type": "execute_result"
    }
   ],
   "source": [
    "PS5_games_remove_final"
   ]
  },
  {
   "cell_type": "code",
   "execution_count": 40,
   "metadata": {},
   "outputs": [],
   "source": [
    "PS5_data['Text with games'] = PS5_data['Text']"
   ]
  },
  {
   "cell_type": "code",
   "execution_count": 41,
   "metadata": {},
   "outputs": [],
   "source": [
    "for i in range(0,len(PS5_data)):\n",
    "    exclusions = '|'.join(PS5_games_remove_final)\n",
    "    PS5_data['Text'].loc[i] = re.sub(exclusions, '', PS5_data['Text'].loc[i].lower())"
   ]
  },
  {
   "cell_type": "code",
   "execution_count": 42,
   "metadata": {},
   "outputs": [
    {
     "data": {
      "text/html": [
       "<div>\n",
       "<style scoped>\n",
       "    .dataframe tbody tr th:only-of-type {\n",
       "        vertical-align: middle;\n",
       "    }\n",
       "\n",
       "    .dataframe tbody tr th {\n",
       "        vertical-align: top;\n",
       "    }\n",
       "\n",
       "    .dataframe thead th {\n",
       "        text-align: right;\n",
       "    }\n",
       "</style>\n",
       "<table border=\"1\" class=\"dataframe\">\n",
       "  <thead>\n",
       "    <tr style=\"text-align: right;\">\n",
       "      <th></th>\n",
       "      <th>Date</th>\n",
       "      <th>Hour</th>\n",
       "      <th>Text</th>\n",
       "      <th>Text with games</th>\n",
       "    </tr>\n",
       "  </thead>\n",
       "  <tbody>\n",
       "    <tr>\n",
       "      <td>0</td>\n",
       "      <td>2020-09-16</td>\n",
       "      <td>20:53:34</td>\n",
       "      <td>hello</td>\n",
       "      <td>Hello</td>\n",
       "    </tr>\n",
       "    <tr>\n",
       "      <td>1</td>\n",
       "      <td>2020-09-16</td>\n",
       "      <td>20:53:38</td>\n",
       "      <td>hyped</td>\n",
       "      <td>HYPED</td>\n",
       "    </tr>\n",
       "    <tr>\n",
       "      <td>2</td>\n",
       "      <td>2020-09-16</td>\n",
       "      <td>20:53:40</td>\n",
       "      <td>hi</td>\n",
       "      <td>Hi</td>\n",
       "    </tr>\n",
       "    <tr>\n",
       "      <td>3</td>\n",
       "      <td>2020-09-16</td>\n",
       "      <td>20:53:41</td>\n",
       "      <td></td>\n",
       "      <td></td>\n",
       "    </tr>\n",
       "    <tr>\n",
       "      <td>4</td>\n",
       "      <td>2020-09-16</td>\n",
       "      <td>20:53:42</td>\n",
       "      <td>lets gooo</td>\n",
       "      <td>LETS GOOO</td>\n",
       "    </tr>\n",
       "  </tbody>\n",
       "</table>\n",
       "</div>"
      ],
      "text/plain": [
       "          Date      Hour       Text Text with games\n",
       "0  2020-09-16   20:53:34      hello           Hello\n",
       "1  2020-09-16   20:53:38      hyped           HYPED\n",
       "2  2020-09-16   20:53:40         hi              Hi\n",
       "3  2020-09-16   20:53:41                           \n",
       "4  2020-09-16   20:53:42  lets gooo       LETS GOOO"
      ]
     },
     "execution_count": 42,
     "metadata": {},
     "output_type": "execute_result"
    }
   ],
   "source": [
    "PS5_data.head()"
   ]
  },
  {
   "cell_type": "markdown",
   "metadata": {},
   "source": [
    "# Tokenizer / Part-of-Speech tagging / Lemmatizer / Stop words removal"
   ]
  },
  {
   "cell_type": "markdown",
   "metadata": {},
   "source": [
    "Below, a lot of steps are performed in one-go that I will explain in more details.\n",
    "This website helped me a lot to understand this process:\n",
    "https://www.machinelearningplus.com/nlp/lemmatization-examples-python/\n",
    "\n",
    "My goal is to clean the comments so that words are standardized for the word clouds and sentiment analysis.\n",
    "\n",
    "- First I tokenize the comments, this means that each word in a sentence is isolated \n",
    "          Example: \"I ate these fruits.\" => [I, ate, these, fruits]\n",
    "- Then, I perform part-of-speech (POS) tagging which goal is to classify isolated words by their type (nouns, verbs...) and add some context to the sentence\n",
    "          Example: [I, ate, these, fruits] => [('I', 'PRP'), ('ate', 'VBP'), ('these', 'DT'), ('fruits', 'NNS')]\n",
    "- Then, I lemmatize these words. That means that all words are brought back to their root form. The previous step helps the lemmatizer to perform better.\n",
    "          Example: [('I', 'PRP'), ('ate', 'VBP'), ('these', 'DT'), ('fruits', 'NNS')] => [I, eat, these, fruit]\n",
    "- Eventually, I remove all the stop words in order to keep only essential words in the sentence.\n",
    "          Example: [I, eat, these, fruit] => [eat, fruit]\n",
    "\n",
    "I also tried to implement a TextBlob spelling correction but it messed up with all game names... 'Tetris' became 'Debris', 'Fable' became 'Table'..."
   ]
  },
  {
   "cell_type": "markdown",
   "metadata": {},
   "source": [
    "### Xbox"
   ]
  },
  {
   "cell_type": "code",
   "execution_count": 43,
   "metadata": {},
   "outputs": [],
   "source": [
    "from nltk.corpus import wordnet\n",
    "from nltk import pos_tag\n",
    "\n",
    "def get_wordnet_pos(word):\n",
    "    #Map POS tag to first character lemmatize() accepts\n",
    "    tag = nltk.pos_tag([word])[0][1][0].upper()\n",
    "    tag_dict = {\"J\": wordnet.ADJ,\n",
    "                \"N\": wordnet.NOUN,\n",
    "                \"V\": wordnet.VERB,\n",
    "                \"R\": wordnet.ADV}\n",
    "\n",
    "    return tag_dict.get(tag, wordnet.NOUN)"
   ]
  },
  {
   "cell_type": "code",
   "execution_count": 44,
   "metadata": {},
   "outputs": [],
   "source": [
    "#We need to install the \"stopwords\" corpus in order to remove the stopwords\n",
    "#nltk.download()"
   ]
  },
  {
   "cell_type": "code",
   "execution_count": 45,
   "metadata": {},
   "outputs": [],
   "source": [
    "from nltk.corpus import stopwords\n",
    "from nltk.stem import WordNetLemmatizer \n",
    "\n",
    "lm = WordNetLemmatizer()\n",
    "\n",
    "Xbox_data['Text clean'] = \"\"\n",
    "for i in range(0,len(Xbox_data)):\n",
    "    Xbox_data['Text clean'].loc[i] = [lm.lemmatize(w, get_wordnet_pos(w)) for w in nltk.word_tokenize(Xbox_data['Text'].loc[i])]\n",
    "    Xbox_data['Text clean'].loc[i] = [word for word in Xbox_data['Text clean'].loc[i] if word.lower() not in stopwords.words('english')]\n",
    "    Xbox_data['Text clean'].loc[i] = \" \".join(Xbox_data['Text clean'].loc[i])"
   ]
  },
  {
   "cell_type": "code",
   "execution_count": 46,
   "metadata": {},
   "outputs": [
    {
     "data": {
      "text/html": [
       "<div>\n",
       "<style scoped>\n",
       "    .dataframe tbody tr th:only-of-type {\n",
       "        vertical-align: middle;\n",
       "    }\n",
       "\n",
       "    .dataframe tbody tr th {\n",
       "        vertical-align: top;\n",
       "    }\n",
       "\n",
       "    .dataframe thead th {\n",
       "        text-align: right;\n",
       "    }\n",
       "</style>\n",
       "<table border=\"1\" class=\"dataframe\">\n",
       "  <thead>\n",
       "    <tr style=\"text-align: right;\">\n",
       "      <th></th>\n",
       "      <th>Date</th>\n",
       "      <th>Hour</th>\n",
       "      <th>Text</th>\n",
       "      <th>Text with games</th>\n",
       "      <th>Text clean</th>\n",
       "    </tr>\n",
       "  </thead>\n",
       "  <tbody>\n",
       "    <tr>\n",
       "      <td>0</td>\n",
       "      <td>2020-07-23</td>\n",
       "      <td>16:59:51</td>\n",
       "      <td>first</td>\n",
       "      <td>First</td>\n",
       "      <td>first</td>\n",
       "    </tr>\n",
       "    <tr>\n",
       "      <td>1</td>\n",
       "      <td>2020-07-23</td>\n",
       "      <td>16:59:55</td>\n",
       "      <td>bad</td>\n",
       "      <td>bad</td>\n",
       "      <td>bad</td>\n",
       "    </tr>\n",
       "    <tr>\n",
       "      <td>2</td>\n",
       "      <td>2020-07-23</td>\n",
       "      <td>16:59:56</td>\n",
       "      <td>first</td>\n",
       "      <td>First</td>\n",
       "      <td>first</td>\n",
       "    </tr>\n",
       "    <tr>\n",
       "      <td>3</td>\n",
       "      <td>2020-07-23</td>\n",
       "      <td>16:59:58</td>\n",
       "      <td>first comment</td>\n",
       "      <td>First comment</td>\n",
       "      <td>first comment</td>\n",
       "    </tr>\n",
       "    <tr>\n",
       "      <td>4</td>\n",
       "      <td>2020-07-23</td>\n",
       "      <td>17:00:02</td>\n",
       "      <td>hello</td>\n",
       "      <td>Hello</td>\n",
       "      <td>hello</td>\n",
       "    </tr>\n",
       "  </tbody>\n",
       "</table>\n",
       "</div>"
      ],
      "text/plain": [
       "          Date      Hour           Text Text with games     Text clean\n",
       "0  2020-07-23   16:59:51          first           First          first\n",
       "1  2020-07-23   16:59:55            bad             bad            bad\n",
       "2  2020-07-23   16:59:56          first           First          first\n",
       "3  2020-07-23   16:59:58  first comment   First comment  first comment\n",
       "4  2020-07-23   17:00:02          hello           Hello          hello"
      ]
     },
     "execution_count": 46,
     "metadata": {},
     "output_type": "execute_result"
    }
   ],
   "source": [
    "Xbox_data.head()"
   ]
  },
  {
   "cell_type": "markdown",
   "metadata": {},
   "source": [
    "### PS5"
   ]
  },
  {
   "cell_type": "code",
   "execution_count": 47,
   "metadata": {},
   "outputs": [],
   "source": [
    "lm = WordNetLemmatizer()\n",
    "\n",
    "PS5_data['Text clean'] = \"\"\n",
    "for i in range(0,len(PS5_data)):\n",
    "    PS5_data['Text clean'].loc[i] = [lm.lemmatize(w, get_wordnet_pos(w)) for w in nltk.word_tokenize(PS5_data['Text'].loc[i])]\n",
    "    PS5_data['Text clean'].loc[i] = [word for word in PS5_data['Text clean'].loc[i] if word.lower() not in stopwords.words('english')]\n",
    "    PS5_data['Text clean'].loc[i] = \" \".join(PS5_data['Text clean'].loc[i])"
   ]
  },
  {
   "cell_type": "code",
   "execution_count": 48,
   "metadata": {},
   "outputs": [
    {
     "data": {
      "text/html": [
       "<div>\n",
       "<style scoped>\n",
       "    .dataframe tbody tr th:only-of-type {\n",
       "        vertical-align: middle;\n",
       "    }\n",
       "\n",
       "    .dataframe tbody tr th {\n",
       "        vertical-align: top;\n",
       "    }\n",
       "\n",
       "    .dataframe thead th {\n",
       "        text-align: right;\n",
       "    }\n",
       "</style>\n",
       "<table border=\"1\" class=\"dataframe\">\n",
       "  <thead>\n",
       "    <tr style=\"text-align: right;\">\n",
       "      <th></th>\n",
       "      <th>Date</th>\n",
       "      <th>Hour</th>\n",
       "      <th>Text</th>\n",
       "      <th>Text with games</th>\n",
       "      <th>Text clean</th>\n",
       "    </tr>\n",
       "  </thead>\n",
       "  <tbody>\n",
       "    <tr>\n",
       "      <td>0</td>\n",
       "      <td>2020-09-16</td>\n",
       "      <td>20:53:34</td>\n",
       "      <td>hello</td>\n",
       "      <td>Hello</td>\n",
       "      <td>hello</td>\n",
       "    </tr>\n",
       "    <tr>\n",
       "      <td>1</td>\n",
       "      <td>2020-09-16</td>\n",
       "      <td>20:53:38</td>\n",
       "      <td>hyped</td>\n",
       "      <td>HYPED</td>\n",
       "      <td>hyped</td>\n",
       "    </tr>\n",
       "    <tr>\n",
       "      <td>2</td>\n",
       "      <td>2020-09-16</td>\n",
       "      <td>20:53:40</td>\n",
       "      <td>hi</td>\n",
       "      <td>Hi</td>\n",
       "      <td>hi</td>\n",
       "    </tr>\n",
       "    <tr>\n",
       "      <td>3</td>\n",
       "      <td>2020-09-16</td>\n",
       "      <td>20:53:41</td>\n",
       "      <td></td>\n",
       "      <td></td>\n",
       "      <td></td>\n",
       "    </tr>\n",
       "    <tr>\n",
       "      <td>4</td>\n",
       "      <td>2020-09-16</td>\n",
       "      <td>20:53:42</td>\n",
       "      <td>lets gooo</td>\n",
       "      <td>LETS GOOO</td>\n",
       "      <td>let gooo</td>\n",
       "    </tr>\n",
       "  </tbody>\n",
       "</table>\n",
       "</div>"
      ],
      "text/plain": [
       "          Date      Hour       Text Text with games Text clean\n",
       "0  2020-09-16   20:53:34      hello           Hello      hello\n",
       "1  2020-09-16   20:53:38      hyped           HYPED      hyped\n",
       "2  2020-09-16   20:53:40         hi              Hi         hi\n",
       "3  2020-09-16   20:53:41                                      \n",
       "4  2020-09-16   20:53:42  lets gooo       LETS GOOO   let gooo"
      ]
     },
     "execution_count": 48,
     "metadata": {},
     "output_type": "execute_result"
    }
   ],
   "source": [
    "PS5_data.head()"
   ]
  },
  {
   "cell_type": "markdown",
   "metadata": {},
   "source": [
    "# Word cloud"
   ]
  },
  {
   "cell_type": "markdown",
   "metadata": {},
   "source": [
    "### Xbox"
   ]
  },
  {
   "cell_type": "code",
   "execution_count": 49,
   "metadata": {},
   "outputs": [
    {
     "data": {
      "image/png": "[encoded data removed]",
      "text/plain": [
       "<Figure size 432x288 with 1 Axes>"
      ]
     },
     "metadata": {
      "needs_background": "light"
     },
     "output_type": "display_data"
    }
   ],
   "source": [
    "#Creating a word cloud\n",
    "from wordcloud import WordCloud\n",
    "\n",
    "full_text = ' '.join([txt for txt in Xbox_data['Text with games']])\n",
    "wordcloud = WordCloud(width=500, height=300, max_font_size=119).generate(full_text)\n",
    "\n",
    "plt.imshow(wordcloud, interpolation='bilinear')\n",
    "plt.axis('off')\n",
    "plt.show()"
   ]
  },
  {
   "cell_type": "markdown",
   "metadata": {},
   "source": [
    "### PS5"
   ]
  },
  {
   "cell_type": "code",
   "execution_count": 50,
   "metadata": {},
   "outputs": [
    {
     "data": {
      "image/png": "[encoded data removed]",
      "text/plain": [
       "<Figure size 432x288 with 1 Axes>"
      ]
     },
     "metadata": {
      "needs_background": "light"
     },
     "output_type": "display_data"
    }
   ],
   "source": [
    "#Creating a word cloud\n",
    "from wordcloud import WordCloud\n",
    "\n",
    "full_text = ' '.join([txt for txt in PS5_data['Text with games']])\n",
    "wordcloud = WordCloud(width=500, height=300, max_font_size=119).generate(full_text)\n",
    "\n",
    "plt.imshow(wordcloud, interpolation='bilinear')\n",
    "plt.axis('off')\n",
    "plt.show()"
   ]
  },
  {
   "cell_type": "markdown",
   "metadata": {},
   "source": [
    "# Sentiment Analysis"
   ]
  },
  {
   "cell_type": "markdown",
   "metadata": {},
   "source": [
    "In this part, I will perform sentiment analysis to determine whether a comment is positive, neutral or negative.\n",
    "I will use two different libraries: TextBlob and VADER.\n",
    "\n",
    "I will perform the analysis on both \"Text\" and \"Text clean\" to see if the libraries perform better on the raw text or on the text with extra cleaning steps (POS, lemmatization, stop words removal etc.).\n",
    "I will also try to determine the best library on this dataset.\n",
    "\n",
    "These two articles helped me in this process:\n",
    "\n",
    "https://towardsdatascience.com/sentiment-analysis-vader-or-textblob-ff25514ac540\n",
    "\n",
    "https://medium.com/analytics-vidhya/textblob-the-nlp-preprocessing-godsend-1b404c35732e"
   ]
  },
  {
   "cell_type": "markdown",
   "metadata": {},
   "source": [
    "### Xbox"
   ]
  },
  {
   "cell_type": "markdown",
   "metadata": {},
   "source": [
    "#### *First approach: TextBlob*"
   ]
  },
  {
   "cell_type": "code",
   "execution_count": 51,
   "metadata": {},
   "outputs": [],
   "source": [
    "from textblob import TextBlob"
   ]
  },
  {
   "cell_type": "code",
   "execution_count": 52,
   "metadata": {},
   "outputs": [
    {
     "data": {
      "text/html": [
       "<div>\n",
       "<style scoped>\n",
       "    .dataframe tbody tr th:only-of-type {\n",
       "        vertical-align: middle;\n",
       "    }\n",
       "\n",
       "    .dataframe tbody tr th {\n",
       "        vertical-align: top;\n",
       "    }\n",
       "\n",
       "    .dataframe thead th {\n",
       "        text-align: right;\n",
       "    }\n",
       "</style>\n",
       "<table border=\"1\" class=\"dataframe\">\n",
       "  <thead>\n",
       "    <tr style=\"text-align: right;\">\n",
       "      <th></th>\n",
       "      <th>Date</th>\n",
       "      <th>Hour</th>\n",
       "      <th>Text</th>\n",
       "      <th>Text with games</th>\n",
       "      <th>Text clean</th>\n",
       "    </tr>\n",
       "  </thead>\n",
       "  <tbody>\n",
       "    <tr>\n",
       "      <td>0</td>\n",
       "      <td>2020-07-23</td>\n",
       "      <td>16:59:51</td>\n",
       "      <td>first</td>\n",
       "      <td>First</td>\n",
       "      <td>first</td>\n",
       "    </tr>\n",
       "    <tr>\n",
       "      <td>1</td>\n",
       "      <td>2020-07-23</td>\n",
       "      <td>16:59:55</td>\n",
       "      <td>bad</td>\n",
       "      <td>bad</td>\n",
       "      <td>bad</td>\n",
       "    </tr>\n",
       "    <tr>\n",
       "      <td>2</td>\n",
       "      <td>2020-07-23</td>\n",
       "      <td>16:59:56</td>\n",
       "      <td>first</td>\n",
       "      <td>First</td>\n",
       "      <td>first</td>\n",
       "    </tr>\n",
       "    <tr>\n",
       "      <td>3</td>\n",
       "      <td>2020-07-23</td>\n",
       "      <td>16:59:58</td>\n",
       "      <td>first comment</td>\n",
       "      <td>First comment</td>\n",
       "      <td>first comment</td>\n",
       "    </tr>\n",
       "    <tr>\n",
       "      <td>4</td>\n",
       "      <td>2020-07-23</td>\n",
       "      <td>17:00:02</td>\n",
       "      <td>hello</td>\n",
       "      <td>Hello</td>\n",
       "      <td>hello</td>\n",
       "    </tr>\n",
       "  </tbody>\n",
       "</table>\n",
       "</div>"
      ],
      "text/plain": [
       "          Date      Hour           Text Text with games     Text clean\n",
       "0  2020-07-23   16:59:51          first           First          first\n",
       "1  2020-07-23   16:59:55            bad             bad            bad\n",
       "2  2020-07-23   16:59:56          first           First          first\n",
       "3  2020-07-23   16:59:58  first comment   First comment  first comment\n",
       "4  2020-07-23   17:00:02          hello           Hello          hello"
      ]
     },
     "execution_count": 52,
     "metadata": {},
     "output_type": "execute_result"
    }
   ],
   "source": [
    "Xbox_data.head()"
   ]
  },
  {
   "cell_type": "code",
   "execution_count": 53,
   "metadata": {},
   "outputs": [],
   "source": [
    "def get_polarity(text):\n",
    "    return TextBlob(text).sentiment.polarity\n",
    "\n",
    "def get_subjectivity(text):\n",
    "    return TextBlob(text).sentiment.subjectivity"
   ]
  },
  {
   "cell_type": "code",
   "execution_count": 54,
   "metadata": {},
   "outputs": [],
   "source": [
    "Xbox_data['Polarity - TTB'] = Xbox_data['Text'].apply(get_polarity)\n",
    "Xbox_data['Subjectivity - TTB'] = Xbox_data['Text'].apply(get_subjectivity)\n",
    "\n",
    "Xbox_data['Polarity - TCTB'] = Xbox_data['Text clean'].apply(get_polarity)\n",
    "Xbox_data['Subjectivity - TCTB'] = Xbox_data['Text clean'].apply(get_subjectivity)"
   ]
  },
  {
   "cell_type": "code",
   "execution_count": 55,
   "metadata": {},
   "outputs": [
    {
     "data": {
      "text/html": [
       "<div>\n",
       "<style scoped>\n",
       "    .dataframe tbody tr th:only-of-type {\n",
       "        vertical-align: middle;\n",
       "    }\n",
       "\n",
       "    .dataframe tbody tr th {\n",
       "        vertical-align: top;\n",
       "    }\n",
       "\n",
       "    .dataframe thead th {\n",
       "        text-align: right;\n",
       "    }\n",
       "</style>\n",
       "<table border=\"1\" class=\"dataframe\">\n",
       "  <thead>\n",
       "    <tr style=\"text-align: right;\">\n",
       "      <th></th>\n",
       "      <th>Date</th>\n",
       "      <th>Hour</th>\n",
       "      <th>Text</th>\n",
       "      <th>Text with games</th>\n",
       "      <th>Text clean</th>\n",
       "      <th>Polarity - TTB</th>\n",
       "      <th>Subjectivity - TTB</th>\n",
       "      <th>Polarity - TCTB</th>\n",
       "      <th>Subjectivity - TCTB</th>\n",
       "    </tr>\n",
       "  </thead>\n",
       "  <tbody>\n",
       "    <tr>\n",
       "      <td>0</td>\n",
       "      <td>2020-07-23</td>\n",
       "      <td>16:59:51</td>\n",
       "      <td>first</td>\n",
       "      <td>First</td>\n",
       "      <td>first</td>\n",
       "      <td>0.25</td>\n",
       "      <td>0.333333</td>\n",
       "      <td>0.25</td>\n",
       "      <td>0.333333</td>\n",
       "    </tr>\n",
       "    <tr>\n",
       "      <td>1</td>\n",
       "      <td>2020-07-23</td>\n",
       "      <td>16:59:55</td>\n",
       "      <td>bad</td>\n",
       "      <td>bad</td>\n",
       "      <td>bad</td>\n",
       "      <td>-0.70</td>\n",
       "      <td>0.666667</td>\n",
       "      <td>-0.70</td>\n",
       "      <td>0.666667</td>\n",
       "    </tr>\n",
       "    <tr>\n",
       "      <td>2</td>\n",
       "      <td>2020-07-23</td>\n",
       "      <td>16:59:56</td>\n",
       "      <td>first</td>\n",
       "      <td>First</td>\n",
       "      <td>first</td>\n",
       "      <td>0.25</td>\n",
       "      <td>0.333333</td>\n",
       "      <td>0.25</td>\n",
       "      <td>0.333333</td>\n",
       "    </tr>\n",
       "    <tr>\n",
       "      <td>3</td>\n",
       "      <td>2020-07-23</td>\n",
       "      <td>16:59:58</td>\n",
       "      <td>first comment</td>\n",
       "      <td>First comment</td>\n",
       "      <td>first comment</td>\n",
       "      <td>0.25</td>\n",
       "      <td>0.333333</td>\n",
       "      <td>0.25</td>\n",
       "      <td>0.333333</td>\n",
       "    </tr>\n",
       "    <tr>\n",
       "      <td>4</td>\n",
       "      <td>2020-07-23</td>\n",
       "      <td>17:00:02</td>\n",
       "      <td>hello</td>\n",
       "      <td>Hello</td>\n",
       "      <td>hello</td>\n",
       "      <td>0.00</td>\n",
       "      <td>0.000000</td>\n",
       "      <td>0.00</td>\n",
       "      <td>0.000000</td>\n",
       "    </tr>\n",
       "  </tbody>\n",
       "</table>\n",
       "</div>"
      ],
      "text/plain": [
       "          Date      Hour           Text Text with games     Text clean  \\\n",
       "0  2020-07-23   16:59:51          first           First          first   \n",
       "1  2020-07-23   16:59:55            bad             bad            bad   \n",
       "2  2020-07-23   16:59:56          first           First          first   \n",
       "3  2020-07-23   16:59:58  first comment   First comment  first comment   \n",
       "4  2020-07-23   17:00:02          hello           Hello          hello   \n",
       "\n",
       "   Polarity - TTB  Subjectivity - TTB  Polarity - TCTB  Subjectivity - TCTB  \n",
       "0            0.25            0.333333             0.25             0.333333  \n",
       "1           -0.70            0.666667            -0.70             0.666667  \n",
       "2            0.25            0.333333             0.25             0.333333  \n",
       "3            0.25            0.333333             0.25             0.333333  \n",
       "4            0.00            0.000000             0.00             0.000000  "
      ]
     },
     "execution_count": 55,
     "metadata": {},
     "output_type": "execute_result"
    }
   ],
   "source": [
    "Xbox_data.head()"
   ]
  },
  {
   "cell_type": "code",
   "execution_count": 56,
   "metadata": {},
   "outputs": [],
   "source": [
    "def sentiment_class(value):\n",
    "    if value > 0:\n",
    "        return \"Positive\"\n",
    "    elif value == 0:\n",
    "        return \"Neutral\"\n",
    "    else:\n",
    "        return \"Negative\""
   ]
  },
  {
   "cell_type": "code",
   "execution_count": 57,
   "metadata": {},
   "outputs": [],
   "source": [
    "Xbox_data['Sentiment - TTB'] = Xbox_data['Polarity - TTB'].apply(sentiment_class)\n",
    "Xbox_data['Sentiment - TCTB'] = Xbox_data['Polarity - TCTB'].apply(sentiment_class)"
   ]
  },
  {
   "cell_type": "code",
   "execution_count": 58,
   "metadata": {},
   "outputs": [
    {
     "data": {
      "text/plain": [
       "Neutral     1188\n",
       "Positive     928\n",
       "Negative     366\n",
       "Name: Sentiment - TTB, dtype: int64"
      ]
     },
     "execution_count": 58,
     "metadata": {},
     "output_type": "execute_result"
    }
   ],
   "source": [
    "Xbox_data['Sentiment - TTB'].value_counts()"
   ]
  },
  {
   "cell_type": "code",
   "execution_count": 59,
   "metadata": {},
   "outputs": [
    {
     "data": {
      "text/plain": [
       "Neutral     1244\n",
       "Positive     760\n",
       "Negative     478\n",
       "Name: Sentiment - TCTB, dtype: int64"
      ]
     },
     "execution_count": 59,
     "metadata": {},
     "output_type": "execute_result"
    }
   ],
   "source": [
    "Xbox_data['Sentiment - TCTB'].value_counts()"
   ]
  },
  {
   "cell_type": "code",
   "execution_count": 60,
   "metadata": {},
   "outputs": [
    {
     "name": "stdout",
     "output_type": "stream",
     "text": [
      "37% of positive comments with \"Text\".\n",
      "48% of neutral comments with \"Text\".\n",
      "15% of negative comments with \"Text\".\n",
      "31% of positive comments with \"Text clean\".\n",
      "50% of neutral comments with \"Text clean\".\n",
      "19% of negative comments with \"Text clean\".\n"
     ]
    }
   ],
   "source": [
    "print(\"{0:.0%}\".format(len(Xbox_data[Xbox_data['Sentiment - TTB']=='Positive'])/len(Xbox_data)),'of positive comments with \"Text\".')\n",
    "print(\"{0:.0%}\".format(len(Xbox_data[Xbox_data['Sentiment - TTB']=='Neutral'])/len(Xbox_data)),'of neutral comments with \"Text\".')\n",
    "print(\"{0:.0%}\".format(len(Xbox_data[Xbox_data['Sentiment - TTB']=='Negative'])/len(Xbox_data)),'of negative comments with \"Text\".')\n",
    "\n",
    "print(\"{0:.0%}\".format(len(Xbox_data[Xbox_data['Sentiment - TCTB']=='Positive'])/len(Xbox_data)),'of positive comments with \"Text clean\".')\n",
    "print(\"{0:.0%}\".format(len(Xbox_data[Xbox_data['Sentiment - TCTB']=='Neutral'])/len(Xbox_data)),'of neutral comments with \"Text clean\".')\n",
    "print(\"{0:.0%}\".format(len(Xbox_data[Xbox_data['Sentiment - TCTB']=='Negative'])/len(Xbox_data)),'of negative comments with \"Text clean\".')"
   ]
  },
  {
   "cell_type": "markdown",
   "metadata": {},
   "source": [
    "#### *Second approach: VADER*"
   ]
  },
  {
   "cell_type": "code",
   "execution_count": 61,
   "metadata": {},
   "outputs": [],
   "source": [
    "from nltk.sentiment.vader import SentimentIntensityAnalyzer"
   ]
  },
  {
   "cell_type": "code",
   "execution_count": 62,
   "metadata": {},
   "outputs": [],
   "source": [
    "sia = SentimentIntensityAnalyzer()"
   ]
  },
  {
   "cell_type": "code",
   "execution_count": 63,
   "metadata": {},
   "outputs": [
    {
     "data": {
      "text/html": [
       "<div>\n",
       "<style scoped>\n",
       "    .dataframe tbody tr th:only-of-type {\n",
       "        vertical-align: middle;\n",
       "    }\n",
       "\n",
       "    .dataframe tbody tr th {\n",
       "        vertical-align: top;\n",
       "    }\n",
       "\n",
       "    .dataframe thead th {\n",
       "        text-align: right;\n",
       "    }\n",
       "</style>\n",
       "<table border=\"1\" class=\"dataframe\">\n",
       "  <thead>\n",
       "    <tr style=\"text-align: right;\">\n",
       "      <th></th>\n",
       "      <th>Date</th>\n",
       "      <th>Hour</th>\n",
       "      <th>Text</th>\n",
       "      <th>Text with games</th>\n",
       "      <th>Text clean</th>\n",
       "      <th>Polarity - TTB</th>\n",
       "      <th>Subjectivity - TTB</th>\n",
       "      <th>Polarity - TCTB</th>\n",
       "      <th>Subjectivity - TCTB</th>\n",
       "      <th>Sentiment - TTB</th>\n",
       "      <th>Sentiment - TCTB</th>\n",
       "    </tr>\n",
       "  </thead>\n",
       "  <tbody>\n",
       "    <tr>\n",
       "      <td>0</td>\n",
       "      <td>2020-07-23</td>\n",
       "      <td>16:59:51</td>\n",
       "      <td>first</td>\n",
       "      <td>First</td>\n",
       "      <td>first</td>\n",
       "      <td>0.25</td>\n",
       "      <td>0.333333</td>\n",
       "      <td>0.25</td>\n",
       "      <td>0.333333</td>\n",
       "      <td>Positive</td>\n",
       "      <td>Positive</td>\n",
       "    </tr>\n",
       "    <tr>\n",
       "      <td>1</td>\n",
       "      <td>2020-07-23</td>\n",
       "      <td>16:59:55</td>\n",
       "      <td>bad</td>\n",
       "      <td>bad</td>\n",
       "      <td>bad</td>\n",
       "      <td>-0.70</td>\n",
       "      <td>0.666667</td>\n",
       "      <td>-0.70</td>\n",
       "      <td>0.666667</td>\n",
       "      <td>Negative</td>\n",
       "      <td>Negative</td>\n",
       "    </tr>\n",
       "    <tr>\n",
       "      <td>2</td>\n",
       "      <td>2020-07-23</td>\n",
       "      <td>16:59:56</td>\n",
       "      <td>first</td>\n",
       "      <td>First</td>\n",
       "      <td>first</td>\n",
       "      <td>0.25</td>\n",
       "      <td>0.333333</td>\n",
       "      <td>0.25</td>\n",
       "      <td>0.333333</td>\n",
       "      <td>Positive</td>\n",
       "      <td>Positive</td>\n",
       "    </tr>\n",
       "    <tr>\n",
       "      <td>3</td>\n",
       "      <td>2020-07-23</td>\n",
       "      <td>16:59:58</td>\n",
       "      <td>first comment</td>\n",
       "      <td>First comment</td>\n",
       "      <td>first comment</td>\n",
       "      <td>0.25</td>\n",
       "      <td>0.333333</td>\n",
       "      <td>0.25</td>\n",
       "      <td>0.333333</td>\n",
       "      <td>Positive</td>\n",
       "      <td>Positive</td>\n",
       "    </tr>\n",
       "    <tr>\n",
       "      <td>4</td>\n",
       "      <td>2020-07-23</td>\n",
       "      <td>17:00:02</td>\n",
       "      <td>hello</td>\n",
       "      <td>Hello</td>\n",
       "      <td>hello</td>\n",
       "      <td>0.00</td>\n",
       "      <td>0.000000</td>\n",
       "      <td>0.00</td>\n",
       "      <td>0.000000</td>\n",
       "      <td>Neutral</td>\n",
       "      <td>Neutral</td>\n",
       "    </tr>\n",
       "  </tbody>\n",
       "</table>\n",
       "</div>"
      ],
      "text/plain": [
       "          Date      Hour           Text Text with games     Text clean  \\\n",
       "0  2020-07-23   16:59:51          first           First          first   \n",
       "1  2020-07-23   16:59:55            bad             bad            bad   \n",
       "2  2020-07-23   16:59:56          first           First          first   \n",
       "3  2020-07-23   16:59:58  first comment   First comment  first comment   \n",
       "4  2020-07-23   17:00:02          hello           Hello          hello   \n",
       "\n",
       "   Polarity - TTB  Subjectivity - TTB  Polarity - TCTB  Subjectivity - TCTB  \\\n",
       "0            0.25            0.333333             0.25             0.333333   \n",
       "1           -0.70            0.666667            -0.70             0.666667   \n",
       "2            0.25            0.333333             0.25             0.333333   \n",
       "3            0.25            0.333333             0.25             0.333333   \n",
       "4            0.00            0.000000             0.00             0.000000   \n",
       "\n",
       "  Sentiment - TTB Sentiment - TCTB  \n",
       "0        Positive         Positive  \n",
       "1        Negative         Negative  \n",
       "2        Positive         Positive  \n",
       "3        Positive         Positive  \n",
       "4         Neutral          Neutral  "
      ]
     },
     "execution_count": 63,
     "metadata": {},
     "output_type": "execute_result"
    }
   ],
   "source": [
    "Xbox_data.head()"
   ]
  },
  {
   "cell_type": "code",
   "execution_count": 64,
   "metadata": {},
   "outputs": [],
   "source": [
    "def get_sentiment(text):\n",
    "    return sia.polarity_scores(text)"
   ]
  },
  {
   "cell_type": "code",
   "execution_count": 65,
   "metadata": {},
   "outputs": [],
   "source": [
    "Xbox_data['Sentiment scores - TVD'] = Xbox_data['Text'].apply(get_sentiment)\n",
    "Xbox_data['Sentiment scores - TCVD'] = Xbox_data['Text clean'].apply(get_sentiment)"
   ]
  },
  {
   "cell_type": "code",
   "execution_count": 66,
   "metadata": {},
   "outputs": [
    {
     "data": {
      "text/html": [
       "<div>\n",
       "<style scoped>\n",
       "    .dataframe tbody tr th:only-of-type {\n",
       "        vertical-align: middle;\n",
       "    }\n",
       "\n",
       "    .dataframe tbody tr th {\n",
       "        vertical-align: top;\n",
       "    }\n",
       "\n",
       "    .dataframe thead th {\n",
       "        text-align: right;\n",
       "    }\n",
       "</style>\n",
       "<table border=\"1\" class=\"dataframe\">\n",
       "  <thead>\n",
       "    <tr style=\"text-align: right;\">\n",
       "      <th></th>\n",
       "      <th>Date</th>\n",
       "      <th>Hour</th>\n",
       "      <th>Text</th>\n",
       "      <th>Text with games</th>\n",
       "      <th>Text clean</th>\n",
       "      <th>Polarity - TTB</th>\n",
       "      <th>Subjectivity - TTB</th>\n",
       "      <th>Polarity - TCTB</th>\n",
       "      <th>Subjectivity - TCTB</th>\n",
       "      <th>Sentiment - TTB</th>\n",
       "      <th>Sentiment - TCTB</th>\n",
       "      <th>Sentiment scores - TVD</th>\n",
       "      <th>Sentiment scores - TCVD</th>\n",
       "    </tr>\n",
       "  </thead>\n",
       "  <tbody>\n",
       "    <tr>\n",
       "      <td>0</td>\n",
       "      <td>2020-07-23</td>\n",
       "      <td>16:59:51</td>\n",
       "      <td>first</td>\n",
       "      <td>First</td>\n",
       "      <td>first</td>\n",
       "      <td>0.25</td>\n",
       "      <td>0.333333</td>\n",
       "      <td>0.25</td>\n",
       "      <td>0.333333</td>\n",
       "      <td>Positive</td>\n",
       "      <td>Positive</td>\n",
       "      <td>{'neg': 0.0, 'neu': 1.0, 'pos': 0.0, 'compound...</td>\n",
       "      <td>{'neg': 0.0, 'neu': 1.0, 'pos': 0.0, 'compound...</td>\n",
       "    </tr>\n",
       "    <tr>\n",
       "      <td>1</td>\n",
       "      <td>2020-07-23</td>\n",
       "      <td>16:59:55</td>\n",
       "      <td>bad</td>\n",
       "      <td>bad</td>\n",
       "      <td>bad</td>\n",
       "      <td>-0.70</td>\n",
       "      <td>0.666667</td>\n",
       "      <td>-0.70</td>\n",
       "      <td>0.666667</td>\n",
       "      <td>Negative</td>\n",
       "      <td>Negative</td>\n",
       "      <td>{'neg': 1.0, 'neu': 0.0, 'pos': 0.0, 'compound...</td>\n",
       "      <td>{'neg': 1.0, 'neu': 0.0, 'pos': 0.0, 'compound...</td>\n",
       "    </tr>\n",
       "    <tr>\n",
       "      <td>2</td>\n",
       "      <td>2020-07-23</td>\n",
       "      <td>16:59:56</td>\n",
       "      <td>first</td>\n",
       "      <td>First</td>\n",
       "      <td>first</td>\n",
       "      <td>0.25</td>\n",
       "      <td>0.333333</td>\n",
       "      <td>0.25</td>\n",
       "      <td>0.333333</td>\n",
       "      <td>Positive</td>\n",
       "      <td>Positive</td>\n",
       "      <td>{'neg': 0.0, 'neu': 1.0, 'pos': 0.0, 'compound...</td>\n",
       "      <td>{'neg': 0.0, 'neu': 1.0, 'pos': 0.0, 'compound...</td>\n",
       "    </tr>\n",
       "    <tr>\n",
       "      <td>3</td>\n",
       "      <td>2020-07-23</td>\n",
       "      <td>16:59:58</td>\n",
       "      <td>first comment</td>\n",
       "      <td>First comment</td>\n",
       "      <td>first comment</td>\n",
       "      <td>0.25</td>\n",
       "      <td>0.333333</td>\n",
       "      <td>0.25</td>\n",
       "      <td>0.333333</td>\n",
       "      <td>Positive</td>\n",
       "      <td>Positive</td>\n",
       "      <td>{'neg': 0.0, 'neu': 1.0, 'pos': 0.0, 'compound...</td>\n",
       "      <td>{'neg': 0.0, 'neu': 1.0, 'pos': 0.0, 'compound...</td>\n",
       "    </tr>\n",
       "    <tr>\n",
       "      <td>4</td>\n",
       "      <td>2020-07-23</td>\n",
       "      <td>17:00:02</td>\n",
       "      <td>hello</td>\n",
       "      <td>Hello</td>\n",
       "      <td>hello</td>\n",
       "      <td>0.00</td>\n",
       "      <td>0.000000</td>\n",
       "      <td>0.00</td>\n",
       "      <td>0.000000</td>\n",
       "      <td>Neutral</td>\n",
       "      <td>Neutral</td>\n",
       "      <td>{'neg': 0.0, 'neu': 1.0, 'pos': 0.0, 'compound...</td>\n",
       "      <td>{'neg': 0.0, 'neu': 1.0, 'pos': 0.0, 'compound...</td>\n",
       "    </tr>\n",
       "  </tbody>\n",
       "</table>\n",
       "</div>"
      ],
      "text/plain": [
       "          Date      Hour           Text Text with games     Text clean  \\\n",
       "0  2020-07-23   16:59:51          first           First          first   \n",
       "1  2020-07-23   16:59:55            bad             bad            bad   \n",
       "2  2020-07-23   16:59:56          first           First          first   \n",
       "3  2020-07-23   16:59:58  first comment   First comment  first comment   \n",
       "4  2020-07-23   17:00:02          hello           Hello          hello   \n",
       "\n",
       "   Polarity - TTB  Subjectivity - TTB  Polarity - TCTB  Subjectivity - TCTB  \\\n",
       "0            0.25            0.333333             0.25             0.333333   \n",
       "1           -0.70            0.666667            -0.70             0.666667   \n",
       "2            0.25            0.333333             0.25             0.333333   \n",
       "3            0.25            0.333333             0.25             0.333333   \n",
       "4            0.00            0.000000             0.00             0.000000   \n",
       "\n",
       "  Sentiment - TTB Sentiment - TCTB  \\\n",
       "0        Positive         Positive   \n",
       "1        Negative         Negative   \n",
       "2        Positive         Positive   \n",
       "3        Positive         Positive   \n",
       "4         Neutral          Neutral   \n",
       "\n",
       "                              Sentiment scores - TVD  \\\n",
       "0  {'neg': 0.0, 'neu': 1.0, 'pos': 0.0, 'compound...   \n",
       "1  {'neg': 1.0, 'neu': 0.0, 'pos': 0.0, 'compound...   \n",
       "2  {'neg': 0.0, 'neu': 1.0, 'pos': 0.0, 'compound...   \n",
       "3  {'neg': 0.0, 'neu': 1.0, 'pos': 0.0, 'compound...   \n",
       "4  {'neg': 0.0, 'neu': 1.0, 'pos': 0.0, 'compound...   \n",
       "\n",
       "                             Sentiment scores - TCVD  \n",
       "0  {'neg': 0.0, 'neu': 1.0, 'pos': 0.0, 'compound...  \n",
       "1  {'neg': 1.0, 'neu': 0.0, 'pos': 0.0, 'compound...  \n",
       "2  {'neg': 0.0, 'neu': 1.0, 'pos': 0.0, 'compound...  \n",
       "3  {'neg': 0.0, 'neu': 1.0, 'pos': 0.0, 'compound...  \n",
       "4  {'neg': 0.0, 'neu': 1.0, 'pos': 0.0, 'compound...  "
      ]
     },
     "execution_count": 66,
     "metadata": {},
     "output_type": "execute_result"
    }
   ],
   "source": [
    "Xbox_data.head()"
   ]
  },
  {
   "cell_type": "code",
   "execution_count": 67,
   "metadata": {},
   "outputs": [],
   "source": [
    "Xbox_data['Compound - TVD'] = Xbox_data['Sentiment scores - TVD'].apply(lambda score_dict: score_dict['compound'])\n",
    "Xbox_data['Compound - TCVD'] = Xbox_data['Sentiment scores - TCVD'].apply(lambda score_dict: score_dict['compound'])"
   ]
  },
  {
   "cell_type": "code",
   "execution_count": 68,
   "metadata": {},
   "outputs": [],
   "source": [
    "Xbox_data['Sentiment - TVD'] = Xbox_data['Compound - TVD'].apply(sentiment_class)\n",
    "Xbox_data['Sentiment - TCVD'] = Xbox_data['Compound - TCVD'].apply(sentiment_class)"
   ]
  },
  {
   "cell_type": "code",
   "execution_count": 69,
   "metadata": {},
   "outputs": [
    {
     "data": {
      "text/html": [
       "<div>\n",
       "<style scoped>\n",
       "    .dataframe tbody tr th:only-of-type {\n",
       "        vertical-align: middle;\n",
       "    }\n",
       "\n",
       "    .dataframe tbody tr th {\n",
       "        vertical-align: top;\n",
       "    }\n",
       "\n",
       "    .dataframe thead th {\n",
       "        text-align: right;\n",
       "    }\n",
       "</style>\n",
       "<table border=\"1\" class=\"dataframe\">\n",
       "  <thead>\n",
       "    <tr style=\"text-align: right;\">\n",
       "      <th></th>\n",
       "      <th>Date</th>\n",
       "      <th>Hour</th>\n",
       "      <th>Text</th>\n",
       "      <th>Text with games</th>\n",
       "      <th>Text clean</th>\n",
       "      <th>Polarity - TTB</th>\n",
       "      <th>Subjectivity - TTB</th>\n",
       "      <th>Polarity - TCTB</th>\n",
       "      <th>Subjectivity - TCTB</th>\n",
       "      <th>Sentiment - TTB</th>\n",
       "      <th>Sentiment - TCTB</th>\n",
       "      <th>Sentiment scores - TVD</th>\n",
       "      <th>Sentiment scores - TCVD</th>\n",
       "      <th>Compound - TVD</th>\n",
       "      <th>Compound - TCVD</th>\n",
       "      <th>Sentiment - TVD</th>\n",
       "      <th>Sentiment - TCVD</th>\n",
       "    </tr>\n",
       "  </thead>\n",
       "  <tbody>\n",
       "    <tr>\n",
       "      <td>0</td>\n",
       "      <td>2020-07-23</td>\n",
       "      <td>16:59:51</td>\n",
       "      <td>first</td>\n",
       "      <td>First</td>\n",
       "      <td>first</td>\n",
       "      <td>0.25</td>\n",
       "      <td>0.333333</td>\n",
       "      <td>0.25</td>\n",
       "      <td>0.333333</td>\n",
       "      <td>Positive</td>\n",
       "      <td>Positive</td>\n",
       "      <td>{'neg': 0.0, 'neu': 1.0, 'pos': 0.0, 'compound...</td>\n",
       "      <td>{'neg': 0.0, 'neu': 1.0, 'pos': 0.0, 'compound...</td>\n",
       "      <td>0.0000</td>\n",
       "      <td>0.0000</td>\n",
       "      <td>Neutral</td>\n",
       "      <td>Neutral</td>\n",
       "    </tr>\n",
       "    <tr>\n",
       "      <td>1</td>\n",
       "      <td>2020-07-23</td>\n",
       "      <td>16:59:55</td>\n",
       "      <td>bad</td>\n",
       "      <td>bad</td>\n",
       "      <td>bad</td>\n",
       "      <td>-0.70</td>\n",
       "      <td>0.666667</td>\n",
       "      <td>-0.70</td>\n",
       "      <td>0.666667</td>\n",
       "      <td>Negative</td>\n",
       "      <td>Negative</td>\n",
       "      <td>{'neg': 1.0, 'neu': 0.0, 'pos': 0.0, 'compound...</td>\n",
       "      <td>{'neg': 1.0, 'neu': 0.0, 'pos': 0.0, 'compound...</td>\n",
       "      <td>-0.5423</td>\n",
       "      <td>-0.5423</td>\n",
       "      <td>Negative</td>\n",
       "      <td>Negative</td>\n",
       "    </tr>\n",
       "    <tr>\n",
       "      <td>2</td>\n",
       "      <td>2020-07-23</td>\n",
       "      <td>16:59:56</td>\n",
       "      <td>first</td>\n",
       "      <td>First</td>\n",
       "      <td>first</td>\n",
       "      <td>0.25</td>\n",
       "      <td>0.333333</td>\n",
       "      <td>0.25</td>\n",
       "      <td>0.333333</td>\n",
       "      <td>Positive</td>\n",
       "      <td>Positive</td>\n",
       "      <td>{'neg': 0.0, 'neu': 1.0, 'pos': 0.0, 'compound...</td>\n",
       "      <td>{'neg': 0.0, 'neu': 1.0, 'pos': 0.0, 'compound...</td>\n",
       "      <td>0.0000</td>\n",
       "      <td>0.0000</td>\n",
       "      <td>Neutral</td>\n",
       "      <td>Neutral</td>\n",
       "    </tr>\n",
       "    <tr>\n",
       "      <td>3</td>\n",
       "      <td>2020-07-23</td>\n",
       "      <td>16:59:58</td>\n",
       "      <td>first comment</td>\n",
       "      <td>First comment</td>\n",
       "      <td>first comment</td>\n",
       "      <td>0.25</td>\n",
       "      <td>0.333333</td>\n",
       "      <td>0.25</td>\n",
       "      <td>0.333333</td>\n",
       "      <td>Positive</td>\n",
       "      <td>Positive</td>\n",
       "      <td>{'neg': 0.0, 'neu': 1.0, 'pos': 0.0, 'compound...</td>\n",
       "      <td>{'neg': 0.0, 'neu': 1.0, 'pos': 0.0, 'compound...</td>\n",
       "      <td>0.0000</td>\n",
       "      <td>0.0000</td>\n",
       "      <td>Neutral</td>\n",
       "      <td>Neutral</td>\n",
       "    </tr>\n",
       "    <tr>\n",
       "      <td>4</td>\n",
       "      <td>2020-07-23</td>\n",
       "      <td>17:00:02</td>\n",
       "      <td>hello</td>\n",
       "      <td>Hello</td>\n",
       "      <td>hello</td>\n",
       "      <td>0.00</td>\n",
       "      <td>0.000000</td>\n",
       "      <td>0.00</td>\n",
       "      <td>0.000000</td>\n",
       "      <td>Neutral</td>\n",
       "      <td>Neutral</td>\n",
       "      <td>{'neg': 0.0, 'neu': 1.0, 'pos': 0.0, 'compound...</td>\n",
       "      <td>{'neg': 0.0, 'neu': 1.0, 'pos': 0.0, 'compound...</td>\n",
       "      <td>0.0000</td>\n",
       "      <td>0.0000</td>\n",
       "      <td>Neutral</td>\n",
       "      <td>Neutral</td>\n",
       "    </tr>\n",
       "  </tbody>\n",
       "</table>\n",
       "</div>"
      ],
      "text/plain": [
       "          Date      Hour           Text Text with games     Text clean  \\\n",
       "0  2020-07-23   16:59:51          first           First          first   \n",
       "1  2020-07-23   16:59:55            bad             bad            bad   \n",
       "2  2020-07-23   16:59:56          first           First          first   \n",
       "3  2020-07-23   16:59:58  first comment   First comment  first comment   \n",
       "4  2020-07-23   17:00:02          hello           Hello          hello   \n",
       "\n",
       "   Polarity - TTB  Subjectivity - TTB  Polarity - TCTB  Subjectivity - TCTB  \\\n",
       "0            0.25            0.333333             0.25             0.333333   \n",
       "1           -0.70            0.666667            -0.70             0.666667   \n",
       "2            0.25            0.333333             0.25             0.333333   \n",
       "3            0.25            0.333333             0.25             0.333333   \n",
       "4            0.00            0.000000             0.00             0.000000   \n",
       "\n",
       "  Sentiment - TTB Sentiment - TCTB  \\\n",
       "0        Positive         Positive   \n",
       "1        Negative         Negative   \n",
       "2        Positive         Positive   \n",
       "3        Positive         Positive   \n",
       "4         Neutral          Neutral   \n",
       "\n",
       "                              Sentiment scores - TVD  \\\n",
       "0  {'neg': 0.0, 'neu': 1.0, 'pos': 0.0, 'compound...   \n",
       "1  {'neg': 1.0, 'neu': 0.0, 'pos': 0.0, 'compound...   \n",
       "2  {'neg': 0.0, 'neu': 1.0, 'pos': 0.0, 'compound...   \n",
       "3  {'neg': 0.0, 'neu': 1.0, 'pos': 0.0, 'compound...   \n",
       "4  {'neg': 0.0, 'neu': 1.0, 'pos': 0.0, 'compound...   \n",
       "\n",
       "                             Sentiment scores - TCVD  Compound - TVD  \\\n",
       "0  {'neg': 0.0, 'neu': 1.0, 'pos': 0.0, 'compound...          0.0000   \n",
       "1  {'neg': 1.0, 'neu': 0.0, 'pos': 0.0, 'compound...         -0.5423   \n",
       "2  {'neg': 0.0, 'neu': 1.0, 'pos': 0.0, 'compound...          0.0000   \n",
       "3  {'neg': 0.0, 'neu': 1.0, 'pos': 0.0, 'compound...          0.0000   \n",
       "4  {'neg': 0.0, 'neu': 1.0, 'pos': 0.0, 'compound...          0.0000   \n",
       "\n",
       "   Compound - TCVD Sentiment - TVD Sentiment - TCVD  \n",
       "0           0.0000         Neutral          Neutral  \n",
       "1          -0.5423        Negative         Negative  \n",
       "2           0.0000         Neutral          Neutral  \n",
       "3           0.0000         Neutral          Neutral  \n",
       "4           0.0000         Neutral          Neutral  "
      ]
     },
     "execution_count": 69,
     "metadata": {},
     "output_type": "execute_result"
    }
   ],
   "source": [
    "Xbox_data.head()"
   ]
  },
  {
   "cell_type": "markdown",
   "metadata": {},
   "source": [
    "#### *Comparison*"
   ]
  },
  {
   "cell_type": "code",
   "execution_count": 70,
   "metadata": {},
   "outputs": [
    {
     "name": "stderr",
     "output_type": "stream",
     "text": [
      "/Users/salim/opt/anaconda3/lib/python3.7/site-packages/pandas/core/indexing.py:205: SettingWithCopyWarning: \n",
      "A value is trying to be set on a copy of a slice from a DataFrame\n",
      "\n",
      "See the caveats in the documentation: http://pandas.pydata.org/pandas-docs/stable/user_guide/indexing.html#returning-a-view-versus-a-copy\n",
      "  self._setitem_with_indexer(indexer, value)\n"
     ]
    }
   ],
   "source": [
    "Xbox_data['Comparison T'] = \"\"\n",
    "\n",
    "for i in range(0, len(Xbox_data)):\n",
    "    if Xbox_data['Sentiment - TTB'].loc[i] == Xbox_data['Sentiment - TVD'].loc[i]:\n",
    "        Xbox_data['Comparison T'].loc[i] = 1\n",
    "    else:\n",
    "        Xbox_data['Comparison T'].loc[i] = 0\n",
    "        \n",
    "        \n",
    "Xbox_data['Comparison TC'] = \"\"\n",
    "\n",
    "for i in range(0, len(Xbox_data)):\n",
    "    if Xbox_data['Sentiment - TCTB'].loc[i] == Xbox_data['Sentiment - TCVD'].loc[i]:\n",
    "        Xbox_data['Comparison TC'].loc[i] = 1\n",
    "    else:\n",
    "        Xbox_data['Comparison TC'].loc[i] = 0"
   ]
  },
  {
   "cell_type": "code",
   "execution_count": 71,
   "metadata": {},
   "outputs": [
    {
     "data": {
      "text/plain": [
       "1    1707\n",
       "0     775\n",
       "Name: Comparison T, dtype: int64"
      ]
     },
     "execution_count": 71,
     "metadata": {},
     "output_type": "execute_result"
    }
   ],
   "source": [
    "Xbox_data['Comparison T'].value_counts()"
   ]
  },
  {
   "cell_type": "code",
   "execution_count": 72,
   "metadata": {},
   "outputs": [
    {
     "data": {
      "text/plain": [
       "1    1584\n",
       "0     898\n",
       "Name: Comparison TC, dtype: int64"
      ]
     },
     "execution_count": 72,
     "metadata": {},
     "output_type": "execute_result"
    }
   ],
   "source": [
    "Xbox_data['Comparison TC'].value_counts()"
   ]
  },
  {
   "cell_type": "code",
   "execution_count": 73,
   "metadata": {},
   "outputs": [
    {
     "name": "stdout",
     "output_type": "stream",
     "text": [
      "69% of sentiment predictions are similar between TextBlob and VADER for \"Text\".\n",
      "31% of sentiment predictions are different between TextBlob and VADER for \"Text\".\n",
      "64% of sentiment predictions are similar between TextBlob and VADER for \"Text clean\".\n",
      "36% of sentiment predictions are different between TextBlob and VADER for \"Text clean\".\n"
     ]
    }
   ],
   "source": [
    "print(\"{0:.0%}\".format(len(Xbox_data[Xbox_data['Comparison T']==1])/len(Xbox_data)),'of sentiment predictions are similar between TextBlob and VADER for \"Text\".')\n",
    "print(\"{0:.0%}\".format(len(Xbox_data[Xbox_data['Comparison T']==0])/len(Xbox_data)),'of sentiment predictions are different between TextBlob and VADER for \"Text\".')\n",
    "\n",
    "print(\"{0:.0%}\".format(len(Xbox_data[Xbox_data['Comparison TC']==1])/len(Xbox_data)),'of sentiment predictions are similar between TextBlob and VADER for \"Text clean\".')\n",
    "print(\"{0:.0%}\".format(len(Xbox_data[Xbox_data['Comparison TC']==0])/len(Xbox_data)),'of sentiment predictions are different between TextBlob and VADER for \"Text clean\".')"
   ]
  },
  {
   "cell_type": "markdown",
   "metadata": {},
   "source": [
    "I see that 31% of sentiment predictions are different between the two libraries for 'Text'. My goal is to select the best predictor between the two. I will randomly choose 100 comments and assess manually which library has the right sentiment. The one which performed best will be the library I'll choose for my analysis. I will also assess whether to keep 'Text' or 'Text clean' for sentiment analysis.\n",
    "\n",
    "For that, I will export the predictions and manually input the correct sentiment. Then calculate the accuracy for each case."
   ]
  },
  {
   "cell_type": "code",
   "execution_count": 74,
   "metadata": {},
   "outputs": [],
   "source": [
    "comparison = Xbox_data[Xbox_data['Comparison T']==0][['Text','Sentiment - TTB','Sentiment - TCTB','Sentiment - TVD','Sentiment - TCVD']].sample(100 ,random_state=42)\n",
    "#comparison.to_csv('comparison_to_check.csv')"
   ]
  },
  {
   "cell_type": "code",
   "execution_count": 75,
   "metadata": {},
   "outputs": [],
   "source": [
    "comparison_checked = pd.read_csv('comparison_checked 2.csv',sep=',')"
   ]
  },
  {
   "cell_type": "code",
   "execution_count": 76,
   "metadata": {},
   "outputs": [
    {
     "data": {
      "text/html": [
       "<div>\n",
       "<style scoped>\n",
       "    .dataframe tbody tr th:only-of-type {\n",
       "        vertical-align: middle;\n",
       "    }\n",
       "\n",
       "    .dataframe tbody tr th {\n",
       "        vertical-align: top;\n",
       "    }\n",
       "\n",
       "    .dataframe thead th {\n",
       "        text-align: right;\n",
       "    }\n",
       "</style>\n",
       "<table border=\"1\" class=\"dataframe\">\n",
       "  <thead>\n",
       "    <tr style=\"text-align: right;\">\n",
       "      <th></th>\n",
       "      <th>Unnamed: 0</th>\n",
       "      <th>Text</th>\n",
       "      <th>Sentiment - TTB</th>\n",
       "      <th>Sentiment - TCTB</th>\n",
       "      <th>Sentiment - TVD</th>\n",
       "      <th>Sentiment - TCVD</th>\n",
       "      <th>True sentiment</th>\n",
       "    </tr>\n",
       "  </thead>\n",
       "  <tbody>\n",
       "    <tr>\n",
       "      <td>0</td>\n",
       "      <td>834</td>\n",
       "      <td>the people who are complaining about halo grap...</td>\n",
       "      <td>Neutral</td>\n",
       "      <td>Neutral</td>\n",
       "      <td>Negative</td>\n",
       "      <td>Negative</td>\n",
       "      <td>Neutral</td>\n",
       "    </tr>\n",
       "    <tr>\n",
       "      <td>1</td>\n",
       "      <td>437</td>\n",
       "      <td>It was ok but Ill save my judgement until thes...</td>\n",
       "      <td>Neutral</td>\n",
       "      <td>Negative</td>\n",
       "      <td>Positive</td>\n",
       "      <td>Positive</td>\n",
       "      <td>Positive</td>\n",
       "    </tr>\n",
       "    <tr>\n",
       "      <td>2</td>\n",
       "      <td>881</td>\n",
       "      <td>Tell me why My thoughts exactly</td>\n",
       "      <td>Positive</td>\n",
       "      <td>Positive</td>\n",
       "      <td>Neutral</td>\n",
       "      <td>Neutral</td>\n",
       "      <td>Neutral</td>\n",
       "    </tr>\n",
       "    <tr>\n",
       "      <td>3</td>\n",
       "      <td>44</td>\n",
       "      <td>Nothing really interested me enough to switch ...</td>\n",
       "      <td>Positive</td>\n",
       "      <td>Positive</td>\n",
       "      <td>Negative</td>\n",
       "      <td>Negative</td>\n",
       "      <td>Negative</td>\n",
       "    </tr>\n",
       "    <tr>\n",
       "      <td>4</td>\n",
       "      <td>381</td>\n",
       "      <td>Well Im Soaked</td>\n",
       "      <td>Neutral</td>\n",
       "      <td>Neutral</td>\n",
       "      <td>Positive</td>\n",
       "      <td>Positive</td>\n",
       "      <td>Neutral</td>\n",
       "    </tr>\n",
       "    <tr>\n",
       "      <td>...</td>\n",
       "      <td>...</td>\n",
       "      <td>...</td>\n",
       "      <td>...</td>\n",
       "      <td>...</td>\n",
       "      <td>...</td>\n",
       "      <td>...</td>\n",
       "      <td>...</td>\n",
       "    </tr>\n",
       "    <tr>\n",
       "      <td>95</td>\n",
       "      <td>910</td>\n",
       "      <td>meh</td>\n",
       "      <td>Neutral</td>\n",
       "      <td>Neutral</td>\n",
       "      <td>Negative</td>\n",
       "      <td>Negative</td>\n",
       "      <td>Negative</td>\n",
       "    </tr>\n",
       "    <tr>\n",
       "      <td>96</td>\n",
       "      <td>227</td>\n",
       "      <td>Feel so sorry for Xbox players  Maybe 5 years ...</td>\n",
       "      <td>Positive</td>\n",
       "      <td>Positive</td>\n",
       "      <td>Negative</td>\n",
       "      <td>Positive</td>\n",
       "      <td>Negative</td>\n",
       "    </tr>\n",
       "    <tr>\n",
       "      <td>97</td>\n",
       "      <td>1082</td>\n",
       "      <td>Original thought provoking moving and sometime...</td>\n",
       "      <td>Negative</td>\n",
       "      <td>Negative</td>\n",
       "      <td>Positive</td>\n",
       "      <td>Positive</td>\n",
       "      <td>Negative</td>\n",
       "    </tr>\n",
       "    <tr>\n",
       "      <td>98</td>\n",
       "      <td>513</td>\n",
       "      <td>bruh I knew they were lying about fable       ...</td>\n",
       "      <td>Neutral</td>\n",
       "      <td>Neutral</td>\n",
       "      <td>Negative</td>\n",
       "      <td>Neutral</td>\n",
       "      <td>Negative</td>\n",
       "    </tr>\n",
       "    <tr>\n",
       "      <td>99</td>\n",
       "      <td>754</td>\n",
       "      <td>OBSIDIAN CAME TO PLAY</td>\n",
       "      <td>Neutral</td>\n",
       "      <td>Neutral</td>\n",
       "      <td>Positive</td>\n",
       "      <td>Positive</td>\n",
       "      <td>Positive</td>\n",
       "    </tr>\n",
       "  </tbody>\n",
       "</table>\n",
       "<p>100 rows × 7 columns</p>\n",
       "</div>"
      ],
      "text/plain": [
       "    Unnamed: 0                                               Text  \\\n",
       "0          834  the people who are complaining about halo grap...   \n",
       "1          437  It was ok but Ill save my judgement until thes...   \n",
       "2          881  Tell me why My thoughts exactly                     \n",
       "3           44  Nothing really interested me enough to switch ...   \n",
       "4          381                   Well Im Soaked                     \n",
       "..         ...                                                ...   \n",
       "95         910                              meh                     \n",
       "96         227  Feel so sorry for Xbox players  Maybe 5 years ...   \n",
       "97        1082  Original thought provoking moving and sometime...   \n",
       "98         513  bruh I knew they were lying about fable       ...   \n",
       "99         754            OBSIDIAN CAME TO PLAY                     \n",
       "\n",
       "   Sentiment - TTB Sentiment - TCTB Sentiment - TVD Sentiment - TCVD  \\\n",
       "0          Neutral          Neutral        Negative         Negative   \n",
       "1          Neutral         Negative        Positive         Positive   \n",
       "2         Positive         Positive         Neutral          Neutral   \n",
       "3         Positive         Positive        Negative         Negative   \n",
       "4          Neutral          Neutral        Positive         Positive   \n",
       "..             ...              ...             ...              ...   \n",
       "95         Neutral          Neutral        Negative         Negative   \n",
       "96        Positive         Positive        Negative         Positive   \n",
       "97        Negative         Negative        Positive         Positive   \n",
       "98         Neutral          Neutral        Negative          Neutral   \n",
       "99         Neutral          Neutral        Positive         Positive   \n",
       "\n",
       "   True sentiment  \n",
       "0         Neutral  \n",
       "1        Positive  \n",
       "2         Neutral  \n",
       "3        Negative  \n",
       "4         Neutral  \n",
       "..            ...  \n",
       "95       Negative  \n",
       "96       Negative  \n",
       "97       Negative  \n",
       "98       Negative  \n",
       "99       Positive  \n",
       "\n",
       "[100 rows x 7 columns]"
      ]
     },
     "execution_count": 76,
     "metadata": {},
     "output_type": "execute_result"
    }
   ],
   "source": [
    "comparison_checked"
   ]
  },
  {
   "cell_type": "code",
   "execution_count": 77,
   "metadata": {},
   "outputs": [],
   "source": [
    "for j in ['Sentiment - TTB', 'Sentiment - TCTB', 'Sentiment - TVD', 'Sentiment - TCVD']:\n",
    "    for i in range(0, len(comparison_checked)):\n",
    "        if comparison_checked[j].loc[i] == comparison_checked['True sentiment'].loc[i]:\n",
    "            comparison_checked[j].loc[i] = 1\n",
    "        else:\n",
    "            comparison_checked[j].loc[i] = 0"
   ]
  },
  {
   "cell_type": "code",
   "execution_count": 78,
   "metadata": {},
   "outputs": [
    {
     "data": {
      "text/html": [
       "<div>\n",
       "<style scoped>\n",
       "    .dataframe tbody tr th:only-of-type {\n",
       "        vertical-align: middle;\n",
       "    }\n",
       "\n",
       "    .dataframe tbody tr th {\n",
       "        vertical-align: top;\n",
       "    }\n",
       "\n",
       "    .dataframe thead th {\n",
       "        text-align: right;\n",
       "    }\n",
       "</style>\n",
       "<table border=\"1\" class=\"dataframe\">\n",
       "  <thead>\n",
       "    <tr style=\"text-align: right;\">\n",
       "      <th></th>\n",
       "      <th>Unnamed: 0</th>\n",
       "      <th>Text</th>\n",
       "      <th>Sentiment - TTB</th>\n",
       "      <th>Sentiment - TCTB</th>\n",
       "      <th>Sentiment - TVD</th>\n",
       "      <th>Sentiment - TCVD</th>\n",
       "      <th>True sentiment</th>\n",
       "    </tr>\n",
       "  </thead>\n",
       "  <tbody>\n",
       "    <tr>\n",
       "      <td>0</td>\n",
       "      <td>834</td>\n",
       "      <td>the people who are complaining about halo grap...</td>\n",
       "      <td>1</td>\n",
       "      <td>1</td>\n",
       "      <td>0</td>\n",
       "      <td>0</td>\n",
       "      <td>Neutral</td>\n",
       "    </tr>\n",
       "    <tr>\n",
       "      <td>1</td>\n",
       "      <td>437</td>\n",
       "      <td>It was ok but Ill save my judgement until thes...</td>\n",
       "      <td>0</td>\n",
       "      <td>0</td>\n",
       "      <td>1</td>\n",
       "      <td>1</td>\n",
       "      <td>Positive</td>\n",
       "    </tr>\n",
       "    <tr>\n",
       "      <td>2</td>\n",
       "      <td>881</td>\n",
       "      <td>Tell me why My thoughts exactly</td>\n",
       "      <td>0</td>\n",
       "      <td>0</td>\n",
       "      <td>1</td>\n",
       "      <td>1</td>\n",
       "      <td>Neutral</td>\n",
       "    </tr>\n",
       "    <tr>\n",
       "      <td>3</td>\n",
       "      <td>44</td>\n",
       "      <td>Nothing really interested me enough to switch ...</td>\n",
       "      <td>0</td>\n",
       "      <td>0</td>\n",
       "      <td>1</td>\n",
       "      <td>1</td>\n",
       "      <td>Negative</td>\n",
       "    </tr>\n",
       "    <tr>\n",
       "      <td>4</td>\n",
       "      <td>381</td>\n",
       "      <td>Well Im Soaked</td>\n",
       "      <td>1</td>\n",
       "      <td>1</td>\n",
       "      <td>0</td>\n",
       "      <td>0</td>\n",
       "      <td>Neutral</td>\n",
       "    </tr>\n",
       "    <tr>\n",
       "      <td>...</td>\n",
       "      <td>...</td>\n",
       "      <td>...</td>\n",
       "      <td>...</td>\n",
       "      <td>...</td>\n",
       "      <td>...</td>\n",
       "      <td>...</td>\n",
       "      <td>...</td>\n",
       "    </tr>\n",
       "    <tr>\n",
       "      <td>95</td>\n",
       "      <td>910</td>\n",
       "      <td>meh</td>\n",
       "      <td>0</td>\n",
       "      <td>0</td>\n",
       "      <td>1</td>\n",
       "      <td>1</td>\n",
       "      <td>Negative</td>\n",
       "    </tr>\n",
       "    <tr>\n",
       "      <td>96</td>\n",
       "      <td>227</td>\n",
       "      <td>Feel so sorry for Xbox players  Maybe 5 years ...</td>\n",
       "      <td>0</td>\n",
       "      <td>0</td>\n",
       "      <td>1</td>\n",
       "      <td>0</td>\n",
       "      <td>Negative</td>\n",
       "    </tr>\n",
       "    <tr>\n",
       "      <td>97</td>\n",
       "      <td>1082</td>\n",
       "      <td>Original thought provoking moving and sometime...</td>\n",
       "      <td>1</td>\n",
       "      <td>1</td>\n",
       "      <td>0</td>\n",
       "      <td>0</td>\n",
       "      <td>Negative</td>\n",
       "    </tr>\n",
       "    <tr>\n",
       "      <td>98</td>\n",
       "      <td>513</td>\n",
       "      <td>bruh I knew they were lying about fable       ...</td>\n",
       "      <td>0</td>\n",
       "      <td>0</td>\n",
       "      <td>1</td>\n",
       "      <td>0</td>\n",
       "      <td>Negative</td>\n",
       "    </tr>\n",
       "    <tr>\n",
       "      <td>99</td>\n",
       "      <td>754</td>\n",
       "      <td>OBSIDIAN CAME TO PLAY</td>\n",
       "      <td>0</td>\n",
       "      <td>0</td>\n",
       "      <td>1</td>\n",
       "      <td>1</td>\n",
       "      <td>Positive</td>\n",
       "    </tr>\n",
       "  </tbody>\n",
       "</table>\n",
       "<p>100 rows × 7 columns</p>\n",
       "</div>"
      ],
      "text/plain": [
       "    Unnamed: 0                                               Text  \\\n",
       "0          834  the people who are complaining about halo grap...   \n",
       "1          437  It was ok but Ill save my judgement until thes...   \n",
       "2          881  Tell me why My thoughts exactly                     \n",
       "3           44  Nothing really interested me enough to switch ...   \n",
       "4          381                   Well Im Soaked                     \n",
       "..         ...                                                ...   \n",
       "95         910                              meh                     \n",
       "96         227  Feel so sorry for Xbox players  Maybe 5 years ...   \n",
       "97        1082  Original thought provoking moving and sometime...   \n",
       "98         513  bruh I knew they were lying about fable       ...   \n",
       "99         754            OBSIDIAN CAME TO PLAY                     \n",
       "\n",
       "    Sentiment - TTB  Sentiment - TCTB  Sentiment - TVD  Sentiment - TCVD  \\\n",
       "0                 1                 1                0                 0   \n",
       "1                 0                 0                1                 1   \n",
       "2                 0                 0                1                 1   \n",
       "3                 0                 0                1                 1   \n",
       "4                 1                 1                0                 0   \n",
       "..              ...               ...              ...               ...   \n",
       "95                0                 0                1                 1   \n",
       "96                0                 0                1                 0   \n",
       "97                1                 1                0                 0   \n",
       "98                0                 0                1                 0   \n",
       "99                0                 0                1                 1   \n",
       "\n",
       "   True sentiment  \n",
       "0         Neutral  \n",
       "1        Positive  \n",
       "2         Neutral  \n",
       "3        Negative  \n",
       "4         Neutral  \n",
       "..            ...  \n",
       "95       Negative  \n",
       "96       Negative  \n",
       "97       Negative  \n",
       "98       Negative  \n",
       "99       Positive  \n",
       "\n",
       "[100 rows x 7 columns]"
      ]
     },
     "execution_count": 78,
     "metadata": {},
     "output_type": "execute_result"
    }
   ],
   "source": [
    "comparison_checked"
   ]
  },
  {
   "cell_type": "code",
   "execution_count": 79,
   "metadata": {},
   "outputs": [
    {
     "name": "stdout",
     "output_type": "stream",
     "text": [
      "30% of sentiment predictions were correct for \"Text\" and TextBlob.\n",
      "32% of sentiment predictions were correct for \"Text clean\" and TextBlob.\n",
      "57% of sentiment predictions were correct for \"Text\" and VADER.\n",
      "52% of sentiment predictions were correct for \"Text clean\" and VADER.\n"
     ]
    }
   ],
   "source": [
    "print(\"{0:.0%}\".format(sum(comparison_checked['Sentiment - TTB'])/len(comparison_checked)),'of sentiment predictions were correct for \"Text\" and TextBlob.')\n",
    "print(\"{0:.0%}\".format(sum(comparison_checked['Sentiment - TCTB'])/len(comparison_checked)),'of sentiment predictions were correct for \"Text clean\" and TextBlob.')\n",
    "print(\"{0:.0%}\".format(sum(comparison_checked['Sentiment - TVD'])/len(comparison_checked)),'of sentiment predictions were correct for \"Text\" and VADER.')\n",
    "print(\"{0:.0%}\".format(sum(comparison_checked['Sentiment - TCVD'])/len(comparison_checked)),'of sentiment predictions were correct for \"Text clean\" and VADER.')"
   ]
  },
  {
   "cell_type": "markdown",
   "metadata": {},
   "source": [
    "Ok so we have interesting insights. It looks like VADER is way more efficient than TextBlob on this dataset.\n",
    "Besides, this library performed better with the raw comments (i.e. without extra cleaning steps).\n",
    "\n",
    "One could say 57% is a low accuracy but I am quite happy with that score knowing that these two libraries are not based on Machine Learning. They are mapping keywords with a fixed sentiment score. Moreover, YouTube comments are not the cleanest texts, people usually speak in a familiar way.\n",
    "\n",
    "**Let's use VADER with the raw comments for our sentiment analysis.**"
   ]
  },
  {
   "cell_type": "markdown",
   "metadata": {},
   "source": [
    "#### *Final sentiment analysis*"
   ]
  },
  {
   "cell_type": "code",
   "execution_count": 80,
   "metadata": {},
   "outputs": [],
   "source": [
    "Xbox_data_sentiment = Xbox_data[['Date','Hour','Text','Sentiment - TVD']]"
   ]
  },
  {
   "cell_type": "code",
   "execution_count": 81,
   "metadata": {},
   "outputs": [
    {
     "data": {
      "text/plain": [
       "Neutral     1029\n",
       "Positive     995\n",
       "Negative     458\n",
       "Name: Sentiment - TVD, dtype: int64"
      ]
     },
     "execution_count": 81,
     "metadata": {},
     "output_type": "execute_result"
    }
   ],
   "source": [
    "Xbox_data_sentiment['Sentiment - TVD'].value_counts()"
   ]
  },
  {
   "cell_type": "code",
   "execution_count": 82,
   "metadata": {},
   "outputs": [
    {
     "data": {
      "text/plain": [
       "0.6847900894700619"
      ]
     },
     "execution_count": 82,
     "metadata": {},
     "output_type": "execute_result"
    }
   ],
   "source": [
    "len(Xbox_data_sentiment[Xbox_data_sentiment['Sentiment - TVD']=='Positive'])/(len(Xbox_data_sentiment[Xbox_data_sentiment['Sentiment - TVD']=='Positive'])+len(Xbox_data_sentiment[Xbox_data_sentiment['Sentiment - TVD']=='Negative']))"
   ]
  },
  {
   "cell_type": "code",
   "execution_count": 83,
   "metadata": {},
   "outputs": [
    {
     "name": "stdout",
     "output_type": "stream",
     "text": [
      "40% of Xbox YouTube comments are positive.\n",
      "41% of Xbox YouTube comments are neutral.\n",
      "18% of Xbox YouTube comments are negative.\n"
     ]
    }
   ],
   "source": [
    "print(\"{0:.0%}\".format(len(Xbox_data_sentiment[Xbox_data_sentiment['Sentiment - TVD']=='Positive'])/len(Xbox_data_sentiment)),'of Xbox YouTube comments are positive.')\n",
    "print(\"{0:.0%}\".format(len(Xbox_data_sentiment[Xbox_data_sentiment['Sentiment - TVD']=='Neutral'])/len(Xbox_data_sentiment)),'of Xbox YouTube comments are neutral.')\n",
    "print(\"{0:.0%}\".format(len(Xbox_data_sentiment[Xbox_data_sentiment['Sentiment - TVD']=='Negative'])/len(Xbox_data_sentiment)),'of Xbox YouTube comments are negative.')"
   ]
  },
  {
   "cell_type": "markdown",
   "metadata": {},
   "source": [
    "### PS5"
   ]
  },
  {
   "cell_type": "markdown",
   "metadata": {},
   "source": [
    "**For PS5 we will use the analysis we have done for Xbox. Therefore we will directly use VADER with the raw comments for our sentiment analysis.**"
   ]
  },
  {
   "cell_type": "code",
   "execution_count": 84,
   "metadata": {},
   "outputs": [],
   "source": [
    "sia = SentimentIntensityAnalyzer()"
   ]
  },
  {
   "cell_type": "code",
   "execution_count": 85,
   "metadata": {},
   "outputs": [
    {
     "data": {
      "text/html": [
       "<div>\n",
       "<style scoped>\n",
       "    .dataframe tbody tr th:only-of-type {\n",
       "        vertical-align: middle;\n",
       "    }\n",
       "\n",
       "    .dataframe tbody tr th {\n",
       "        vertical-align: top;\n",
       "    }\n",
       "\n",
       "    .dataframe thead th {\n",
       "        text-align: right;\n",
       "    }\n",
       "</style>\n",
       "<table border=\"1\" class=\"dataframe\">\n",
       "  <thead>\n",
       "    <tr style=\"text-align: right;\">\n",
       "      <th></th>\n",
       "      <th>Date</th>\n",
       "      <th>Hour</th>\n",
       "      <th>Text</th>\n",
       "      <th>Text with games</th>\n",
       "      <th>Text clean</th>\n",
       "    </tr>\n",
       "  </thead>\n",
       "  <tbody>\n",
       "    <tr>\n",
       "      <td>0</td>\n",
       "      <td>2020-09-16</td>\n",
       "      <td>20:53:34</td>\n",
       "      <td>hello</td>\n",
       "      <td>Hello</td>\n",
       "      <td>hello</td>\n",
       "    </tr>\n",
       "    <tr>\n",
       "      <td>1</td>\n",
       "      <td>2020-09-16</td>\n",
       "      <td>20:53:38</td>\n",
       "      <td>hyped</td>\n",
       "      <td>HYPED</td>\n",
       "      <td>hyped</td>\n",
       "    </tr>\n",
       "    <tr>\n",
       "      <td>2</td>\n",
       "      <td>2020-09-16</td>\n",
       "      <td>20:53:40</td>\n",
       "      <td>hi</td>\n",
       "      <td>Hi</td>\n",
       "      <td>hi</td>\n",
       "    </tr>\n",
       "    <tr>\n",
       "      <td>3</td>\n",
       "      <td>2020-09-16</td>\n",
       "      <td>20:53:41</td>\n",
       "      <td></td>\n",
       "      <td></td>\n",
       "      <td></td>\n",
       "    </tr>\n",
       "    <tr>\n",
       "      <td>4</td>\n",
       "      <td>2020-09-16</td>\n",
       "      <td>20:53:42</td>\n",
       "      <td>lets gooo</td>\n",
       "      <td>LETS GOOO</td>\n",
       "      <td>let gooo</td>\n",
       "    </tr>\n",
       "  </tbody>\n",
       "</table>\n",
       "</div>"
      ],
      "text/plain": [
       "          Date      Hour       Text Text with games Text clean\n",
       "0  2020-09-16   20:53:34      hello           Hello      hello\n",
       "1  2020-09-16   20:53:38      hyped           HYPED      hyped\n",
       "2  2020-09-16   20:53:40         hi              Hi         hi\n",
       "3  2020-09-16   20:53:41                                      \n",
       "4  2020-09-16   20:53:42  lets gooo       LETS GOOO   let gooo"
      ]
     },
     "execution_count": 85,
     "metadata": {},
     "output_type": "execute_result"
    }
   ],
   "source": [
    "PS5_data.head()"
   ]
  },
  {
   "cell_type": "code",
   "execution_count": 86,
   "metadata": {},
   "outputs": [],
   "source": [
    "PS5_data['Sentiment scores - TVD'] = PS5_data['Text'].apply(get_sentiment)"
   ]
  },
  {
   "cell_type": "code",
   "execution_count": 87,
   "metadata": {},
   "outputs": [],
   "source": [
    "PS5_data['Compound - TVD'] = PS5_data['Sentiment scores - TVD'].apply(lambda score_dict: score_dict['compound'])"
   ]
  },
  {
   "cell_type": "code",
   "execution_count": 88,
   "metadata": {},
   "outputs": [],
   "source": [
    "PS5_data['Sentiment - TVD'] = PS5_data['Compound - TVD'].apply(sentiment_class)"
   ]
  },
  {
   "cell_type": "code",
   "execution_count": 89,
   "metadata": {},
   "outputs": [],
   "source": [
    "PS5_data_sentiment = PS5_data[['Date','Hour','Text','Sentiment - TVD']]"
   ]
  },
  {
   "cell_type": "code",
   "execution_count": 90,
   "metadata": {},
   "outputs": [
    {
     "data": {
      "text/plain": [
       "Neutral     3713\n",
       "Positive    2773\n",
       "Negative    1206\n",
       "Name: Sentiment - TVD, dtype: int64"
      ]
     },
     "execution_count": 90,
     "metadata": {},
     "output_type": "execute_result"
    }
   ],
   "source": [
    "PS5_data_sentiment['Sentiment - TVD'].value_counts()"
   ]
  },
  {
   "cell_type": "code",
   "execution_count": 91,
   "metadata": {},
   "outputs": [
    {
     "data": {
      "text/plain": [
       "0.696908771048002"
      ]
     },
     "execution_count": 91,
     "metadata": {},
     "output_type": "execute_result"
    }
   ],
   "source": [
    "len(PS5_data_sentiment[PS5_data_sentiment['Sentiment - TVD']=='Positive'])/(len(PS5_data_sentiment[PS5_data_sentiment['Sentiment - TVD']=='Positive'])+len(PS5_data_sentiment[PS5_data_sentiment['Sentiment - TVD']=='Negative']))"
   ]
  },
  {
   "cell_type": "code",
   "execution_count": 92,
   "metadata": {},
   "outputs": [
    {
     "name": "stdout",
     "output_type": "stream",
     "text": [
      "36% of PS5 YouTube comments are positive.\n",
      "48% of PS5 YouTube comments are neutral.\n",
      "16% of PS5 YouTube comments are negative.\n"
     ]
    }
   ],
   "source": [
    "print(\"{0:.0%}\".format(len(PS5_data_sentiment[PS5_data_sentiment['Sentiment - TVD']=='Positive'])/len(PS5_data_sentiment)),'of PS5 YouTube comments are positive.')\n",
    "print(\"{0:.0%}\".format(len(PS5_data_sentiment[PS5_data_sentiment['Sentiment - TVD']=='Neutral'])/len(PS5_data_sentiment)),'of PS5 YouTube comments are neutral.')\n",
    "print(\"{0:.0%}\".format(len(PS5_data_sentiment[PS5_data_sentiment['Sentiment - TVD']=='Negative'])/len(PS5_data_sentiment)),'of PS5 YouTube comments are negative.')"
   ]
  },
  {
   "cell_type": "code",
   "execution_count": 93,
   "metadata": {},
   "outputs": [
    {
     "data": {
      "text/html": [
       "<div>\n",
       "<style scoped>\n",
       "    .dataframe tbody tr th:only-of-type {\n",
       "        vertical-align: middle;\n",
       "    }\n",
       "\n",
       "    .dataframe tbody tr th {\n",
       "        vertical-align: top;\n",
       "    }\n",
       "\n",
       "    .dataframe thead th {\n",
       "        text-align: right;\n",
       "    }\n",
       "</style>\n",
       "<table border=\"1\" class=\"dataframe\">\n",
       "  <thead>\n",
       "    <tr style=\"text-align: right;\">\n",
       "      <th></th>\n",
       "      <th>Date</th>\n",
       "      <th>Hour</th>\n",
       "      <th>Text</th>\n",
       "      <th>Text with games</th>\n",
       "      <th>Text clean</th>\n",
       "      <th>Sentiment scores - TVD</th>\n",
       "      <th>Compound - TVD</th>\n",
       "      <th>Sentiment - TVD</th>\n",
       "    </tr>\n",
       "  </thead>\n",
       "  <tbody>\n",
       "    <tr>\n",
       "      <td>26</td>\n",
       "      <td>2020-09-16</td>\n",
       "      <td>20:53:52</td>\n",
       "      <td>xbox loss</td>\n",
       "      <td>Xbox loss</td>\n",
       "      <td>xbox loss</td>\n",
       "      <td>{'neg': 0.697, 'neu': 0.303, 'pos': 0.0, 'comp...</td>\n",
       "      <td>-0.3182</td>\n",
       "      <td>Negative</td>\n",
       "    </tr>\n",
       "    <tr>\n",
       "      <td>62</td>\n",
       "      <td>2020-09-16</td>\n",
       "      <td>20:55:41</td>\n",
       "      <td>and the  2 losers</td>\n",
       "      <td>And the FOrtNiTe 2 losers</td>\n",
       "      <td>2 loser</td>\n",
       "      <td>{'neg': 0.63, 'neu': 0.37, 'pos': 0.0, 'compou...</td>\n",
       "      <td>-0.5267</td>\n",
       "      <td>Negative</td>\n",
       "    </tr>\n",
       "    <tr>\n",
       "      <td>80</td>\n",
       "      <td>2020-09-16</td>\n",
       "      <td>21:06:45</td>\n",
       "      <td>almutairi your pathetic</td>\n",
       "      <td>Almutairi your pathetic</td>\n",
       "      <td>almutairi pathetic</td>\n",
       "      <td>{'neg': 0.649, 'neu': 0.351, 'pos': 0.0, 'comp...</td>\n",
       "      <td>-0.5719</td>\n",
       "      <td>Negative</td>\n",
       "    </tr>\n",
       "    <tr>\n",
       "      <td>81</td>\n",
       "      <td>2020-09-16</td>\n",
       "      <td>21:06:52</td>\n",
       "      <td>rift silentorb and fornite bad degenerates</td>\n",
       "      <td>Rift SilentOrb and fornite bad Degenerates</td>\n",
       "      <td>rift silentorb fornite bad degenerate</td>\n",
       "      <td>{'neg': 0.412, 'neu': 0.588, 'pos': 0.0, 'comp...</td>\n",
       "      <td>-0.5423</td>\n",
       "      <td>Negative</td>\n",
       "    </tr>\n",
       "    <tr>\n",
       "      <td>82</td>\n",
       "      <td>2020-09-16</td>\n",
       "      <td>21:11:16</td>\n",
       "      <td>almutairi pathetic</td>\n",
       "      <td>Almutairi pathetic</td>\n",
       "      <td>almutairi pathetic</td>\n",
       "      <td>{'neg': 0.787, 'neu': 0.213, 'pos': 0.0, 'comp...</td>\n",
       "      <td>-0.5719</td>\n",
       "      <td>Negative</td>\n",
       "    </tr>\n",
       "    <tr>\n",
       "      <td>...</td>\n",
       "      <td>...</td>\n",
       "      <td>...</td>\n",
       "      <td>...</td>\n",
       "      <td>...</td>\n",
       "      <td>...</td>\n",
       "      <td>...</td>\n",
       "      <td>...</td>\n",
       "      <td>...</td>\n",
       "    </tr>\n",
       "    <tr>\n",
       "      <td>7657</td>\n",
       "      <td>2020-10-10</td>\n",
       "      <td>18:13:10</td>\n",
       "      <td>i want the playstation 5 so bad</td>\n",
       "      <td>I want the PlayStation 5 so bad</td>\n",
       "      <td>want playstation 5 bad</td>\n",
       "      <td>{'neg': 0.511, 'neu': 0.341, 'pos': 0.148, 'co...</td>\n",
       "      <td>-0.6359</td>\n",
       "      <td>Negative</td>\n",
       "    </tr>\n",
       "    <tr>\n",
       "      <td>7658</td>\n",
       "      <td>2020-10-10</td>\n",
       "      <td>19:14:27</td>\n",
       "      <td>i want a woman so bad</td>\n",
       "      <td>I want a woman so bad</td>\n",
       "      <td>want woman bad</td>\n",
       "      <td>{'neg': 0.535, 'neu': 0.282, 'pos': 0.183, 'co...</td>\n",
       "      <td>-0.5413</td>\n",
       "      <td>Negative</td>\n",
       "    </tr>\n",
       "    <tr>\n",
       "      <td>7661</td>\n",
       "      <td>2020-10-12</td>\n",
       "      <td>12:32:34</td>\n",
       "      <td>ffxv was a bust gonna have to wait for reviews...</td>\n",
       "      <td>FFXV was a bust gonna have to wait for reviews...</td>\n",
       "      <td>ffxv bust gon na wait review drop money xxvi</td>\n",
       "      <td>{'neg': 0.139, 'neu': 0.861, 'pos': 0.0, 'comp...</td>\n",
       "      <td>-0.2732</td>\n",
       "      <td>Negative</td>\n",
       "    </tr>\n",
       "    <tr>\n",
       "      <td>7668</td>\n",
       "      <td>2020-10-14</td>\n",
       "      <td>17:05:48</td>\n",
       "      <td>why is this age restricted</td>\n",
       "      <td>Why is this age restricted</td>\n",
       "      <td>age restrict</td>\n",
       "      <td>{'neg': 0.394, 'neu': 0.606, 'pos': 0.0, 'comp...</td>\n",
       "      <td>-0.3818</td>\n",
       "      <td>Negative</td>\n",
       "    </tr>\n",
       "    <tr>\n",
       "      <td>7689</td>\n",
       "      <td>2020-10-27</td>\n",
       "      <td>13:50:52</td>\n",
       "      <td>i cried due to 18 live</td>\n",
       "      <td>I cried due to 18 live</td>\n",
       "      <td>cry due 18 live</td>\n",
       "      <td>{'neg': 0.394, 'neu': 0.606, 'pos': 0.0, 'comp...</td>\n",
       "      <td>-0.3818</td>\n",
       "      <td>Negative</td>\n",
       "    </tr>\n",
       "  </tbody>\n",
       "</table>\n",
       "<p>1206 rows × 8 columns</p>\n",
       "</div>"
      ],
      "text/plain": [
       "             Date      Hour  \\\n",
       "26    2020-09-16   20:53:52   \n",
       "62    2020-09-16   20:55:41   \n",
       "80    2020-09-16   21:06:45   \n",
       "81    2020-09-16   21:06:52   \n",
       "82    2020-09-16   21:11:16   \n",
       "...           ...       ...   \n",
       "7657  2020-10-10   18:13:10   \n",
       "7658  2020-10-10   19:14:27   \n",
       "7661  2020-10-12   12:32:34   \n",
       "7668  2020-10-14   17:05:48   \n",
       "7689  2020-10-27   13:50:52   \n",
       "\n",
       "                                                   Text  \\\n",
       "26                                            xbox loss   \n",
       "62                                    and the  2 losers   \n",
       "80                             almutairi your pathetic    \n",
       "81           rift silentorb and fornite bad degenerates   \n",
       "82                                   almutairi pathetic   \n",
       "...                                                 ...   \n",
       "7657                    i want the playstation 5 so bad   \n",
       "7658                              i want a woman so bad   \n",
       "7661  ffxv was a bust gonna have to wait for reviews...   \n",
       "7668                         why is this age restricted   \n",
       "7689                             i cried due to 18 live   \n",
       "\n",
       "                                        Text with games  \\\n",
       "26                                            Xbox loss   \n",
       "62                            And the FOrtNiTe 2 losers   \n",
       "80                             Almutairi your pathetic    \n",
       "81           Rift SilentOrb and fornite bad Degenerates   \n",
       "82                                   Almutairi pathetic   \n",
       "...                                                 ...   \n",
       "7657                    I want the PlayStation 5 so bad   \n",
       "7658                              I want a woman so bad   \n",
       "7661  FFXV was a bust gonna have to wait for reviews...   \n",
       "7668                         Why is this age restricted   \n",
       "7689                             I cried due to 18 live   \n",
       "\n",
       "                                        Text clean  \\\n",
       "26                                       xbox loss   \n",
       "62                                         2 loser   \n",
       "80                              almutairi pathetic   \n",
       "81           rift silentorb fornite bad degenerate   \n",
       "82                              almutairi pathetic   \n",
       "...                                            ...   \n",
       "7657                        want playstation 5 bad   \n",
       "7658                                want woman bad   \n",
       "7661  ffxv bust gon na wait review drop money xxvi   \n",
       "7668                                  age restrict   \n",
       "7689                               cry due 18 live   \n",
       "\n",
       "                                 Sentiment scores - TVD  Compound - TVD  \\\n",
       "26    {'neg': 0.697, 'neu': 0.303, 'pos': 0.0, 'comp...         -0.3182   \n",
       "62    {'neg': 0.63, 'neu': 0.37, 'pos': 0.0, 'compou...         -0.5267   \n",
       "80    {'neg': 0.649, 'neu': 0.351, 'pos': 0.0, 'comp...         -0.5719   \n",
       "81    {'neg': 0.412, 'neu': 0.588, 'pos': 0.0, 'comp...         -0.5423   \n",
       "82    {'neg': 0.787, 'neu': 0.213, 'pos': 0.0, 'comp...         -0.5719   \n",
       "...                                                 ...             ...   \n",
       "7657  {'neg': 0.511, 'neu': 0.341, 'pos': 0.148, 'co...         -0.6359   \n",
       "7658  {'neg': 0.535, 'neu': 0.282, 'pos': 0.183, 'co...         -0.5413   \n",
       "7661  {'neg': 0.139, 'neu': 0.861, 'pos': 0.0, 'comp...         -0.2732   \n",
       "7668  {'neg': 0.394, 'neu': 0.606, 'pos': 0.0, 'comp...         -0.3818   \n",
       "7689  {'neg': 0.394, 'neu': 0.606, 'pos': 0.0, 'comp...         -0.3818   \n",
       "\n",
       "     Sentiment - TVD  \n",
       "26          Negative  \n",
       "62          Negative  \n",
       "80          Negative  \n",
       "81          Negative  \n",
       "82          Negative  \n",
       "...              ...  \n",
       "7657        Negative  \n",
       "7658        Negative  \n",
       "7661        Negative  \n",
       "7668        Negative  \n",
       "7689        Negative  \n",
       "\n",
       "[1206 rows x 8 columns]"
      ]
     },
     "execution_count": 93,
     "metadata": {},
     "output_type": "execute_result"
    }
   ],
   "source": [
    "PS5_data[PS5_data['Sentiment - TVD']=='Negative']"
   ]
  },
  {
   "cell_type": "markdown",
   "metadata": {},
   "source": [
    "# Most discussed games"
   ]
  },
  {
   "cell_type": "markdown",
   "metadata": {},
   "source": [
    "### Xbox"
   ]
  },
  {
   "cell_type": "markdown",
   "metadata": {},
   "source": [
    "I will use the list of the games featured at each showcase. Then isolate these games in the YouTube comments to determine which games were the most discussed by brand."
   ]
  },
  {
   "cell_type": "code",
   "execution_count": 94,
   "metadata": {},
   "outputs": [],
   "source": [
    "Xbox_games_dict = {'Halo':'Halo Infinite, Halo',\n",
    "                  'State of Decay 3':'State of Decay 3, State of Decay, SOD, SOD3',\n",
    "                  'Forza Motorsport':'Forza Motorsport, Forza, Motorsport',\n",
    "                  'Everwild':'Everwild, Ever wild',\n",
    "                  'Tell Me Why':'Tell Me Why, TMW',\n",
    "                  'Outer Worlds: Peril on Gorgon':'Outer Worlds Peril on Gorgon, Outer Worlds, Peril on Gorgon, OWPG',\n",
    "                  'Grounded':'Grounded',\n",
    "                  'Avowed':'Avowed',\n",
    "                  'As Dusk Falls':'As Dusk Falls, Dusk Falls, Dusk',\n",
    "                  'Hellblade 2':'Hellblade 2, Hellblade, Hell blade',\n",
    "                  'Psychonauts 2':'Psychonauts 2, Psychonauts, Pyschonauts',\n",
    "                  'S.T.A.L.K.E.R. 2':'S.T.A.L.K.E.R. 2, Stalker 2, Stalker',\n",
    "                  'Warhammer 40,000: Darktide':'Warhammer 40000 Darktide, Warhammer, War hammer',\n",
    "                  'The Gunk':'The Gunk, Gunk',\n",
    "                  'The Medium':'The Medium',\n",
    "                  'Phantasy Star Online 2 New Genesis':'Phantasy Star Online 2 New Genesis, Phantasy Star, New Genesis, PSONG, PSO2, PSO2NG',\n",
    "                  'Crossfire X':'Crossfire X, Crossfire, Cross fire',\n",
    "                  'Fable 4':'Fable 4, Fable IV, Fable'}"
   ]
  },
  {
   "cell_type": "code",
   "execution_count": 95,
   "metadata": {},
   "outputs": [],
   "source": [
    "Xbox_data_games = pd.DataFrame(Xbox_data[['Text with games','Sentiment - TVD']])"
   ]
  },
  {
   "cell_type": "code",
   "execution_count": 96,
   "metadata": {},
   "outputs": [
    {
     "data": {
      "text/html": [
       "<div>\n",
       "<style scoped>\n",
       "    .dataframe tbody tr th:only-of-type {\n",
       "        vertical-align: middle;\n",
       "    }\n",
       "\n",
       "    .dataframe tbody tr th {\n",
       "        vertical-align: top;\n",
       "    }\n",
       "\n",
       "    .dataframe thead th {\n",
       "        text-align: right;\n",
       "    }\n",
       "</style>\n",
       "<table border=\"1\" class=\"dataframe\">\n",
       "  <thead>\n",
       "    <tr style=\"text-align: right;\">\n",
       "      <th></th>\n",
       "      <th>Text with games</th>\n",
       "      <th>Sentiment - TVD</th>\n",
       "    </tr>\n",
       "  </thead>\n",
       "  <tbody>\n",
       "    <tr>\n",
       "      <td>0</td>\n",
       "      <td>First</td>\n",
       "      <td>Neutral</td>\n",
       "    </tr>\n",
       "    <tr>\n",
       "      <td>1</td>\n",
       "      <td>bad</td>\n",
       "      <td>Negative</td>\n",
       "    </tr>\n",
       "    <tr>\n",
       "      <td>2</td>\n",
       "      <td>First</td>\n",
       "      <td>Neutral</td>\n",
       "    </tr>\n",
       "    <tr>\n",
       "      <td>3</td>\n",
       "      <td>First comment</td>\n",
       "      <td>Neutral</td>\n",
       "    </tr>\n",
       "    <tr>\n",
       "      <td>4</td>\n",
       "      <td>Hello</td>\n",
       "      <td>Neutral</td>\n",
       "    </tr>\n",
       "  </tbody>\n",
       "</table>\n",
       "</div>"
      ],
      "text/plain": [
       "  Text with games Sentiment - TVD\n",
       "0           First         Neutral\n",
       "1             bad        Negative\n",
       "2           First         Neutral\n",
       "3   First comment         Neutral\n",
       "4           Hello         Neutral"
      ]
     },
     "execution_count": 96,
     "metadata": {},
     "output_type": "execute_result"
    }
   ],
   "source": [
    "Xbox_data_games.head()"
   ]
  },
  {
   "cell_type": "code",
   "execution_count": 97,
   "metadata": {},
   "outputs": [],
   "source": [
    "#Initializing new columns for each game\n",
    "for k in list(Xbox_games_dict):\n",
    "    Xbox_data_games[k]=''"
   ]
  },
  {
   "cell_type": "code",
   "execution_count": 98,
   "metadata": {},
   "outputs": [],
   "source": [
    "for i in range(0,len(Xbox_data_games)):\n",
    "    for j in list(Xbox_games_dict):\n",
    "        if any(word.lower() in Xbox_data_games['Text with games'].loc[i].lower() for word in Xbox_games_dict[j].split(', ')):\n",
    "            Xbox_data_games[j].loc[i] = 1\n",
    "        else:\n",
    "            Xbox_data_games[j].loc[i] = 0"
   ]
  },
  {
   "cell_type": "code",
   "execution_count": 99,
   "metadata": {},
   "outputs": [
    {
     "data": {
      "text/html": [
       "<div>\n",
       "<style scoped>\n",
       "    .dataframe tbody tr th:only-of-type {\n",
       "        vertical-align: middle;\n",
       "    }\n",
       "\n",
       "    .dataframe tbody tr th {\n",
       "        vertical-align: top;\n",
       "    }\n",
       "\n",
       "    .dataframe thead th {\n",
       "        text-align: right;\n",
       "    }\n",
       "</style>\n",
       "<table border=\"1\" class=\"dataframe\">\n",
       "  <thead>\n",
       "    <tr style=\"text-align: right;\">\n",
       "      <th></th>\n",
       "      <th>Text with games</th>\n",
       "      <th>Sentiment - TVD</th>\n",
       "      <th>Halo</th>\n",
       "      <th>State of Decay 3</th>\n",
       "      <th>Forza Motorsport</th>\n",
       "      <th>Everwild</th>\n",
       "      <th>Tell Me Why</th>\n",
       "      <th>Outer Worlds: Peril on Gorgon</th>\n",
       "      <th>Grounded</th>\n",
       "      <th>Avowed</th>\n",
       "      <th>As Dusk Falls</th>\n",
       "      <th>Hellblade 2</th>\n",
       "      <th>Psychonauts 2</th>\n",
       "      <th>S.T.A.L.K.E.R. 2</th>\n",
       "      <th>Warhammer 40,000: Darktide</th>\n",
       "      <th>The Gunk</th>\n",
       "      <th>The Medium</th>\n",
       "      <th>Phantasy Star Online 2 New Genesis</th>\n",
       "      <th>Crossfire X</th>\n",
       "      <th>Fable 4</th>\n",
       "    </tr>\n",
       "  </thead>\n",
       "  <tbody>\n",
       "    <tr>\n",
       "      <td>0</td>\n",
       "      <td>First</td>\n",
       "      <td>Neutral</td>\n",
       "      <td>0</td>\n",
       "      <td>0</td>\n",
       "      <td>0</td>\n",
       "      <td>0</td>\n",
       "      <td>0</td>\n",
       "      <td>0</td>\n",
       "      <td>0</td>\n",
       "      <td>0</td>\n",
       "      <td>0</td>\n",
       "      <td>0</td>\n",
       "      <td>0</td>\n",
       "      <td>0</td>\n",
       "      <td>0</td>\n",
       "      <td>0</td>\n",
       "      <td>0</td>\n",
       "      <td>0</td>\n",
       "      <td>0</td>\n",
       "      <td>0</td>\n",
       "    </tr>\n",
       "    <tr>\n",
       "      <td>1</td>\n",
       "      <td>bad</td>\n",
       "      <td>Negative</td>\n",
       "      <td>0</td>\n",
       "      <td>0</td>\n",
       "      <td>0</td>\n",
       "      <td>0</td>\n",
       "      <td>0</td>\n",
       "      <td>0</td>\n",
       "      <td>0</td>\n",
       "      <td>0</td>\n",
       "      <td>0</td>\n",
       "      <td>0</td>\n",
       "      <td>0</td>\n",
       "      <td>0</td>\n",
       "      <td>0</td>\n",
       "      <td>0</td>\n",
       "      <td>0</td>\n",
       "      <td>0</td>\n",
       "      <td>0</td>\n",
       "      <td>0</td>\n",
       "    </tr>\n",
       "    <tr>\n",
       "      <td>2</td>\n",
       "      <td>First</td>\n",
       "      <td>Neutral</td>\n",
       "      <td>0</td>\n",
       "      <td>0</td>\n",
       "      <td>0</td>\n",
       "      <td>0</td>\n",
       "      <td>0</td>\n",
       "      <td>0</td>\n",
       "      <td>0</td>\n",
       "      <td>0</td>\n",
       "      <td>0</td>\n",
       "      <td>0</td>\n",
       "      <td>0</td>\n",
       "      <td>0</td>\n",
       "      <td>0</td>\n",
       "      <td>0</td>\n",
       "      <td>0</td>\n",
       "      <td>0</td>\n",
       "      <td>0</td>\n",
       "      <td>0</td>\n",
       "    </tr>\n",
       "    <tr>\n",
       "      <td>3</td>\n",
       "      <td>First comment</td>\n",
       "      <td>Neutral</td>\n",
       "      <td>0</td>\n",
       "      <td>0</td>\n",
       "      <td>0</td>\n",
       "      <td>0</td>\n",
       "      <td>0</td>\n",
       "      <td>0</td>\n",
       "      <td>0</td>\n",
       "      <td>0</td>\n",
       "      <td>0</td>\n",
       "      <td>0</td>\n",
       "      <td>0</td>\n",
       "      <td>0</td>\n",
       "      <td>0</td>\n",
       "      <td>0</td>\n",
       "      <td>0</td>\n",
       "      <td>0</td>\n",
       "      <td>0</td>\n",
       "      <td>0</td>\n",
       "    </tr>\n",
       "    <tr>\n",
       "      <td>4</td>\n",
       "      <td>Hello</td>\n",
       "      <td>Neutral</td>\n",
       "      <td>0</td>\n",
       "      <td>0</td>\n",
       "      <td>0</td>\n",
       "      <td>0</td>\n",
       "      <td>0</td>\n",
       "      <td>0</td>\n",
       "      <td>0</td>\n",
       "      <td>0</td>\n",
       "      <td>0</td>\n",
       "      <td>0</td>\n",
       "      <td>0</td>\n",
       "      <td>0</td>\n",
       "      <td>0</td>\n",
       "      <td>0</td>\n",
       "      <td>0</td>\n",
       "      <td>0</td>\n",
       "      <td>0</td>\n",
       "      <td>0</td>\n",
       "    </tr>\n",
       "  </tbody>\n",
       "</table>\n",
       "</div>"
      ],
      "text/plain": [
       "  Text with games Sentiment - TVD  Halo  State of Decay 3  Forza Motorsport  \\\n",
       "0           First         Neutral     0                 0                 0   \n",
       "1             bad        Negative     0                 0                 0   \n",
       "2           First         Neutral     0                 0                 0   \n",
       "3   First comment         Neutral     0                 0                 0   \n",
       "4           Hello         Neutral     0                 0                 0   \n",
       "\n",
       "   Everwild  Tell Me Why  Outer Worlds: Peril on Gorgon  Grounded  Avowed  \\\n",
       "0         0            0                              0         0       0   \n",
       "1         0            0                              0         0       0   \n",
       "2         0            0                              0         0       0   \n",
       "3         0            0                              0         0       0   \n",
       "4         0            0                              0         0       0   \n",
       "\n",
       "   As Dusk Falls  Hellblade 2  Psychonauts 2  S.T.A.L.K.E.R. 2  \\\n",
       "0              0            0              0                 0   \n",
       "1              0            0              0                 0   \n",
       "2              0            0              0                 0   \n",
       "3              0            0              0                 0   \n",
       "4              0            0              0                 0   \n",
       "\n",
       "   Warhammer 40,000: Darktide  The Gunk  The Medium  \\\n",
       "0                           0         0           0   \n",
       "1                           0         0           0   \n",
       "2                           0         0           0   \n",
       "3                           0         0           0   \n",
       "4                           0         0           0   \n",
       "\n",
       "   Phantasy Star Online 2 New Genesis  Crossfire X  Fable 4  \n",
       "0                                   0            0        0  \n",
       "1                                   0            0        0  \n",
       "2                                   0            0        0  \n",
       "3                                   0            0        0  \n",
       "4                                   0            0        0  "
      ]
     },
     "execution_count": 99,
     "metadata": {},
     "output_type": "execute_result"
    }
   ],
   "source": [
    "Xbox_data_games.head()"
   ]
  },
  {
   "cell_type": "markdown",
   "metadata": {},
   "source": [
    "Number of times each Xbox game was mentioned in a comment:"
   ]
  },
  {
   "cell_type": "code",
   "execution_count": 100,
   "metadata": {},
   "outputs": [
    {
     "data": {
      "text/plain": [
       "Halo                                  257\n",
       "Fable 4                                84\n",
       "S.T.A.L.K.E.R. 2                       45\n",
       "State of Decay 3                       33\n",
       "Forza Motorsport                       31\n",
       "Everwild                               25\n",
       "Avowed                                 21\n",
       "Hellblade 2                            17\n",
       "The Medium                             16\n",
       "Crossfire X                            14\n",
       "Phantasy Star Online 2 New Genesis     11\n",
       "Psychonauts 2                          11\n",
       "Grounded                               10\n",
       "Tell Me Why                             8\n",
       "As Dusk Falls                           8\n",
       "Warhammer 40,000: Darktide              6\n",
       "The Gunk                                5\n",
       "Outer Worlds: Peril on Gorgon           4\n",
       "dtype: int64"
      ]
     },
     "execution_count": 100,
     "metadata": {},
     "output_type": "execute_result"
    }
   ],
   "source": [
    "Xbox_data_games.drop(['Text with games','Sentiment - TVD'],axis=1).sum().sort_values(ascending=False)"
   ]
  },
  {
   "cell_type": "markdown",
   "metadata": {},
   "source": [
    "Number of times each Xbox game was mentioned in a positive comment:"
   ]
  },
  {
   "cell_type": "code",
   "execution_count": 101,
   "metadata": {},
   "outputs": [
    {
     "data": {
      "text/plain": [
       "Halo                                  147\n",
       "Fable 4                                41\n",
       "S.T.A.L.K.E.R. 2                       20\n",
       "Everwild                               17\n",
       "Forza Motorsport                       15\n",
       "State of Decay 3                       15\n",
       "Avowed                                 13\n",
       "Hellblade 2                            10\n",
       "The Medium                              8\n",
       "Crossfire X                             8\n",
       "Phantasy Star Online 2 New Genesis      6\n",
       "Grounded                                6\n",
       "Psychonauts 2                           5\n",
       "As Dusk Falls                           5\n",
       "Warhammer 40,000: Darktide              4\n",
       "The Gunk                                2\n",
       "Outer Worlds: Peril on Gorgon           2\n",
       "Tell Me Why                             2\n",
       "dtype: int64"
      ]
     },
     "execution_count": 101,
     "metadata": {},
     "output_type": "execute_result"
    }
   ],
   "source": [
    "Xbox_data_games[Xbox_data_games['Sentiment - TVD']=='Positive'].drop(['Text with games','Sentiment - TVD'],axis=1).sum().sort_values(ascending=False)"
   ]
  },
  {
   "cell_type": "markdown",
   "metadata": {},
   "source": [
    "Number of times each Xbox game was mentioned in a negative comment:"
   ]
  },
  {
   "cell_type": "code",
   "execution_count": 102,
   "metadata": {},
   "outputs": [
    {
     "data": {
      "text/plain": [
       "Halo                                  57\n",
       "Fable 4                                8\n",
       "S.T.A.L.K.E.R. 2                       5\n",
       "Forza Motorsport                       5\n",
       "The Medium                             4\n",
       "State of Decay 3                       4\n",
       "Everwild                               2\n",
       "Psychonauts 2                          1\n",
       "Avowed                                 1\n",
       "Phantasy Star Online 2 New Genesis     0\n",
       "The Gunk                               0\n",
       "Warhammer 40,000: Darktide             0\n",
       "Hellblade 2                            0\n",
       "Crossfire X                            0\n",
       "Grounded                               0\n",
       "Outer Worlds: Peril on Gorgon          0\n",
       "Tell Me Why                            0\n",
       "As Dusk Falls                          0\n",
       "dtype: int64"
      ]
     },
     "execution_count": 102,
     "metadata": {},
     "output_type": "execute_result"
    }
   ],
   "source": [
    "Xbox_data_games[Xbox_data_games['Sentiment - TVD']=='Negative'].drop(['Text with games','Sentiment - TVD'],axis=1).sum().sort_values(ascending=False)"
   ]
  },
  {
   "cell_type": "markdown",
   "metadata": {},
   "source": [
    "### PS5"
   ]
  },
  {
   "cell_type": "code",
   "execution_count": 103,
   "metadata": {},
   "outputs": [],
   "source": [
    "PS5_games_dict = {'Final Fantasy XVI':'Final Fantasy XVI, Final Fantasy 16, Final Fantasy, FF16, FF 16, FFXVI, FF XVI',\n",
    "                 'Spider-Man Miles Morales':'Spider-Man Miles Morales, Spiderman Miles Morales, Spider man Miles Morales, Spiderman, Spider man, Miles Morales, Spiderman MM',\n",
    "                 'Hogwarts Legacy':'Hogwarts Legacy, HP Hogwarts Legacy, HP Hogwarts, Harry Potter, HPHL, HP HL, Hogwarts, Harrypotter, Potter',\n",
    "                 'Call of Duty Black Ops Cold War':'Call of Duty Black Ops Cold War, Call of Duty, Black Ops Cold War, Black Ops, Cold War, COD BO CW, COD BO, COD',\n",
    "                 'Resident Evil Village':'Resident Evil Village, Resident Evil, RE Village, Village',\n",
    "                 'Death Loop':'Death Loop, Deathloop',\n",
    "                 'Devil May Cry 5':'Devil May Cry 5 Special Edition, Devil May Cry 5, Devil May Cry, Devilmaycry, DMC5, DMC5 SE',\n",
    "                 'Oddworld Soulstorm':'Oddworld Soulstorm, Oddworld Soul Storm, Oddworld Soul System, Odd World Soul System, Soulstorm, Soul Storm, Oddworld, Odd world',\n",
    "                 'Five Nights at Freddys Security Breach':'Five Nights at Freddys Security Breach, Five Nights at Freddys, Freddys Security Breach, Freddy, FNFSB',\n",
    "                 'Demons Souls':'Demons Souls, Demon Souls, Demon Soul, Demons Soul',\n",
    "                 'Fortnite':'Fortnite',\n",
    "                 'Ragnarok':'God Of War Ragnarok, GoW Ragnarok, Ragnarok, God of War, GoW, GoWR'}"
   ]
  },
  {
   "cell_type": "code",
   "execution_count": 104,
   "metadata": {},
   "outputs": [],
   "source": [
    "PS5_data_games = pd.DataFrame(PS5_data[['Text with games','Sentiment - TVD']])"
   ]
  },
  {
   "cell_type": "code",
   "execution_count": 105,
   "metadata": {},
   "outputs": [],
   "source": [
    "#Initializing new columns for each game\n",
    "for k in list(PS5_games_dict):\n",
    "    PS5_data_games[k]=''"
   ]
  },
  {
   "cell_type": "code",
   "execution_count": 106,
   "metadata": {},
   "outputs": [],
   "source": [
    "for i in range(0,len(PS5_data_games)):\n",
    "    for j in list(PS5_games_dict):\n",
    "        if any(word.lower() in PS5_data_games['Text with games'].loc[i].lower() for word in PS5_games_dict[j].split(', ')):\n",
    "            PS5_data_games[j].loc[i] = 1\n",
    "        else:\n",
    "            PS5_data_games[j].loc[i] = 0"
   ]
  },
  {
   "cell_type": "markdown",
   "metadata": {},
   "source": [
    "Number of times each PS5 game was mentioned in a comment:"
   ]
  },
  {
   "cell_type": "code",
   "execution_count": 107,
   "metadata": {},
   "outputs": [
    {
     "data": {
      "text/plain": [
       "Spider-Man Miles Morales                  207\n",
       "Hogwarts Legacy                           146\n",
       "Final Fantasy XVI                         142\n",
       "Call of Duty Black Ops Cold War           116\n",
       "Ragnarok                                  103\n",
       "Demons Souls                               83\n",
       "Fortnite                                   78\n",
       "Five Nights at Freddys Security Breach     31\n",
       "Resident Evil Village                      23\n",
       "Devil May Cry 5                            22\n",
       "Death Loop                                 21\n",
       "Oddworld Soulstorm                         15\n",
       "dtype: int64"
      ]
     },
     "execution_count": 107,
     "metadata": {},
     "output_type": "execute_result"
    }
   ],
   "source": [
    "PS5_data_games.drop(['Text with games','Sentiment - TVD'],axis=1).sum().sort_values(ascending=False)"
   ]
  },
  {
   "cell_type": "markdown",
   "metadata": {},
   "source": [
    "Number of times each PS5 game was mentioned in a positive comment:"
   ]
  },
  {
   "cell_type": "code",
   "execution_count": 108,
   "metadata": {},
   "outputs": [
    {
     "data": {
      "text/plain": [
       "Spider-Man Miles Morales                  81\n",
       "Hogwarts Legacy                           62\n",
       "Call of Duty Black Ops Cold War           59\n",
       "Final Fantasy XVI                         58\n",
       "Demons Souls                              35\n",
       "Ragnarok                                  27\n",
       "Fortnite                                  27\n",
       "Devil May Cry 5                           18\n",
       "Resident Evil Village                     14\n",
       "Death Loop                                12\n",
       "Five Nights at Freddys Security Breach     9\n",
       "Oddworld Soulstorm                         6\n",
       "dtype: int64"
      ]
     },
     "execution_count": 108,
     "metadata": {},
     "output_type": "execute_result"
    }
   ],
   "source": [
    "PS5_data_games[PS5_data_games['Sentiment - TVD']=='Positive'].drop(['Text with games','Sentiment - TVD'],axis=1).sum().sort_values(ascending=False)"
   ]
  },
  {
   "cell_type": "markdown",
   "metadata": {},
   "source": [
    "Number of times each PS5 game was mentioned in a negative comment:"
   ]
  },
  {
   "cell_type": "code",
   "execution_count": 109,
   "metadata": {},
   "outputs": [
    {
     "data": {
      "text/plain": [
       "Call of Duty Black Ops Cold War           25\n",
       "Hogwarts Legacy                           22\n",
       "Spider-Man Miles Morales                  22\n",
       "Fortnite                                  18\n",
       "Demons Souls                              18\n",
       "Ragnarok                                  16\n",
       "Final Fantasy XVI                         12\n",
       "Oddworld Soulstorm                         3\n",
       "Five Nights at Freddys Security Breach     2\n",
       "Death Loop                                 1\n",
       "Resident Evil Village                      1\n",
       "Devil May Cry 5                            0\n",
       "dtype: int64"
      ]
     },
     "execution_count": 109,
     "metadata": {},
     "output_type": "execute_result"
    }
   ],
   "source": [
    "PS5_data_games[PS5_data_games['Sentiment - TVD']=='Negative'].drop(['Text with games','Sentiment - TVD'],axis=1).sum().sort_values(ascending=False)"
   ]
  },
  {
   "cell_type": "markdown",
   "metadata": {},
   "source": [
    "# Most used words"
   ]
  },
  {
   "cell_type": "markdown",
   "metadata": {},
   "source": [
    "### Xbox"
   ]
  },
  {
   "cell_type": "code",
   "execution_count": 110,
   "metadata": {},
   "outputs": [],
   "source": [
    "Xbox_data_words = Xbox_data['Text clean']"
   ]
  },
  {
   "cell_type": "code",
   "execution_count": 111,
   "metadata": {},
   "outputs": [
    {
     "name": "stdout",
     "output_type": "stream",
     "text": [
      "There are 3152 unique words.\n"
     ]
    }
   ],
   "source": [
    "from collections import Counter\n",
    "\n",
    "c = Counter(' '.join(Xbox_data_words).split())\n",
    "\n",
    "print(\"There are {} unique words.\".format(len(c)))\n",
    "\n",
    "Xbox_data_words_count = pd.DataFrame(columns=['word','count'])\n",
    "for k, v in c.items():\n",
    "    Xbox_data_words_count=Xbox_data_words_count.append({'word':k,'count':v},ignore_index=True).sort_values(by='count',ascending=False)"
   ]
  },
  {
   "cell_type": "code",
   "execution_count": 112,
   "metadata": {},
   "outputs": [
    {
     "data": {
      "text/html": [
       "<div>\n",
       "<style scoped>\n",
       "    .dataframe tbody tr th:only-of-type {\n",
       "        vertical-align: middle;\n",
       "    }\n",
       "\n",
       "    .dataframe tbody tr th {\n",
       "        vertical-align: top;\n",
       "    }\n",
       "\n",
       "    .dataframe thead th {\n",
       "        text-align: right;\n",
       "    }\n",
       "</style>\n",
       "<table border=\"1\" class=\"dataframe\">\n",
       "  <thead>\n",
       "    <tr style=\"text-align: right;\">\n",
       "      <th></th>\n",
       "      <th>word</th>\n",
       "      <th>count</th>\n",
       "    </tr>\n",
       "  </thead>\n",
       "  <tbody>\n",
       "    <tr>\n",
       "      <td>0</td>\n",
       "      <td>game</td>\n",
       "      <td>379</td>\n",
       "    </tr>\n",
       "    <tr>\n",
       "      <td>1</td>\n",
       "      <td>look</td>\n",
       "      <td>320</td>\n",
       "    </tr>\n",
       "    <tr>\n",
       "      <td>2</td>\n",
       "      <td>xbox</td>\n",
       "      <td>318</td>\n",
       "    </tr>\n",
       "    <tr>\n",
       "      <td>3</td>\n",
       "      <td>like</td>\n",
       "      <td>202</td>\n",
       "    </tr>\n",
       "    <tr>\n",
       "      <td>4</td>\n",
       "      <td>ps5</td>\n",
       "      <td>163</td>\n",
       "    </tr>\n",
       "  </tbody>\n",
       "</table>\n",
       "</div>"
      ],
      "text/plain": [
       "   word count\n",
       "0  game   379\n",
       "1  look   320\n",
       "2  xbox   318\n",
       "3  like   202\n",
       "4   ps5   163"
      ]
     },
     "execution_count": 112,
     "metadata": {},
     "output_type": "execute_result"
    }
   ],
   "source": [
    "Xbox_data_words_count.head()"
   ]
  },
  {
   "cell_type": "markdown",
   "metadata": {},
   "source": [
    "### PS5"
   ]
  },
  {
   "cell_type": "code",
   "execution_count": 113,
   "metadata": {},
   "outputs": [],
   "source": [
    "PS5_data_words = PS5_data['Text clean']"
   ]
  },
  {
   "cell_type": "code",
   "execution_count": 114,
   "metadata": {},
   "outputs": [
    {
     "name": "stdout",
     "output_type": "stream",
     "text": [
      "There are 6827 unique words.\n"
     ]
    }
   ],
   "source": [
    "from collections import Counter\n",
    "\n",
    "c = Counter(' '.join(PS5_data_words).split())\n",
    "\n",
    "print(\"There are {} unique words.\".format(len(c)))\n",
    "\n",
    "PS5_data_words_count = pd.DataFrame(columns=['word','count'])\n",
    "for k, v in c.items():\n",
    "    PS5_data_words_count=PS5_data_words_count.append({'word':k,'count':v},ignore_index=True).sort_values(by='count',ascending=False)"
   ]
  },
  {
   "cell_type": "code",
   "execution_count": 115,
   "metadata": {},
   "outputs": [
    {
     "data": {
      "text/html": [
       "<div>\n",
       "<style scoped>\n",
       "    .dataframe tbody tr th:only-of-type {\n",
       "        vertical-align: middle;\n",
       "    }\n",
       "\n",
       "    .dataframe tbody tr th {\n",
       "        vertical-align: top;\n",
       "    }\n",
       "\n",
       "    .dataframe thead th {\n",
       "        text-align: right;\n",
       "    }\n",
       "</style>\n",
       "<table border=\"1\" class=\"dataframe\">\n",
       "  <thead>\n",
       "    <tr style=\"text-align: right;\">\n",
       "      <th></th>\n",
       "      <th>word</th>\n",
       "      <th>count</th>\n",
       "    </tr>\n",
       "  </thead>\n",
       "  <tbody>\n",
       "    <tr>\n",
       "      <td>0</td>\n",
       "      <td>game</td>\n",
       "      <td>1135</td>\n",
       "    </tr>\n",
       "    <tr>\n",
       "      <td>1</td>\n",
       "      <td>ps5</td>\n",
       "      <td>821</td>\n",
       "    </tr>\n",
       "    <tr>\n",
       "      <td>2</td>\n",
       "      <td>get</td>\n",
       "      <td>563</td>\n",
       "    </tr>\n",
       "    <tr>\n",
       "      <td>3</td>\n",
       "      <td>xbox</td>\n",
       "      <td>561</td>\n",
       "    </tr>\n",
       "    <tr>\n",
       "      <td>4</td>\n",
       "      <td>like</td>\n",
       "      <td>455</td>\n",
       "    </tr>\n",
       "  </tbody>\n",
       "</table>\n",
       "</div>"
      ],
      "text/plain": [
       "   word count\n",
       "0  game  1135\n",
       "1   ps5   821\n",
       "2   get   563\n",
       "3  xbox   561\n",
       "4  like   455"
      ]
     },
     "execution_count": 115,
     "metadata": {},
     "output_type": "execute_result"
    }
   ],
   "source": [
    "PS5_data_words_count.head()"
   ]
  },
  {
   "cell_type": "code",
   "execution_count": null,
   "metadata": {},
   "outputs": [],
   "source": []
  }
 ],
 "metadata": {
  "kernelspec": {
   "display_name": "Python 3",
   "language": "python",
   "name": "python3"
  },
  "language_info": {
   "codemirror_mode": {
    "name": "ipython",
    "version": 3
   },
   "file_extension": ".py",
   "mimetype": "text/x-python",
   "name": "python",
   "nbconvert_exporter": "python",
   "pygments_lexer": "ipython3",
   "version": "3.7.4"
  }
 },
 "nbformat": 4,
 "nbformat_minor": 2
}
